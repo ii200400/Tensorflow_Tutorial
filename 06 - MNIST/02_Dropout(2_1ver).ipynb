{
  "nbformat": 4,
  "nbformat_minor": 0,
  "metadata": {
    "colab": {
      "name": "02.Dropout(2.1ver).ipynb",
      "provenance": [],
      "collapsed_sections": [],
      "mount_file_id": "1s2FkyGPWksp7gmjdSbTJdeQCySPht5C5",
      "authorship_tag": "ABX9TyMW9BpvWQqZq9BpdPKWRkfE",
      "include_colab_link": true
    },
    "kernelspec": {
      "name": "python3",
      "display_name": "Python 3"
    }
  },
  "cells": [
    {
      "cell_type": "markdown",
      "metadata": {
        "id": "view-in-github",
        "colab_type": "text"
      },
      "source": [
        "<a href=\"https://colab.research.google.com/github/ii200400/Tensorflow_Tutorial/blob/master/06%20-%20MNIST/02_Dropout(2_1ver).ipynb\" target=\"_parent\"><img src=\"https://colab.research.google.com/assets/colab-badge.svg\" alt=\"Open In Colab\"/></a>"
      ]
    },
    {
      "cell_type": "markdown",
      "metadata": {
        "id": "0Tn2j1qD5ned",
        "colab_type": "text"
      },
      "source": [
        "# 개요\n",
        "\n",
        "과적합 방지 기법을 알아보자."
      ]
    },
    {
      "cell_type": "code",
      "metadata": {
        "id": "HsajtxhB5r7-",
        "colab_type": "code",
        "colab": {
          "base_uri": "https://localhost:8080/",
          "height": 34
        },
        "outputId": "64b3fe65-6bb8-4585-8020-c42c50ade8b9"
      },
      "source": [
        "%tensorflow_version 2.x\n",
        "import tensorflow as tf"
      ],
      "execution_count": null,
      "outputs": [
        {
          "output_type": "stream",
          "text": [
            "TensorFlow 2.x selected.\n"
          ],
          "name": "stdout"
        }
      ]
    },
    {
      "cell_type": "markdown",
      "metadata": {
        "id": "5ZYHu4SS5rat",
        "colab_type": "text"
      },
      "source": [
        "## 데이터 정의"
      ]
    },
    {
      "cell_type": "code",
      "metadata": {
        "id": "xag1gAtr5xaE",
        "colab_type": "code",
        "colab": {
          "base_uri": "https://localhost:8080/",
          "height": 52
        },
        "outputId": "efe079d6-e3c4-4746-eb2c-9918618af303"
      },
      "source": [
        "# MNIST 데이터셋을 케라스 함수로 받아온다.\n",
        "mnist = tf.keras.datasets.mnist\n",
        "\n",
        "(x_train, y_train), (x_test, y_test) = mnist.load_data()\n",
        "\n",
        "# flattening하고 샘플 값을 정수에서 부동소수로 바꾼다.\n",
        "x_train = x_train.reshape(60000, 784).astype('float32') / 255\n",
        "x_test = x_test.reshape(10000, 784).astype('float32') / 255\n",
        "\n",
        "# 레이블 데이터에 one-hot encoding을 적용한다.\n",
        "y_train, y_test = tf.one_hot(y_train, depth=10).numpy(), tf.one_hot(y_test, depth=10).numpy()"
      ],
      "execution_count": null,
      "outputs": [
        {
          "output_type": "stream",
          "text": [
            "Downloading data from https://storage.googleapis.com/tensorflow/tf-keras-datasets/mnist.npz\n",
            "11493376/11490434 [==============================] - 0s 0us/step\n"
          ],
          "name": "stdout"
        }
      ]
    },
    {
      "cell_type": "markdown",
      "metadata": {
        "id": "9eYT2_005_Vp",
        "colab_type": "text"
      },
      "source": [
        "### 모델 구성"
      ]
    },
    {
      "cell_type": "markdown",
      "metadata": {
        "id": "xbL_tTX96Ayc",
        "colab_type": "text"
      },
      "source": [
        "### 신경망 정의"
      ]
    },
    {
      "cell_type": "code",
      "metadata": {
        "id": "RKgNCDC_6C3b",
        "colab_type": "code",
        "colab": {
          "base_uri": "https://localhost:8080/",
          "height": 296
        },
        "outputId": "9c1fb398-c0ea-4af5-b4d3-35dd10063a37"
      },
      "source": [
        "def make_model():\n",
        "  model = tf.keras.models.Sequential([\n",
        "    tf.keras.layers.Dense(256, activation=tf.nn.relu, use_bias=False, input_shape=(784,)),\n",
        "    # 사용자가 넣은 확률만큼 랜덤으로 신경망에 적용시키지 않을 뉴런을 결정한다.\n",
        "    tf.keras.layers.Dropout(0.2),\n",
        "    tf.keras.layers.Dense(256, activation=tf.nn.relu, use_bias=False),\n",
        "    tf.keras.layers.Dense(10, activation=tf.nn.softmax, use_bias=False)\n",
        "  ])\n",
        "\n",
        "  return model\n",
        "\n",
        "model = make_model()\n",
        "\n",
        "model.summary()"
      ],
      "execution_count": null,
      "outputs": [
        {
          "output_type": "stream",
          "text": [
            "Model: \"sequential_1\"\n",
            "_________________________________________________________________\n",
            "Layer (type)                 Output Shape              Param #   \n",
            "=================================================================\n",
            "dense_3 (Dense)              (None, 256)               200704    \n",
            "_________________________________________________________________\n",
            "dropout_1 (Dropout)          (None, 256)               0         \n",
            "_________________________________________________________________\n",
            "dense_4 (Dense)              (None, 256)               65536     \n",
            "_________________________________________________________________\n",
            "dense_5 (Dense)              (None, 10)                2560      \n",
            "=================================================================\n",
            "Total params: 268,800\n",
            "Trainable params: 268,800\n",
            "Non-trainable params: 0\n",
            "_________________________________________________________________\n"
          ],
          "name": "stdout"
        }
      ]
    },
    {
      "cell_type": "markdown",
      "metadata": {
        "id": "cDdTgVmyL-fQ",
        "colab_type": "text"
      },
      "source": [
        "### 최적화 / 손실 클래스 선택"
      ]
    },
    {
      "cell_type": "code",
      "metadata": {
        "id": "2Ej2i5vYOKdc",
        "colab_type": "code",
        "colab": {}
      },
      "source": [
        "model.compile(optimizer=tf.keras.optimizers.Adam(0.001), \n",
        "              loss='categorical_crossentropy',\n",
        "              metrics=['accuracy'])"
      ],
      "execution_count": null,
      "outputs": []
    },
    {
      "cell_type": "markdown",
      "metadata": {
        "id": "G9j-WXHgQSzP",
        "colab_type": "text"
      },
      "source": [
        "### 모델 훈련"
      ]
    },
    {
      "cell_type": "code",
      "metadata": {
        "id": "6bBRFO5iQVHN",
        "colab_type": "code",
        "colab": {
          "base_uri": "https://localhost:8080/",
          "height": 1000
        },
        "outputId": "9569e4cf-d04d-48be-9a14-9532067e1100"
      },
      "source": [
        "batch_size = 100\n",
        "epoch = 30\n",
        "\n",
        "model.fit(x=x_train, \n",
        "          y=y_train,\n",
        "          batch_size=batch_size,\n",
        "          epochs=epoch)"
      ],
      "execution_count": null,
      "outputs": [
        {
          "output_type": "stream",
          "text": [
            "Train on 60000 samples\n",
            "Epoch 1/30\n",
            "60000/60000 [==============================] - 4s 70us/sample - loss: 0.2733 - accuracy: 0.9196\n",
            "Epoch 2/30\n",
            "60000/60000 [==============================] - 4s 64us/sample - loss: 0.1140 - accuracy: 0.9652\n",
            "Epoch 3/30\n",
            "60000/60000 [==============================] - 4s 64us/sample - loss: 0.0826 - accuracy: 0.9740\n",
            "Epoch 4/30\n",
            "60000/60000 [==============================] - 4s 62us/sample - loss: 0.0663 - accuracy: 0.9791\n",
            "Epoch 5/30\n",
            "60000/60000 [==============================] - 4s 63us/sample - loss: 0.0546 - accuracy: 0.9821\n",
            "Epoch 6/30\n",
            "60000/60000 [==============================] - 4s 65us/sample - loss: 0.0474 - accuracy: 0.9844\n",
            "Epoch 7/30\n",
            "60000/60000 [==============================] - 4s 65us/sample - loss: 0.0410 - accuracy: 0.9863\n",
            "Epoch 8/30\n",
            "60000/60000 [==============================] - 3s 58us/sample - loss: 0.0343 - accuracy: 0.9885\n",
            "Epoch 9/30\n",
            "60000/60000 [==============================] - 4s 59us/sample - loss: 0.0345 - accuracy: 0.9883\n",
            "Epoch 10/30\n",
            "60000/60000 [==============================] - 4s 63us/sample - loss: 0.0288 - accuracy: 0.9904\n",
            "Epoch 11/30\n",
            "60000/60000 [==============================] - 4s 62us/sample - loss: 0.0282 - accuracy: 0.9905\n",
            "Epoch 12/30\n",
            "60000/60000 [==============================] - 4s 60us/sample - loss: 0.0238 - accuracy: 0.9919\n",
            "Epoch 13/30\n",
            "60000/60000 [==============================] - 4s 63us/sample - loss: 0.0239 - accuracy: 0.9917\n",
            "Epoch 14/30\n",
            "60000/60000 [==============================] - 4s 62us/sample - loss: 0.0213 - accuracy: 0.9925\n",
            "Epoch 15/30\n",
            "60000/60000 [==============================] - 4s 62us/sample - loss: 0.0208 - accuracy: 0.9928\n",
            "Epoch 16/30\n",
            "60000/60000 [==============================] - 4s 63us/sample - loss: 0.0221 - accuracy: 0.9922\n",
            "Epoch 17/30\n",
            "60000/60000 [==============================] - 4s 62us/sample - loss: 0.0197 - accuracy: 0.9933\n",
            "Epoch 18/30\n",
            "60000/60000 [==============================] - 4s 62us/sample - loss: 0.0191 - accuracy: 0.9937\n",
            "Epoch 19/30\n",
            "60000/60000 [==============================] - 4s 64us/sample - loss: 0.0192 - accuracy: 0.9938\n",
            "Epoch 20/30\n",
            "60000/60000 [==============================] - 4s 64us/sample - loss: 0.0192 - accuracy: 0.9935\n",
            "Epoch 21/30\n",
            "60000/60000 [==============================] - 4s 68us/sample - loss: 0.0142 - accuracy: 0.9951\n",
            "Epoch 22/30\n",
            "60000/60000 [==============================] - 4s 64us/sample - loss: 0.0146 - accuracy: 0.9949\n",
            "Epoch 23/30\n",
            "60000/60000 [==============================] - 4s 67us/sample - loss: 0.0158 - accuracy: 0.9948\n",
            "Epoch 24/30\n",
            "60000/60000 [==============================] - 4s 60us/sample - loss: 0.0160 - accuracy: 0.9945\n",
            "Epoch 25/30\n",
            "60000/60000 [==============================] - 4s 58us/sample - loss: 0.0147 - accuracy: 0.9951\n",
            "Epoch 26/30\n",
            "60000/60000 [==============================] - 4s 62us/sample - loss: 0.0135 - accuracy: 0.9957\n",
            "Epoch 27/30\n",
            "60000/60000 [==============================] - 4s 62us/sample - loss: 0.0123 - accuracy: 0.9959\n",
            "Epoch 28/30\n",
            "60000/60000 [==============================] - 4s 59us/sample - loss: 0.0125 - accuracy: 0.9959\n",
            "Epoch 29/30\n",
            "60000/60000 [==============================] - 4s 63us/sample - loss: 0.0141 - accuracy: 0.9956\n",
            "Epoch 30/30\n",
            "60000/60000 [==============================] - 4s 63us/sample - loss: 0.0130 - accuracy: 0.9956\n"
          ],
          "name": "stdout"
        },
        {
          "output_type": "execute_result",
          "data": {
            "text/plain": [
              "<tensorflow.python.keras.callbacks.History at 0x7f877f7b4198>"
            ]
          },
          "metadata": {
            "tags": []
          },
          "execution_count": 5
        }
      ]
    },
    {
      "cell_type": "markdown",
      "metadata": {
        "id": "_7pkVaasQWAt",
        "colab_type": "text"
      },
      "source": [
        "### 모델 테스트"
      ]
    },
    {
      "cell_type": "code",
      "metadata": {
        "id": "-CXID96VQZay",
        "colab_type": "code",
        "colab": {
          "base_uri": "https://localhost:8080/",
          "height": 52
        },
        "outputId": "b44c1561-1328-4096-b23e-bfd60d4d57a7"
      },
      "source": [
        "model.evaluate(x=x_test,\n",
        "               y=y_test,\n",
        "               batch_size=batch_size)"
      ],
      "execution_count": null,
      "outputs": [
        {
          "output_type": "stream",
          "text": [
            "10000/10000 [==============================] - 0s 35us/sample - loss: 0.0863 - accuracy: 0.9830\n"
          ],
          "name": "stdout"
        },
        {
          "output_type": "execute_result",
          "data": {
            "text/plain": [
              "[0.08634935715298099, 0.983]"
            ]
          },
          "metadata": {
            "tags": []
          },
          "execution_count": 6
        }
      ]
    },
    {
      "cell_type": "markdown",
      "metadata": {
        "id": "9VhvWazHqDdi",
        "colab_type": "text"
      },
      "source": [
        "## 추가 사항"
      ]
    },
    {
      "cell_type": "markdown",
      "metadata": {
        "id": "fZkMLN_tQZ1S",
        "colab_type": "text"
      },
      "source": [
        "### 1. matplot 모델 테스트\n",
        "\n",
        "matplot의 사용방법은 따로 배워야 한다.\\\n",
        "간단하게 주석으로 설명을 남기겠다."
      ]
    },
    {
      "cell_type": "code",
      "metadata": {
        "id": "zka9MlukQcNw",
        "colab_type": "code",
        "colab": {
          "base_uri": "https://localhost:8080/",
          "height": 227
        },
        "outputId": "b8b985d5-34f4-4918-8572-6accba42d87f"
      },
      "source": [
        "import matplotlib.pyplot as plt\n",
        "\n",
        "# 직접 이미지를 10개씩만 골라서 예측을 어떻게 할 것인지 보겠다.\n",
        "# 만약 다른 이미지를 예측하는 것을 보고 싶다면 간단하게 num의 숫자만 바꾸면 된다.\n",
        "num = 3\n",
        "images = x_train[10*num:10*(num+1)]\n",
        "predicts = tf.argmax(model(images), 1)\n",
        "\n",
        "# 이미지 윈도우를 만들고 그것을 편집할 수 있게 만들어주는 함수\n",
        "fig = plt.figure()\n",
        "for i in range(10):\n",
        "  # [2,5]로 구획을 나누고 그중 i+1번째의 위치에 작은 창을 만든다.\n",
        "  subplot = fig.add_subplot(2, 5, i + 1)\n",
        "  # 해당 창의 가로 세로 눈금을 지정하는데 여기서는 지정해주지 않았다.\n",
        "  subplot.set_xticks([])\n",
        "  subplot.set_yticks([])\n",
        "  # 모델이 예측한 숫자를 보여준다.\n",
        "  subplot.set_title('%d' % predicts[i])\n",
        "  # 예측할 때 사용한 이미지를 흑백으로 보여준다.\n",
        "  subplot.imshow(images[i].reshape((28, 28)),\n",
        "                  cmap=plt.cm.gray_r)"
      ],
      "execution_count": null,
      "outputs": [
        {
          "output_type": "display_data",
          "data": {
            "image/png": "[encoded data removed]",
            "text/plain": [
              "<Figure size 432x288 with 10 Axes>"
            ]
          },
          "metadata": {
            "tags": []
          }
        }
      ]
    },
    {
      "cell_type": "markdown",
      "metadata": {
        "id": "QU_sP4wJqLq9",
        "colab_type": "text"
      },
      "source": [
        "### 3. 모델 저장 및 불러오기 + 비용 그래프 그리기\n",
        "\n",
        "모델을 저장하는 방법은 크게 3가지가 있는 것 같다.\n",
        "\n",
        "1. tf.keras.callbacks.ModelCheckpoint()\\\n",
        "훈련 중간과 훈련 마지막에 체크포인트(checkpoint)를 자동으로 저장하도록 하는 방법이다.\\\n",
        "model.fit의 매개변수로 넣어주면 알아서 채크포인트를 만든다.\n",
        "2. model.save()\\\n",
        "모델의 그래프와 가중치, 기타 옵션(최적화 함수 등)을 모두 저장하는 방식\n",
        "3. model.save_weight()\\\n",
        "모델의 가중치만 저장하는 방식, 당연히 파일이 더 가볍다.\\\n",
        "대신 load 후 다시 model.compile()을 해야한다."
      ]
    },
    {
      "cell_type": "markdown",
      "metadata": {
        "id": "n2UQrdvKfYM8",
        "colab_type": "text"
      },
      "source": [
        "#### 3-1. tf.keras.callbacks.ModelCheckpoint"
      ]
    },
    {
      "cell_type": "code",
      "metadata": {
        "id": "vHPvKnN6fdwR",
        "colab_type": "code",
        "colab": {
          "base_uri": "https://localhost:8080/",
          "height": 1000
        },
        "outputId": "0a3d40db-01b4-4aca-f651-9fc62def29dc"
      },
      "source": [
        "checkpoint_path = 'drive/My Drive/Colab Notebooks/3분 딥러닝 텐서플로맛/06 - MNIST/saved checkpoint'\n",
        "checkpoint_name = checkpoint_path + '/cp-{epoch:04d}.ckpt'\n",
        "\n",
        "# 새로운 모델을 만들고 \n",
        "new_model = make_model()\n",
        "new_model.compile(optimizer=tf.keras.optimizers.Adam(0.001), \n",
        "                  loss='categorical_crossentropy',\n",
        "                  metrics=['accuracy'])\n",
        "\n",
        "# callback함수도 정의한 후에\n",
        "cp_callback = tf.keras.callbacks.ModelCheckpoint(\n",
        "    checkpoint_name, verbose=1, save_weights_only=True,\n",
        "    # 다섯 번째 에포크마다 가중치를 저장한다!\n",
        "    period=5)\n",
        "\n",
        "# callback함수를 활용하여 checkpoint 자동생성을 시켜본다.\n",
        "batch_size = 100\n",
        "epoch = 30\n",
        "\n",
        "new_model.fit(x=x_train, \n",
        "              y=y_train,\n",
        "              batch_size=batch_size,\n",
        "              epochs=epoch,\n",
        "              callbacks=[cp_callback])\n",
        "\n",
        "loss, acc = new_model.evaluate(x_test,  y_test, verbose=2)\n",
        "print(\"저장된 모델의 정확도: {:5.2f}%\".format(100*acc))"
      ],
      "execution_count": null,
      "outputs": [
        {
          "output_type": "stream",
          "text": [
            "WARNING:tensorflow:`period` argument is deprecated. Please use `save_freq` to specify the frequency in number of samples seen.\n",
            "Train on 60000 samples\n",
            "Epoch 1/30\n",
            "60000/60000 [==============================] - 4s 65us/sample - loss: 0.2744 - accuracy: 0.9193\n",
            "Epoch 2/30\n",
            "60000/60000 [==============================] - 4s 68us/sample - loss: 0.1134 - accuracy: 0.9653\n",
            "Epoch 3/30\n",
            "60000/60000 [==============================] - 4s 59us/sample - loss: 0.0826 - accuracy: 0.9738\n",
            "Epoch 4/30\n",
            "60000/60000 [==============================] - 3s 58us/sample - loss: 0.0643 - accuracy: 0.9787\n",
            "Epoch 5/30\n",
            "59500/60000 [============================>.] - ETA: 0s - loss: 0.0540 - accuracy: 0.9827\n",
            "Epoch 00005: saving model to drive/My Drive/Colab Notebooks/3분 딥러닝 텐서플로맛/06 - MNIST/saved checkpoint/cp-0005.ckpt\n",
            "60000/60000 [==============================] - 5s 80us/sample - loss: 0.0540 - accuracy: 0.9827\n",
            "Epoch 6/30\n",
            "60000/60000 [==============================] - 4s 59us/sample - loss: 0.0462 - accuracy: 0.9854\n",
            "Epoch 7/30\n",
            "60000/60000 [==============================] - 4s 63us/sample - loss: 0.0396 - accuracy: 0.9868\n",
            "Epoch 8/30\n",
            "60000/60000 [==============================] - 4s 64us/sample - loss: 0.0351 - accuracy: 0.9881\n",
            "Epoch 9/30\n",
            "60000/60000 [==============================] - 4s 60us/sample - loss: 0.0325 - accuracy: 0.9891\n",
            "Epoch 10/30\n",
            "59300/60000 [============================>.] - ETA: 0s - loss: 0.0294 - accuracy: 0.9901\n",
            "Epoch 00010: saving model to drive/My Drive/Colab Notebooks/3분 딥러닝 텐서플로맛/06 - MNIST/saved checkpoint/cp-0010.ckpt\n",
            "60000/60000 [==============================] - 4s 66us/sample - loss: 0.0294 - accuracy: 0.9901\n",
            "Epoch 11/30\n",
            "60000/60000 [==============================] - 4s 62us/sample - loss: 0.0256 - accuracy: 0.9910\n",
            "Epoch 12/30\n",
            "60000/60000 [==============================] - 4s 65us/sample - loss: 0.0250 - accuracy: 0.9913\n",
            "Epoch 13/30\n",
            "60000/60000 [==============================] - 4s 64us/sample - loss: 0.0224 - accuracy: 0.9922\n",
            "Epoch 14/30\n",
            "60000/60000 [==============================] - 4s 59us/sample - loss: 0.0235 - accuracy: 0.9922\n",
            "Epoch 15/30\n",
            "59400/60000 [============================>.] - ETA: 0s - loss: 0.0220 - accuracy: 0.9924\n",
            "Epoch 00015: saving model to drive/My Drive/Colab Notebooks/3분 딥러닝 텐서플로맛/06 - MNIST/saved checkpoint/cp-0015.ckpt\n",
            "60000/60000 [==============================] - 4s 69us/sample - loss: 0.0221 - accuracy: 0.9924\n",
            "Epoch 16/30\n",
            "60000/60000 [==============================] - 4s 63us/sample - loss: 0.0191 - accuracy: 0.9934\n",
            "Epoch 17/30\n",
            "60000/60000 [==============================] - 4s 62us/sample - loss: 0.0188 - accuracy: 0.9935\n",
            "Epoch 18/30\n",
            "60000/60000 [==============================] - 4s 64us/sample - loss: 0.0203 - accuracy: 0.9931\n",
            "Epoch 19/30\n",
            "60000/60000 [==============================] - 4s 68us/sample - loss: 0.0183 - accuracy: 0.9941\n",
            "Epoch 20/30\n",
            "59200/60000 [============================>.] - ETA: 0s - loss: 0.0167 - accuracy: 0.9942\n",
            "Epoch 00020: saving model to drive/My Drive/Colab Notebooks/3분 딥러닝 텐서플로맛/06 - MNIST/saved checkpoint/cp-0020.ckpt\n",
            "60000/60000 [==============================] - 4s 71us/sample - loss: 0.0169 - accuracy: 0.9941\n",
            "Epoch 21/30\n",
            "60000/60000 [==============================] - 4s 63us/sample - loss: 0.0163 - accuracy: 0.9947\n",
            "Epoch 22/30\n",
            "60000/60000 [==============================] - 4s 63us/sample - loss: 0.0161 - accuracy: 0.9945\n",
            "Epoch 23/30\n",
            "60000/60000 [==============================] - 4s 65us/sample - loss: 0.0145 - accuracy: 0.9948\n",
            "Epoch 24/30\n",
            "60000/60000 [==============================] - 4s 63us/sample - loss: 0.0156 - accuracy: 0.9948\n",
            "Epoch 25/30\n",
            "59500/60000 [============================>.] - ETA: 0s - loss: 0.0160 - accuracy: 0.9950\n",
            "Epoch 00025: saving model to drive/My Drive/Colab Notebooks/3분 딥러닝 텐서플로맛/06 - MNIST/saved checkpoint/cp-0025.ckpt\n",
            "60000/60000 [==============================] - 4s 65us/sample - loss: 0.0160 - accuracy: 0.9950\n",
            "Epoch 26/30\n",
            "60000/60000 [==============================] - 4s 63us/sample - loss: 0.0131 - accuracy: 0.9954\n",
            "Epoch 27/30\n",
            "60000/60000 [==============================] - 4s 63us/sample - loss: 0.0141 - accuracy: 0.9951\n",
            "Epoch 28/30\n",
            "60000/60000 [==============================] - 4s 63us/sample - loss: 0.0120 - accuracy: 0.9960\n",
            "Epoch 29/30\n",
            "60000/60000 [==============================] - 4s 61us/sample - loss: 0.0116 - accuracy: 0.9959\n",
            "Epoch 30/30\n",
            "59900/60000 [============================>.] - ETA: 0s - loss: 0.0146 - accuracy: 0.9950\n",
            "Epoch 00030: saving model to drive/My Drive/Colab Notebooks/3분 딥러닝 텐서플로맛/06 - MNIST/saved checkpoint/cp-0030.ckpt\n",
            "60000/60000 [==============================] - 4s 63us/sample - loss: 0.0146 - accuracy: 0.9950\n"
          ],
          "name": "stdout"
        },
        {
          "output_type": "execute_result",
          "data": {
            "text/plain": [
              "<tensorflow.python.keras.callbacks.History at 0x7f877b82d6a0>"
            ]
          },
          "metadata": {
            "tags": []
          },
          "execution_count": 9
        }
      ]
    },
    {
      "cell_type": "code",
      "metadata": {
        "id": "Xk21Oat4mpyt",
        "colab_type": "code",
        "colab": {
          "base_uri": "https://localhost:8080/",
          "height": 52
        },
        "outputId": "9d183ba7-b4f2-49d3-874a-c6bc7f21110d"
      },
      "source": [
        "# 가장 최근의 채크포인트 파일을 주어진 경로에서 가져온다.\n",
        "latest = tf.train.latest_checkpoint(checkpoint_path)\n",
        "\n",
        "# 저장이 잘 되어있는지 확인할 테스트 모델을 만들고 \n",
        "test_model = make_model()\n",
        "test_model.compile(optimizer=tf.keras.optimizers.Adam(0.001), \n",
        "                   loss='categorical_crossentropy',\n",
        "                   metrics=['accuracy'])\n",
        "\n",
        "# 채크포인트에 저장된 정보를 적용시킨다.\n",
        "test_model.load_weights(latest)\n",
        "loss, acc = test_model.evaluate(x_test,  y_test, verbose=2)\n",
        "print(\"복원된 모델의 정확도: {:5.2f}%\".format(100*acc))"
      ],
      "execution_count": null,
      "outputs": [
        {
          "output_type": "stream",
          "text": [
            "10000/10000 - 1s - loss: 0.0981 - accuracy: 0.9801\n",
            "복원된 모델의 정확도: 98.01%\n"
          ],
          "name": "stdout"
        }
      ]
    },
    {
      "cell_type": "markdown",
      "metadata": {
        "id": "5sC9KBxaTKCD",
        "colab_type": "text"
      },
      "source": [
        "#### 3-2. model.save"
      ]
    },
    {
      "cell_type": "code",
      "metadata": {
        "id": "04HvD3DmqUzu",
        "colab_type": "code",
        "colab": {
          "base_uri": "https://localhost:8080/",
          "height": 52
        },
        "outputId": "95cfa11a-3f81-41b4-abbc-4f273215e3bc"
      },
      "source": [
        "savefile_path = 'drive/My Drive/Colab Notebooks/3분 딥러닝 텐서플로맛/06 - MNIST/saved model'\n",
        "\n",
        "# 학습시킨 모델을 저장한다.\n",
        "model.save(savefile_path + '/my_model.h5', save_format='h5')\n",
        "\n",
        "# 새로운 모델을 만들어 위에서 저장한 파일을 불러온다.\n",
        "new_model = make_model()\n",
        "new_model = tf.keras.models.load_model(savefile_path + '/my_model.h5')\n",
        "\n",
        "loss, acc = new_model.evaluate(x=x_test, y=y_test, verbose=2)\n",
        "print(\"복원된 모델의 정확도: {:5.2f}%\".format(100*acc))"
      ],
      "execution_count": null,
      "outputs": [
        {
          "output_type": "stream",
          "text": [
            "10000/10000 - 1s - loss: 0.0863 - accuracy: 0.9830\n",
            "복원된 모델의 정확도: 98.30%\n"
          ],
          "name": "stdout"
        }
      ]
    },
    {
      "cell_type": "markdown",
      "metadata": {
        "id": "9i-Vq9l4TWyg",
        "colab_type": "text"
      },
      "source": [
        "#### 3-3. model.save_weights"
      ]
    },
    {
      "cell_type": "code",
      "metadata": {
        "id": "b79zfhAeTfhD",
        "colab_type": "code",
        "colab": {
          "base_uri": "https://localhost:8080/",
          "height": 52
        },
        "outputId": "e7532cee-7dff-473f-e327-f5c07cf9ec3f"
      },
      "source": [
        "savefile_path = 'drive/My Drive/Colab Notebooks/3분 딥러닝 텐서플로맛/06 - MNIST/saved model'\n",
        "\n",
        "model.save_weights(savefile_path + '/my_weight_model.h5', save_format='h5',)\n",
        "\n",
        "# 새로운 모델을 만든다.\n",
        "new_model = make_model()\n",
        "# 가중치만 저장이 되어있기 때문에 최적화 함수나 손실 함수를 지정해야 한다.\n",
        "new_model.compile(optimizer=tf.keras.optimizers.Adam(0.001), \n",
        "                  loss='categorical_crossentropy',\n",
        "                  metrics=['accuracy'])\n",
        "\n",
        "# 저장한 가중치를 불러온다.\n",
        "new_model.load_weights(savefile_path + '/my_weight_model.h5')\n",
        "\n",
        "\n",
        "loss, acc = new_model.evaluate(x=x_test, y=y_test, verbose=2)\n",
        "print(\"복원된 모델의 정확도: {:5.2f}%\".format(100*acc))"
      ],
      "execution_count": null,
      "outputs": [
        {
          "output_type": "stream",
          "text": [
            "10000/10000 - 1s - loss: 0.0863 - accuracy: 0.9830\n",
            "복원된 모델의 정확도: 98.30%\n"
          ],
          "name": "stdout"
        }
      ]
    },
    {
      "cell_type": "markdown",
      "metadata": {
        "id": "SmB_-SVM5kdv",
        "colab_type": "text"
      },
      "source": [
        "## 전체 코드"
      ]
    },
    {
      "cell_type": "code",
      "metadata": {
        "id": "A0NQvdSviUSi",
        "colab_type": "code",
        "colab": {
          "base_uri": "https://localhost:8080/",
          "height": 1000
        },
        "outputId": "342ed2d4-c0e0-478b-ace4-581f735693c3"
      },
      "source": [
        "%tensorflow_version 2.x\n",
        "import tensorflow as tf\n",
        "import numpy as np\n",
        "\n",
        "mnist = tf.keras.datasets.mnist\n",
        "\n",
        "(x_train, y_train), (x_test, y_test) = mnist.load_data()\n",
        "\n",
        "x_train = x_train.reshape(60000, 784).astype('float32') / 255\n",
        "x_test = x_test.reshape(10000, 784).astype('float32') / 255\n",
        "\n",
        "y_train, y_test = tf.one_hot(y_train, depth=10).numpy(), tf.one_hot(y_test, depth=10).numpy()\n",
        "\n",
        "#########\n",
        "# 신경망 모델 구성\n",
        "######\n",
        "\n",
        "def make_model():\n",
        "  model = tf.keras.models.Sequential([\n",
        "    tf.keras.layers.Dense(256, activation=tf.nn.relu, use_bias=False, input_shape=(784,)),\n",
        "    tf.keras.layers.Dropout(0.2),\n",
        "    tf.keras.layers.Dense(256, activation=tf.nn.relu, use_bias=False),\n",
        "    tf.keras.layers.Dense(10, activation=tf.nn.softmax, use_bias=False)\n",
        "  ])\n",
        "\n",
        "  return model\n",
        "\n",
        "model = make_model()\n",
        "model.compile(optimizer=tf.keras.optimizers.Adam(0.001), \n",
        "              loss='categorical_crossentropy',\n",
        "              metrics=['accuracy'])\n",
        "\n",
        "#########\n",
        "# 신경망 모델 학습\n",
        "######\n",
        "\n",
        "batch_size = 100\n",
        "epoch = 30\n",
        "\n",
        "model.fit(x=x_train, \n",
        "          y=y_train,\n",
        "          batch_size=batch_size,\n",
        "          epochs=epoch)\n",
        "\n",
        "#########\n",
        "# 결과 확인\n",
        "######\n",
        "\n",
        "model.evaluate(x=x_test,\n",
        "               y=y_test,\n",
        "               batch_size=batch_size)\n",
        "\n",
        "#########\n",
        "# 결과 확인 (matplot)\n",
        "######\n",
        "\n",
        "num = 3\n",
        "images = x_train[10*num:10*(num+1)]\n",
        "predicts = tf.argmax(model(images), 1)\n",
        "\n",
        "fig = plt.figure()\n",
        "for i in range(10):\n",
        "  subplot = fig.add_subplot(2, 5, i + 1)\n",
        "  \n",
        "  subplot.set_xticks([])\n",
        "  subplot.set_yticks([])\n",
        "  \n",
        "  subplot.set_title('%d' % predicts[i])\n",
        "  subplot.imshow(images[i].reshape((28, 28)),\n",
        "                  cmap=plt.cm.gray_r)\n",
        "\n",
        "#########\n",
        "# 모델 저장\n",
        "######\n",
        "\n",
        "savefile_path = 'drive/My Drive/Colab Notebooks/3분 딥러닝 텐서플로맛/06 - MNIST/saved model'\n",
        "model.save_weights(savefile_path + '/my_weight_model.h5', save_format='h5',)"
      ],
      "execution_count": null,
      "outputs": [
        {
          "output_type": "stream",
          "text": [
            "Train on 60000 samples\n",
            "Epoch 1/30\n",
            "60000/60000 [==============================] - 4s 65us/sample - loss: 0.2719 - accuracy: 0.9195\n",
            "Epoch 2/30\n",
            "60000/60000 [==============================] - 4s 60us/sample - loss: 0.1125 - accuracy: 0.9656\n",
            "Epoch 3/30\n",
            "60000/60000 [==============================] - 4s 61us/sample - loss: 0.0818 - accuracy: 0.9745\n",
            "Epoch 4/30\n",
            "60000/60000 [==============================] - 4s 62us/sample - loss: 0.0670 - accuracy: 0.9785\n",
            "Epoch 5/30\n",
            "60000/60000 [==============================] - 4s 61us/sample - loss: 0.0542 - accuracy: 0.9823\n",
            "Epoch 6/30\n",
            "60000/60000 [==============================] - 4s 59us/sample - loss: 0.0474 - accuracy: 0.9847\n",
            "Epoch 7/30\n",
            "60000/60000 [==============================] - 4s 61us/sample - loss: 0.0404 - accuracy: 0.9866\n",
            "Epoch 8/30\n",
            "60000/60000 [==============================] - 4s 63us/sample - loss: 0.0358 - accuracy: 0.9881\n",
            "Epoch 9/30\n",
            "60000/60000 [==============================] - 4s 61us/sample - loss: 0.0320 - accuracy: 0.9896\n",
            "Epoch 10/30\n",
            "60000/60000 [==============================] - 4s 58us/sample - loss: 0.0298 - accuracy: 0.9903\n",
            "Epoch 11/30\n",
            "60000/60000 [==============================] - 4s 62us/sample - loss: 0.0272 - accuracy: 0.9905\n",
            "Epoch 12/30\n",
            "60000/60000 [==============================] - 4s 60us/sample - loss: 0.0261 - accuracy: 0.9912\n",
            "Epoch 13/30\n",
            "60000/60000 [==============================] - 4s 66us/sample - loss: 0.0229 - accuracy: 0.9920\n",
            "Epoch 14/30\n",
            "60000/60000 [==============================] - 4s 66us/sample - loss: 0.0221 - accuracy: 0.9923\n",
            "Epoch 15/30\n",
            "60000/60000 [==============================] - 4s 63us/sample - loss: 0.0237 - accuracy: 0.9919\n",
            "Epoch 16/30\n",
            "60000/60000 [==============================] - 4s 62us/sample - loss: 0.0189 - accuracy: 0.9934\n",
            "Epoch 17/30\n",
            "60000/60000 [==============================] - 3s 58us/sample - loss: 0.0193 - accuracy: 0.9937\n",
            "Epoch 18/30\n",
            "60000/60000 [==============================] - 4s 61us/sample - loss: 0.0187 - accuracy: 0.9936\n",
            "Epoch 19/30\n",
            "60000/60000 [==============================] - 4s 59us/sample - loss: 0.0170 - accuracy: 0.9942\n",
            "Epoch 20/30\n",
            "60000/60000 [==============================] - 4s 61us/sample - loss: 0.0153 - accuracy: 0.9949\n",
            "Epoch 21/30\n",
            "60000/60000 [==============================] - 4s 58us/sample - loss: 0.0161 - accuracy: 0.9945\n",
            "Epoch 22/30\n",
            "60000/60000 [==============================] - 4s 60us/sample - loss: 0.0185 - accuracy: 0.9941\n",
            "Epoch 23/30\n",
            "60000/60000 [==============================] - 3s 57us/sample - loss: 0.0146 - accuracy: 0.9952\n",
            "Epoch 24/30\n",
            "60000/60000 [==============================] - 4s 61us/sample - loss: 0.0157 - accuracy: 0.9950\n",
            "Epoch 25/30\n",
            "60000/60000 [==============================] - 4s 62us/sample - loss: 0.0125 - accuracy: 0.9960\n",
            "Epoch 26/30\n",
            "60000/60000 [==============================] - 4s 59us/sample - loss: 0.0142 - accuracy: 0.9951\n",
            "Epoch 27/30\n",
            "60000/60000 [==============================] - 4s 58us/sample - loss: 0.0147 - accuracy: 0.9956\n",
            "Epoch 28/30\n",
            "60000/60000 [==============================] - 4s 59us/sample - loss: 0.0124 - accuracy: 0.9956\n",
            "Epoch 29/30\n",
            "60000/60000 [==============================] - 4s 61us/sample - loss: 0.0128 - accuracy: 0.9958\n",
            "Epoch 30/30\n",
            "60000/60000 [==============================] - 4s 61us/sample - loss: 0.0126 - accuracy: 0.9957\n",
            "10000/10000 [==============================] - 0s 32us/sample - loss: 0.0828 - accuracy: 0.9832\n"
          ],
          "name": "stdout"
        },
        {
          "output_type": "display_data",
          "data": {
            "image/png": "[encoded data removed]",
            "text/plain": [
              "<Figure size 432x288 with 10 Axes>"
            ]
          },
          "metadata": {
            "tags": []
          }
        }
      ]
    }
  ]
}