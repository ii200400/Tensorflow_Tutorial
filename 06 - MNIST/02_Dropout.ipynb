{
  "nbformat": 4,
  "nbformat_minor": 0,
  "metadata": {
    "colab": {
      "name": "02.Dropout.ipynb",
      "provenance": [],
      "collapsed_sections": [],
      "authorship_tag": "ABX9TyMvnox2JQAXN/33Cz/QRh7T",
      "include_colab_link": true
    },
    "kernelspec": {
      "name": "python3",
      "display_name": "Python 3"
    }
  },
  "cells": [
    {
      "cell_type": "markdown",
      "metadata": {
        "id": "view-in-github",
        "colab_type": "text"
      },
      "source": [
        "<a href=\"https://colab.research.google.com/github/ii200400/Tensorflow_Tutorial/blob/master/06%20-%20MNIST/02_Dropout.ipynb\" target=\"_parent\"><img src=\"https://colab.research.google.com/assets/colab-badge.svg\" alt=\"Open In Colab\"/></a>"
      ]
    },
    {
      "cell_type": "markdown",
      "metadata": {
        "id": "DUKsOqwm5Gcv",
        "colab_type": "text"
      },
      "source": [
        "# 개요\n",
        "\n",
        "과적합 방지 기법을 알아보자."
      ]
    },
    {
      "cell_type": "code",
      "metadata": {
        "id": "Z-2mFUC95MBg",
        "colab_type": "code",
        "colab": {}
      },
      "source": [
        "%tensorflow_version 1.x\n",
        "import tensorflow as tf\n",
        "import numpy as np"
      ],
      "execution_count": null,
      "outputs": []
    },
    {
      "cell_type": "markdown",
      "metadata": {
        "id": "4oHgOIiv5Pk0",
        "colab_type": "text"
      },
      "source": [
        "## 데이터 정의"
      ]
    },
    {
      "cell_type": "code",
      "metadata": {
        "id": "MFoC7OkJ5SBk",
        "colab_type": "code",
        "colab": {
          "base_uri": "https://localhost:8080/",
          "height": 543
        },
        "outputId": "9e46f036-9335-444e-e882-2fa4422e6c02"
      },
      "source": [
        "from tensorflow.examples.tutorials.mnist import input_data\n",
        "mnist = input_data.read_data_sets(\"./mnist/data/\", one_hot=True)"
      ],
      "execution_count": null,
      "outputs": [
        {
          "output_type": "stream",
          "text": [
            "WARNING:tensorflow:From <ipython-input-2-4dcbd946c02b>:2: read_data_sets (from tensorflow.contrib.learn.python.learn.datasets.mnist) is deprecated and will be removed in a future version.\n",
            "Instructions for updating:\n",
            "Please use alternatives such as official/mnist/dataset.py from tensorflow/models.\n",
            "WARNING:tensorflow:From /usr/local/lib/python3.6/dist-packages/tensorflow_core/contrib/learn/python/learn/datasets/mnist.py:260: maybe_download (from tensorflow.contrib.learn.python.learn.datasets.base) is deprecated and will be removed in a future version.\n",
            "Instructions for updating:\n",
            "Please write your own downloading logic.\n",
            "WARNING:tensorflow:From /usr/local/lib/python3.6/dist-packages/tensorflow_core/contrib/learn/python/learn/datasets/base.py:252: _internal_retry.<locals>.wrap.<locals>.wrapped_fn (from tensorflow.contrib.learn.python.learn.datasets.base) is deprecated and will be removed in a future version.\n",
            "Instructions for updating:\n",
            "Please use urllib or similar directly.\n",
            "Successfully downloaded train-images-idx3-ubyte.gz 9912422 bytes.\n",
            "WARNING:tensorflow:From /usr/local/lib/python3.6/dist-packages/tensorflow_core/contrib/learn/python/learn/datasets/mnist.py:262: extract_images (from tensorflow.contrib.learn.python.learn.datasets.mnist) is deprecated and will be removed in a future version.\n",
            "Instructions for updating:\n",
            "Please use tf.data to implement this functionality.\n",
            "Extracting ./mnist/data/train-images-idx3-ubyte.gz\n",
            "Successfully downloaded train-labels-idx1-ubyte.gz 28881 bytes.\n",
            "WARNING:tensorflow:From /usr/local/lib/python3.6/dist-packages/tensorflow_core/contrib/learn/python/learn/datasets/mnist.py:267: extract_labels (from tensorflow.contrib.learn.python.learn.datasets.mnist) is deprecated and will be removed in a future version.\n",
            "Instructions for updating:\n",
            "Please use tf.data to implement this functionality.\n",
            "Extracting ./mnist/data/train-labels-idx1-ubyte.gz\n",
            "WARNING:tensorflow:From /usr/local/lib/python3.6/dist-packages/tensorflow_core/contrib/learn/python/learn/datasets/mnist.py:110: dense_to_one_hot (from tensorflow.contrib.learn.python.learn.datasets.mnist) is deprecated and will be removed in a future version.\n",
            "Instructions for updating:\n",
            "Please use tf.one_hot on tensors.\n",
            "Successfully downloaded t10k-images-idx3-ubyte.gz 1648877 bytes.\n",
            "Extracting ./mnist/data/t10k-images-idx3-ubyte.gz\n",
            "Successfully downloaded t10k-labels-idx1-ubyte.gz 4542 bytes.\n",
            "Extracting ./mnist/data/t10k-labels-idx1-ubyte.gz\n",
            "WARNING:tensorflow:From /usr/local/lib/python3.6/dist-packages/tensorflow_core/contrib/learn/python/learn/datasets/mnist.py:290: DataSet.__init__ (from tensorflow.contrib.learn.python.learn.datasets.mnist) is deprecated and will be removed in a future version.\n",
            "Instructions for updating:\n",
            "Please use alternatives such as official/mnist/dataset.py from tensorflow/models.\n"
          ],
          "name": "stdout"
        }
      ]
    },
    {
      "cell_type": "markdown",
      "metadata": {
        "id": "4oKkG7hE5UqD",
        "colab_type": "text"
      },
      "source": [
        "## 모델 구성"
      ]
    },
    {
      "cell_type": "markdown",
      "metadata": {
        "id": "cCWC93ge5XBe",
        "colab_type": "text"
      },
      "source": [
        "### 변수 생성"
      ]
    },
    {
      "cell_type": "code",
      "metadata": {
        "id": "RyzO4cjc5Wkr",
        "colab_type": "code",
        "colab": {}
      },
      "source": [
        "X = tf.placeholder(tf.float32, [None, 784])\n",
        "Y = tf.placeholder(tf.float32, [None, 10])\n",
        "keep_prob = tf.placeholder(tf.float32)"
      ],
      "execution_count": null,
      "outputs": []
    },
    {
      "cell_type": "markdown",
      "metadata": {
        "id": "W-6VCmSh9VLz",
        "colab_type": "text"
      },
      "source": [
        "### 신경망 구성 및 비용과 최적화 정의"
      ]
    },
    {
      "cell_type": "code",
      "metadata": {
        "id": "0KO2ukDY9Wlm",
        "colab_type": "code",
        "colab": {
          "base_uri": "https://localhost:8080/",
          "height": 89
        },
        "outputId": "2b57f777-196a-4138-84f8-49650336be47"
      },
      "source": [
        "W1 = tf.Variable(tf.random_normal([784, 256], stddev=0.01))\n",
        "L1 = tf.nn.relu(tf.matmul(X, W1))\n",
        "# 텐서플로우에 내장된 함수를 이용하여 dropout 을 적용한다.\n",
        "# 함수에 적용할 레이어와 확률만 넣어주면 된다.\n",
        "L1 = tf.nn.dropout(L1, keep_prob)\n",
        "\n",
        "W2 = tf.Variable(tf.random_normal([256, 256], stddev=0.01))\n",
        "L2 = tf.nn.relu(tf.matmul(L1, W2))\n",
        "L2 = tf.nn.dropout(L2, keep_prob)\n",
        "\n",
        "W3 = tf.Variable(tf.random_normal([256, 10], stddev=0.01))\n",
        "model = tf.matmul(L2, W3)\n",
        "\n",
        "cost = tf.reduce_mean(tf.nn.softmax_cross_entropy_with_logits_v2(logits=model, labels=Y))\n",
        "optimizer = tf.train.AdamOptimizer(0.001).minimize(cost)"
      ],
      "execution_count": null,
      "outputs": [
        {
          "output_type": "stream",
          "text": [
            "WARNING:tensorflow:From <ipython-input-4-dfb9acbffc43>:5: calling dropout (from tensorflow.python.ops.nn_ops) with keep_prob is deprecated and will be removed in a future version.\n",
            "Instructions for updating:\n",
            "Please use `rate` instead of `keep_prob`. Rate should be set to `rate = 1 - keep_prob`.\n"
          ],
          "name": "stdout"
        }
      ]
    },
    {
      "cell_type": "markdown",
      "metadata": {
        "id": "aWBHTrel9zVs",
        "colab_type": "text"
      },
      "source": [
        "### 모델 학습"
      ]
    },
    {
      "cell_type": "code",
      "metadata": {
        "id": "AZXVZBwY94aM",
        "colab_type": "code",
        "colab": {
          "base_uri": "https://localhost:8080/",
          "height": 540
        },
        "outputId": "38b80d23-5bca-46ac-ee69-a050c8dbf618"
      },
      "source": [
        "init = tf.global_variables_initializer()\n",
        "sess = tf.Session()\n",
        "sess.run(init)\n",
        "\n",
        "batch_size = 100\n",
        "total_batch = int(mnist.train.num_examples / batch_size)\n",
        "\n",
        "for epoch in range(30):\n",
        "    total_cost = 0\n",
        "\n",
        "    for i in range(total_batch):\n",
        "        batch_xs, batch_ys = mnist.train.next_batch(batch_size)\n",
        "\n",
        "        _, cost_val = sess.run([optimizer, cost],\n",
        "                               feed_dict={X: batch_xs,\n",
        "                                          Y: batch_ys,\n",
        "                                          keep_prob: 0.8})\n",
        "        total_cost += cost_val\n",
        "\n",
        "    print('Epoch:', '%04d' % (epoch + 1),\n",
        "          'Avg. cost =', '{:.3f}'.format(total_cost / total_batch))"
      ],
      "execution_count": null,
      "outputs": [
        {
          "output_type": "stream",
          "text": [
            "Epoch: 0001 Avg. cost = 0.431\n",
            "Epoch: 0002 Avg. cost = 0.166\n",
            "Epoch: 0003 Avg. cost = 0.114\n",
            "Epoch: 0004 Avg. cost = 0.089\n",
            "Epoch: 0005 Avg. cost = 0.072\n",
            "Epoch: 0006 Avg. cost = 0.060\n",
            "Epoch: 0007 Avg. cost = 0.053\n",
            "Epoch: 0008 Avg. cost = 0.045\n",
            "Epoch: 0009 Avg. cost = 0.041\n",
            "Epoch: 0010 Avg. cost = 0.037\n",
            "Epoch: 0011 Avg. cost = 0.036\n",
            "Epoch: 0012 Avg. cost = 0.032\n",
            "Epoch: 0013 Avg. cost = 0.028\n",
            "Epoch: 0014 Avg. cost = 0.027\n",
            "Epoch: 0015 Avg. cost = 0.025\n",
            "Epoch: 0016 Avg. cost = 0.025\n",
            "Epoch: 0017 Avg. cost = 0.023\n",
            "Epoch: 0018 Avg. cost = 0.022\n",
            "Epoch: 0019 Avg. cost = 0.022\n",
            "Epoch: 0020 Avg. cost = 0.021\n",
            "Epoch: 0021 Avg. cost = 0.019\n",
            "Epoch: 0022 Avg. cost = 0.019\n",
            "Epoch: 0023 Avg. cost = 0.018\n",
            "Epoch: 0024 Avg. cost = 0.017\n",
            "Epoch: 0025 Avg. cost = 0.019\n",
            "Epoch: 0026 Avg. cost = 0.016\n",
            "Epoch: 0027 Avg. cost = 0.016\n",
            "Epoch: 0028 Avg. cost = 0.016\n",
            "Epoch: 0029 Avg. cost = 0.014\n",
            "Epoch: 0030 Avg. cost = 0.016\n"
          ],
          "name": "stdout"
        }
      ]
    },
    {
      "cell_type": "markdown",
      "metadata": {
        "id": "SFaojBcI99C8",
        "colab_type": "text"
      },
      "source": [
        "### 모델 테스트"
      ]
    },
    {
      "cell_type": "code",
      "metadata": {
        "id": "W2q7HKmc9-oz",
        "colab_type": "code",
        "colab": {
          "base_uri": "https://localhost:8080/",
          "height": 34
        },
        "outputId": "b93308d2-1e83-45f7-e072-139745014775"
      },
      "source": [
        "is_correct = tf.equal(tf.argmax(model, 1), tf.argmax(Y, 1))\n",
        "accuracy = tf.reduce_mean(tf.cast(is_correct, tf.float32))\n",
        "print('정확도:', sess.run(accuracy,\n",
        "                        feed_dict={X: mnist.test.images,\n",
        "                                   Y: mnist.test.labels,\n",
        "                                   keep_prob: 1}))"
      ],
      "execution_count": null,
      "outputs": [
        {
          "output_type": "stream",
          "text": [
            "정확도: 0.9816\n"
          ],
          "name": "stdout"
        }
      ]
    },
    {
      "cell_type": "markdown",
      "metadata": {
        "id": "-n1JwxDo-AEo",
        "colab_type": "text"
      },
      "source": [
        "### 모델 테스트 (matplot)"
      ]
    },
    {
      "cell_type": "code",
      "metadata": {
        "id": "K9tCwjl45Fmt",
        "colab_type": "code",
        "colab": {
          "base_uri": "https://localhost:8080/",
          "height": 227
        },
        "outputId": "623f03b9-d5c1-4f94-8c70-6d607dfceba7"
      },
      "source": [
        "import matplotlib.pyplot as plt\n",
        "\n",
        "labels = sess.run(model,\n",
        "                  feed_dict={X: mnist.test.images,\n",
        "                             Y: mnist.test.labels,\n",
        "                             keep_prob: 1})\n",
        "\n",
        "labels = np.argmax(labels, 1)\n",
        "\n",
        "fig = plt.figure()\n",
        "num = 2\n",
        "for i in range(num*10, (num+1)*10):\n",
        "    subplot = fig.add_subplot(2, 5, (i%10)+1)\n",
        "    subplot.set_xticks([])\n",
        "    subplot.set_yticks([])\n",
        "    subplot.set_title('%d' % labels[i])\n",
        "    subplot.imshow(mnist.test.images[i].reshape((28, 28)),\n",
        "                   cmap=plt.cm.gray_r)\n",
        "\n",
        "plt.show()"
      ],
      "execution_count": null,
      "outputs": [
        {
          "output_type": "display_data",
          "data": {
            "image/png": "[encoded data removed]",
            "text/plain": [
              "<Figure size 432x288 with 10 Axes>"
            ]
          },
          "metadata": {
            "tags": []
          }
        }
      ]
    },
    {
      "cell_type": "markdown",
      "metadata": {
        "id": "EjHYxGr65DR7",
        "colab_type": "text"
      },
      "source": [
        "## 전체 코드"
      ]
    },
    {
      "cell_type": "code",
      "metadata": {
        "id": "XTS-Z0FXQfst",
        "colab_type": "code",
        "colab": {
          "base_uri": "https://localhost:8080/",
          "height": 838
        },
        "outputId": "1e44bd7d-33e8-424e-916c-0fdff623dd6d"
      },
      "source": [
        "%tensorflow_version 1.x\n",
        "import tensorflow as tf\n",
        "import numpy as np\n",
        "import matplotlib.pyplot as plt\n",
        "\n",
        "from tensorflow.examples.tutorials.mnist import input_data\n",
        "mnist = input_data.read_data_sets(\"./mnist/data/\", one_hot=True)\n",
        "\n",
        "#########\n",
        "# 신경망 모델 구성\n",
        "######\n",
        "X = tf.placeholder(tf.float32, [None, 784])\n",
        "Y = tf.placeholder(tf.float32, [None, 10])\n",
        "keep_prob = tf.placeholder(tf.float32)\n",
        "\n",
        "W1 = tf.Variable(tf.random_normal([784, 256], stddev=0.01))\n",
        "L1 = tf.nn.relu(tf.matmul(X, W1))\n",
        "# 텐서플로우에 내장된 함수를 이용하여 dropout 을 적용합니다.\n",
        "# 함수에 적용할 레이어와 확률만 넣어주면 됩니다. 겁나 매직!!\n",
        "L1 = tf.nn.dropout(L1, keep_prob)\n",
        "\n",
        "W2 = tf.Variable(tf.random_normal([256, 256], stddev=0.01))\n",
        "L2 = tf.nn.relu(tf.matmul(L1, W2))\n",
        "L2 = tf.nn.dropout(L2, keep_prob)\n",
        "\n",
        "W3 = tf.Variable(tf.random_normal([256, 10], stddev=0.01))\n",
        "model = tf.matmul(L2, W3)\n",
        "\n",
        "cost = tf.reduce_mean(tf.nn.softmax_cross_entropy_with_logits_v2(logits=model, labels=Y))\n",
        "optimizer = tf.train.AdamOptimizer(0.001).minimize(cost)\n",
        "\n",
        "#########\n",
        "# 신경망 모델 학습\n",
        "######\n",
        "init = tf.global_variables_initializer()\n",
        "sess = tf.Session()\n",
        "sess.run(init)\n",
        "\n",
        "batch_size = 100\n",
        "total_batch = int(mnist.train.num_examples / batch_size)\n",
        "\n",
        "for epoch in range(30):\n",
        "    total_cost = 0\n",
        "\n",
        "    for i in range(total_batch):\n",
        "        batch_xs, batch_ys = mnist.train.next_batch(batch_size)\n",
        "\n",
        "        _, cost_val = sess.run([optimizer, cost],\n",
        "                               feed_dict={X: batch_xs,\n",
        "                                          Y: batch_ys,\n",
        "                                          keep_prob: 0.8})\n",
        "        total_cost += cost_val\n",
        "\n",
        "    print('Epoch:', '%04d' % (epoch + 1),\n",
        "          'Avg. cost =', '{:.3f}'.format(total_cost / total_batch))\n",
        "\n",
        "#########\n",
        "# 결과 확인\n",
        "######\n",
        "is_correct = tf.equal(tf.argmax(model, 1), tf.argmax(Y, 1))\n",
        "accuracy = tf.reduce_mean(tf.cast(is_correct, tf.float32))\n",
        "print('정확도:', sess.run(accuracy,\n",
        "                        feed_dict={X: mnist.test.images,\n",
        "                                   Y: mnist.test.labels,\n",
        "                                   keep_prob: 1}))\n",
        "\n",
        "#########\n",
        "# 결과 확인 (matplot)\n",
        "######\n",
        "labels = sess.run(model,\n",
        "                  feed_dict={X: mnist.test.images,\n",
        "                             Y: mnist.test.labels,\n",
        "                             keep_prob: 1})\n",
        "\n",
        "labels = np.argmax(labels, 1)\n",
        "\n",
        "fig = plt.figure()\n",
        "num = 2\n",
        "for i in range(num*10, (num+1)*10):\n",
        "    subplot = fig.add_subplot(2, 5, (i%10)+1)\n",
        "    subplot.set_xticks([])\n",
        "    subplot.set_yticks([])\n",
        "    subplot.set_title('%d' % labels[i])\n",
        "    subplot.imshow(mnist.test.images[i].reshape((28, 28)),\n",
        "                   cmap=plt.cm.gray_r)\n",
        "\n",
        "plt.show()"
      ],
      "execution_count": null,
      "outputs": [
        {
          "output_type": "stream",
          "text": [
            "Extracting ./mnist/data/train-images-idx3-ubyte.gz\n",
            "Extracting ./mnist/data/train-labels-idx1-ubyte.gz\n",
            "Extracting ./mnist/data/t10k-images-idx3-ubyte.gz\n",
            "Extracting ./mnist/data/t10k-labels-idx1-ubyte.gz\n",
            "Epoch: 0001 Avg. cost = 0.439\n",
            "Epoch: 0002 Avg. cost = 0.168\n",
            "Epoch: 0003 Avg. cost = 0.116\n",
            "Epoch: 0004 Avg. cost = 0.091\n",
            "Epoch: 0005 Avg. cost = 0.075\n",
            "Epoch: 0006 Avg. cost = 0.061\n",
            "Epoch: 0007 Avg. cost = 0.054\n",
            "Epoch: 0008 Avg. cost = 0.046\n",
            "Epoch: 0009 Avg. cost = 0.043\n",
            "Epoch: 0010 Avg. cost = 0.037\n",
            "Epoch: 0011 Avg. cost = 0.036\n",
            "Epoch: 0012 Avg. cost = 0.032\n",
            "Epoch: 0013 Avg. cost = 0.030\n",
            "Epoch: 0014 Avg. cost = 0.028\n",
            "Epoch: 0015 Avg. cost = 0.028\n",
            "Epoch: 0016 Avg. cost = 0.023\n",
            "Epoch: 0017 Avg. cost = 0.025\n",
            "Epoch: 0018 Avg. cost = 0.024\n",
            "Epoch: 0019 Avg. cost = 0.022\n",
            "Epoch: 0020 Avg. cost = 0.021\n",
            "Epoch: 0021 Avg. cost = 0.019\n",
            "Epoch: 0022 Avg. cost = 0.021\n",
            "Epoch: 0023 Avg. cost = 0.018\n",
            "Epoch: 0024 Avg. cost = 0.019\n",
            "Epoch: 0025 Avg. cost = 0.017\n",
            "Epoch: 0026 Avg. cost = 0.017\n",
            "Epoch: 0027 Avg. cost = 0.019\n",
            "Epoch: 0028 Avg. cost = 0.016\n",
            "Epoch: 0029 Avg. cost = 0.015\n",
            "Epoch: 0030 Avg. cost = 0.016\n",
            "정확도: 0.9829\n"
          ],
          "name": "stdout"
        },
        {
          "output_type": "display_data",
          "data": {
            "image/png": "[encoded data removed]",
            "text/plain": [
              "<Figure size 432x288 with 10 Axes>"
            ]
          },
          "metadata": {
            "tags": []
          }
        }
      ]
    }
  ]
}