{
  "nbformat": 4,
  "nbformat_minor": 0,
  "metadata": {
    "colab": {
      "name": "01.Classification(2.1ver).ipynb",
      "provenance": [],
      "collapsed_sections": [
        "bAvniKf8oQ6w",
        "DH8B1iSP6rOr"
      ],
      "authorship_tag": "ABX9TyPM0Ft6P2r3WzxGVNKsnveY",
      "include_colab_link": true
    },
    "kernelspec": {
      "name": "python3",
      "display_name": "Python 3"
    }
  },
  "cells": [
    {
      "cell_type": "markdown",
      "metadata": {
        "id": "view-in-github",
        "colab_type": "text"
      },
      "source": [
        "<a href=\"https://colab.research.google.com/github/ii200400/Tensorflow_Tutorial/blob/master/04%20-%20Neural%20Network%20Basic/01_Classification(2_1ver).ipynb\" target=\"_parent\"><img src=\"https://colab.research.google.com/assets/colab-badge.svg\" alt=\"Open In Colab\"/></a>"
      ]
    },
    {
      "cell_type": "markdown",
      "metadata": {
        "id": "vcfxlNY1AnpR",
        "colab_type": "text"
      },
      "source": [
        "# 개요\n",
        "\n",
        "포유류인지 조류인지 분류하는 간단한 신경망 모델을 구현"
      ]
    },
    {
      "cell_type": "code",
      "metadata": {
        "id": "0Cdw6rKXASbd",
        "colab_type": "code",
        "colab": {
          "base_uri": "https://localhost:8080/",
          "height": 34
        },
        "outputId": "65d91be9-5e5e-4279-cb7f-48b5a5b2e782"
      },
      "source": [
        "%tensorflow_version 2.x\n",
        "import tensorflow as tf\n",
        "import numpy as np"
      ],
      "execution_count": null,
      "outputs": [
        {
          "output_type": "stream",
          "text": [
            "TensorFlow 2.x selected.\n"
          ],
          "name": "stdout"
        }
      ]
    },
    {
      "cell_type": "markdown",
      "metadata": {
        "id": "tAD4so8ZajR-",
        "colab_type": "text"
      },
      "source": [
        "## 데이터 정의"
      ]
    },
    {
      "cell_type": "code",
      "metadata": {
        "id": "JlKzpEGUbbAf",
        "colab_type": "code",
        "colab": {}
      },
      "source": [
        "# [털, 날개]\n",
        "# 아래의 W와 같은 타입이 아니면 matmul로 행렬 곱셈이 되지않아 float로 지정하였다.\n",
        "x_data = np.array(\n",
        "    [[0., 0.], [1., 0.], [1., 1.], [0., 0.], [0., 0.], [0., 1.]], dtype=np.float32)\n",
        "\n",
        "# [기타, 포유류, 조류]\n",
        "# 다음과 같은 형식으로 분류를 하는 것을 one-hot 형식 라벨링이라고 한다.\n",
        "# 해당하는 종류만 1을 가지고 나머지는 모두 0인 인덱스로 표현한다.\n",
        "y_data = np.array([\n",
        "    [1, 0, 0],  # 기타\n",
        "    [0, 1, 0],  # 포유류\n",
        "    [0, 0, 1],  # 조류\n",
        "    [1, 0, 0],\n",
        "    [1, 0, 0],\n",
        "    [0, 0, 1]\n",
        "])"
      ],
      "execution_count": null,
      "outputs": []
    },
    {
      "cell_type": "markdown",
      "metadata": {
        "id": "w2f0Ztz1oQMH",
        "colab_type": "text"
      },
      "source": [
        "## 신경망 모델 구성"
      ]
    },
    {
      "cell_type": "markdown",
      "metadata": {
        "id": "bAvniKf8oQ6w",
        "colab_type": "text"
      },
      "source": [
        "### 가중치,편향 정의"
      ]
    },
    {
      "cell_type": "code",
      "metadata": {
        "id": "lSRYqBDYoTjK",
        "colab_type": "code",
        "colab": {}
      },
      "source": [
        "# 신경망은 [2, 3]의 크기를 가지며 -1 ~ 1 사이의 랜덤한 값을 넣도록 한다.\n",
        "# [입력층(특성), 출력층(레이블)] -> [2, 3] 이기 때문이다.\n",
        "W = tf.Variable(tf.random.uniform([2, 3], -1., 1.))\n",
        "\n",
        "# 편향은 각 레이어의 출력수로 설정한다.\n",
        "# 여기에서는 최종 결과값의 분류 갯수인 3이 출력수로 설정된다.\n",
        "b = tf.Variable(tf.zeros([3]))"
      ],
      "execution_count": null,
      "outputs": []
    },
    {
      "cell_type": "markdown",
      "metadata": {
        "id": "DH8B1iSP6rOr",
        "colab_type": "text"
      },
      "source": [
        "### 최적화 함수"
      ]
    },
    {
      "cell_type": "code",
      "metadata": {
        "id": "53YQOs8c6s8S",
        "colab_type": "code",
        "colab": {}
      },
      "source": [
        "# 최적화 방식은 경사하강법으로 한다.\n",
        "optimizer = tf.optimizers.SGD(learning_rate=0.01)"
      ],
      "execution_count": null,
      "outputs": []
    },
    {
      "cell_type": "markdown",
      "metadata": {
        "id": "gYMhoxW4Zk54",
        "colab_type": "text"
      },
      "source": [
        "### 모델 함수와 활성화 함수"
      ]
    },
    {
      "cell_type": "code",
      "metadata": {
        "id": "j0g9-vHSZlch",
        "colab_type": "code",
        "colab": {}
      },
      "source": [
        "# 각 라벨링일 확률을 계산한다.\n",
        "def model(x):\n",
        "  # 가중치 W과 편향 b을 적용\n",
        "  L = tf.add(tf.matmul(x, W), b)\n",
        "\n",
        "  # 가중치와 편향을 이용해 계산한 결과 값에\n",
        "  # 텐서플로우에서 기본적으로 제공하는 활성화 함수인 ReLU 함수를 적용한다.\n",
        "  L = tf.nn.relu(L)\n",
        "\n",
        "  # 결과값을 전체합이 1인 확률로 만들어주는 활성화 함수인 softmax를 사용하여\n",
        "  # 출력값을 보기 쉽게 만든다.\n",
        "  # 예) [8.04, 2.76, -6.52] -> [0.53 0.24 0.23]\n",
        "  return tf.nn.softmax(L)"
      ],
      "execution_count": null,
      "outputs": []
    },
    {
      "cell_type": "markdown",
      "metadata": {
        "id": "T72mrv9M6nHb",
        "colab_type": "text"
      },
      "source": [
        "### 비용함수"
      ]
    },
    {
      "cell_type": "code",
      "metadata": {
        "id": "v1293mEd6qA2",
        "colab_type": "code",
        "colab": {}
      },
      "source": [
        "# 신경망을 최적화하기 위한 비용 함수를 작성한다.각 개별 결과에 대한 합을 구한 뒤 평균을 내어 비용을 구한다\n",
        "# 전체 합이 아닌, 각각의 결과를 구한 뒤 평균을 내는 방식을 사용하기 위해 axis 옵션을 사용한다.\n",
        "# axis 옵션이 없으면 -1.09 처럼 총합인 스칼라값으로 출력된다.\n",
        "\n",
        "#        Y         model         Y * tf.log(model)   reduce_sum(axis=1)   reduce_mean\n",
        "# 예) [[1 0 0]  [[0.1 0.7 0.2]  -> [[-1.0  0    0]  -> [-1.0, -0.09]  ->    -0.545\n",
        "#     [0 1 0]]  [0.2 0.8 0.0]]     [ 0   -0.09 0]]\n",
        "\n",
        "# 위의 reduce_mean은 Cross-Entropy(예측값과 실제값 사이의 확률 분포의 차이를 계산한 것) 라고 한다.\n",
        "# 이 Cross-Entropy 를 비용으로 한다.\n",
        "def get_cost (predicted_y, y):\n",
        "  return tf.reduce_mean(-tf.reduce_sum(y * tf.math.log(predicted_y), axis=1))"
      ],
      "execution_count": null,
      "outputs": []
    },
    {
      "cell_type": "markdown",
      "metadata": {
        "id": "ILJZb_6gj6V2",
        "colab_type": "text"
      },
      "source": [
        "### 훈련 함수"
      ]
    },
    {
      "cell_type": "code",
      "metadata": {
        "id": "lSOgL2L-kAyY",
        "colab_type": "code",
        "colab": {}
      },
      "source": [
        "# GradientTape를 통하여 학습을 진행한다.\n",
        "def train(x, y):\n",
        "  with tf.GradientTape() as t:\n",
        "    cost = get_cost(model(x), y)\n",
        "\n",
        "  grads = t.gradient(cost, [W, b])\n",
        "  optimizer.apply_gradients(zip(grads,[W, b]))\n",
        "\n",
        "  return cost"
      ],
      "execution_count": null,
      "outputs": []
    },
    {
      "cell_type": "markdown",
      "metadata": {
        "id": "cE7nmK__sfd7",
        "colab_type": "text"
      },
      "source": [
        "## 모델 학습 및 테스트"
      ]
    },
    {
      "cell_type": "markdown",
      "metadata": {
        "id": "4FQNBh77gzwE",
        "colab_type": "text"
      },
      "source": [
        "### 모델 학습"
      ]
    },
    {
      "cell_type": "code",
      "metadata": {
        "id": "NXu1vyG0g4r7",
        "colab_type": "code",
        "colab": {
          "base_uri": "https://localhost:8080/",
          "height": 193
        },
        "outputId": "0fde84b4-6a8b-46e7-c201-e1d841f29e87"
      },
      "source": [
        "# 위에서 구성한 특징과 레이블로 100번의 학습을 진행한다.\n",
        "for step in range(100):\n",
        "  cost = train(x_data, y_data)\n",
        "\n",
        "  # 10번마다 손실값을 출력하도록 한다.\n",
        "  if (step + 1) % 10 == 0:\n",
        "    tf.print(cost)"
      ],
      "execution_count": null,
      "outputs": [
        {
          "output_type": "stream",
          "text": [
            "1.08262956\n",
            "1.07854092\n",
            "1.07461429\n",
            "1.07074273\n",
            "1.06689632\n",
            "1.06309736\n",
            "1.05939722\n",
            "1.05576265\n",
            "1.0525049\n",
            "1.05030954\n"
          ],
          "name": "stdout"
        }
      ]
    },
    {
      "cell_type": "markdown",
      "metadata": {
        "id": "P4s0FwWGg_Eo",
        "colab_type": "text"
      },
      "source": [
        "### 모델 테스트"
      ]
    },
    {
      "cell_type": "code",
      "metadata": {
        "id": "y5V9YXq6n8Bt",
        "colab_type": "code",
        "colab": {
          "base_uri": "https://localhost:8080/",
          "height": 70
        },
        "outputId": "748091b6-b2b8-455a-8af9-ee737a2074e2"
      },
      "source": [
        "# 결과 확인\n",
        "# 0: 기타 1: 포유류, 2: 조류\n",
        "\n",
        "# tf.argmax: 예측값과 실제값의 행렬에서 tf.argmax 를 이용해 가장 큰 값을 가지는 *인덱스*를 가져온다.\n",
        "# 위의 함수를 사용하여 one-hot 인코딩에서 레이블을 정보를 가져올 수 있다.\n",
        "# 예) [[0 1 0] [1 0 0]] -> [1 0]\n",
        "#    [[0.2 0.7 0.1] [0.9 0.1 0.]] -> [1 0]\n",
        "prediction = tf.argmax(model(x_data), 1)\n",
        "target = tf.argmax(y_data, 1)\n",
        "print(prediction)\n",
        "print(target)\n",
        "\n",
        "# tf.equal : 두 값이 같으면 True 아니면 False를 반환\n",
        "is_correct = tf.equal(prediction, target)\n",
        "accuracy = tf.reduce_mean(tf.cast(is_correct, tf.float32))\n",
        "print('정확도: %.2f' % (accuracy * 100))"
      ],
      "execution_count": null,
      "outputs": [
        {
          "output_type": "stream",
          "text": [
            "tf.Tensor([2 1 2 2 2 2], shape=(6,), dtype=int64)\n",
            "tf.Tensor([0 1 2 0 0 2], shape=(6,), dtype=int64)\n",
            "정확도: 50.00\n"
          ],
          "name": "stdout"
        }
      ]
    },
    {
      "cell_type": "markdown",
      "metadata": {
        "id": "FaHK19IP8hhX",
        "colab_type": "text"
      },
      "source": [
        "# 전체 코드"
      ]
    },
    {
      "cell_type": "code",
      "metadata": {
        "id": "OqeX-m1f8lem",
        "colab_type": "code",
        "colab": {
          "base_uri": "https://localhost:8080/",
          "height": 246
        },
        "outputId": "db3e603e-ad36-44f0-c7f3-777da23775af"
      },
      "source": [
        "%tensorflow_version 2.x\n",
        "import tensorflow as tf\n",
        "import numpy as np\n",
        "\n",
        "# [털, 날개]\n",
        "x_data = np.array(\n",
        "    [[0., 0.], [1., 0.], [1., 1.], [0., 0.], [0., 0.], [0., 1.]], dtype=np.float32)\n",
        "\n",
        "# [기타, 포유류, 조류]\n",
        "y_data = np.array([\n",
        "    [1, 0, 0],  # 기타\n",
        "    [0, 1, 0],  # 포유류\n",
        "    [0, 0, 1],  # 조류\n",
        "    [1, 0, 0],\n",
        "    [1, 0, 0],\n",
        "    [0, 0, 1]\n",
        "])\n",
        "\n",
        "#########\n",
        "# 신경망 모델 구성\n",
        "######\n",
        "\n",
        "W = tf.Variable(tf.random.uniform([2, 3], -1., 1.))\n",
        "b = tf.Variable(tf.zeros([3]))\n",
        "\n",
        "optimizer = tf.optimizers.SGD(learning_rate=0.01)\n",
        "\n",
        "def model(x):\n",
        "  L = tf.add(tf.matmul(x, W), b)\n",
        "  L = tf.nn.relu(L)\n",
        "\n",
        "  return tf.nn.softmax(L)\n",
        "\n",
        "def get_cost (predicted_y, y):\n",
        "  return tf.reduce_mean(-tf.reduce_sum(y * tf.math.log(predicted_y), axis=1))\n",
        "\n",
        "def train(x, y):\n",
        "  with tf.GradientTape() as t:\n",
        "    cost = get_cost(model(x), y)\n",
        "\n",
        "  grads = t.gradient(cost, [W, b])\n",
        "  optimizer.apply_gradients(zip(grads,[W, b]))\n",
        "\n",
        "  return cost\n",
        "\n",
        "#########\n",
        "# 신경망 모델 학습\n",
        "######\n",
        "\n",
        "for step in range(100):\n",
        "  cost = train(x_data, y_data)\n",
        "\n",
        "  if (step + 1) % 10 == 0:\n",
        "    tf.print(cost)\n",
        "\n",
        "#########\n",
        "# 결과 확인\n",
        "# 0: 기타 1: 포유류, 2: 조류\n",
        "######\n",
        "\n",
        "prediction = tf.argmax(model(x_data), 1)\n",
        "target = tf.argmax(y_data, 1)\n",
        "print(prediction)\n",
        "print(target)\n",
        "\n",
        "is_correct = tf.equal(prediction, target)\n",
        "accuracy = tf.reduce_mean(tf.cast(is_correct, tf.float32))\n",
        "print('정확도: %.2f' % (accuracy * 100))"
      ],
      "execution_count": null,
      "outputs": [
        {
          "output_type": "stream",
          "text": [
            "1.06006014\n",
            "1.05401957\n",
            "1.0480994\n",
            "1.04227281\n",
            "1.036654\n",
            "1.03102171\n",
            "1.02560234\n",
            "1.02025247\n",
            "1.01497817\n",
            "1.00982249\n",
            "tf.Tensor([2 2 2 2 2 2], shape=(6,), dtype=int64)\n",
            "tf.Tensor([0 1 2 0 0 2], shape=(6,), dtype=int64)\n",
            "정확도: 33.33\n"
          ],
          "name": "stdout"
        }
      ]
    }
  ]
}