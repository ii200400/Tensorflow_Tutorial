{
  "nbformat": 4,
  "nbformat_minor": 0,
  "metadata": {
    "colab": {
      "name": "01.Classification.ipynb",
      "provenance": [],
      "collapsed_sections": [],
      "authorship_tag": "ABX9TyO/rWlAY9lLSfLzVfHXZQsZ",
      "include_colab_link": true
    },
    "kernelspec": {
      "name": "python3",
      "display_name": "Python 3"
    }
  },
  "cells": [
    {
      "cell_type": "markdown",
      "metadata": {
        "id": "view-in-github",
        "colab_type": "text"
      },
      "source": [
        "<a href=\"https://colab.research.google.com/github/ii200400/Tensorflow_Tutorial/blob/master/04%20-%20Neural%20Network%20Basic/01_Classification.ipynb\" target=\"_parent\"><img src=\"https://colab.research.google.com/assets/colab-badge.svg\" alt=\"Open In Colab\"/></a>"
      ]
    },
    {
      "cell_type": "markdown",
      "metadata": {
        "id": "-z2I32D5Aq4C",
        "colab_type": "text"
      },
      "source": [
        "# 개요\n",
        "\n",
        "포유류인지 조류인지 분류하는 간단한 신경망 모델을 구현"
      ]
    },
    {
      "cell_type": "code",
      "metadata": {
        "id": "a4htyp0hARWU",
        "colab_type": "code",
        "colab": {}
      },
      "source": [
        "%tensorflow_version 1.x\n",
        "import tensorflow as tf\n",
        "import numpy as np"
      ],
      "execution_count": null,
      "outputs": []
    },
    {
      "cell_type": "markdown",
      "metadata": {
        "id": "DQ0Fv5tdbOym",
        "colab_type": "text"
      },
      "source": [
        "## 데이터 정의"
      ]
    },
    {
      "cell_type": "code",
      "metadata": {
        "id": "JOFdda78baYv",
        "colab_type": "code",
        "colab": {}
      },
      "source": [
        "# [털, 날개]\n",
        "x_data = np.array(\n",
        "    [[0, 0], [1, 0], [1, 1], [0, 0], [0, 0], [0, 1]])\n",
        "\n",
        "# [기타, 포유류, 조류]\n",
        "# 다음과 같은 형식으로 분류를 하는 것을 one-hot 형식 레이블(분류값)이라고 한다.\n",
        "# 해당하는 종류만 1을 가지고 나머지는 모두 0인 인덱스로 표현한다.\n",
        "y_data = np.array([\n",
        "    [1, 0, 0],  # 기타\n",
        "    [0, 1, 0],  # 포유류\n",
        "    [0, 0, 1],  # 조류\n",
        "    [1, 0, 0],\n",
        "    [1, 0, 0],\n",
        "    [0, 0, 1]\n",
        "])"
      ],
      "execution_count": null,
      "outputs": []
    },
    {
      "cell_type": "markdown",
      "metadata": {
        "id": "N94wLWhYnasM",
        "colab_type": "text"
      },
      "source": [
        "## 신경망 모델 구성"
      ]
    },
    {
      "cell_type": "markdown",
      "metadata": {
        "id": "uY5KFLuQoLdY",
        "colab_type": "text"
      },
      "source": [
        "### 변수와 가중치,편향 정의"
      ]
    },
    {
      "cell_type": "code",
      "metadata": {
        "id": "a6_QgyMZoJei",
        "colab_type": "code",
        "colab": {}
      },
      "source": [
        "# x,y 플레이스 홀더 정의\n",
        "X = tf.placeholder(tf.float32)\n",
        "Y = tf.placeholder(tf.float32)\n",
        "\n",
        "# 신경망은 [2, 3]의 크기를 가지며 -1 ~ 1 사이의 랜덤한 값을 넣도록 한다.\n",
        "# [입력층(털, 날개 2개), 출력층(기타, 포유류, 조류 3개)] -> [2, 3] 이기 때문이다.\n",
        "W = tf.Variable(tf.random_uniform([2, 3], -1., 1.))\n",
        "\n",
        "# 편향은 각 레이어의 출력수로 설정한다.\n",
        "# 여기에서는 최종 결과값의 분류 갯수인 3이 출력수로 설정된다.\n",
        "b = tf.Variable(tf.zeros([3]))"
      ],
      "execution_count": null,
      "outputs": []
    },
    {
      "cell_type": "markdown",
      "metadata": {
        "id": "MgaOxZGUXoxZ",
        "colab_type": "text"
      },
      "source": [
        "### 신경망 구성과 활성화 함수"
      ]
    },
    {
      "cell_type": "code",
      "metadata": {
        "id": "At6AAGG5Xnei",
        "colab_type": "code",
        "colab": {}
      },
      "source": [
        "# 신경망에 가중치 W과 편향 b을 적용한다.\n",
        "L = tf.add(tf.matmul(X, W), b)\n",
        "# 가중치와 편향을 이용해 계산한 결과 값에\n",
        "# 텐서플로우에서 기본적으로 제공하는 활성화 함수인 ReLU 함수를 적용한다.\n",
        "L = tf.nn.relu(L)\n",
        "\n",
        "# 결과값을 전체합이 1인 확률로 만들어주는 활성화 함수인 softmax를 사용하여\n",
        "# 출력값을 보기 쉽게 만든다.\n",
        "# 예) [8.04, 2.76, -6.52] -> [0.53 0.24 0.23]\n",
        "model = tf.nn.softmax(L)"
      ],
      "execution_count": null,
      "outputs": []
    },
    {
      "cell_type": "markdown",
      "metadata": {
        "id": "zmPVkpsAgvGu",
        "colab_type": "text"
      },
      "source": [
        "### 비용 함수"
      ]
    },
    {
      "cell_type": "code",
      "metadata": {
        "id": "zCa9EOR7gwXj",
        "colab_type": "code",
        "colab": {}
      },
      "source": [
        "# 신경망을 최적화하기 위한 비용 함수를 작성한다.각 개별 결과에 대한 합을 구한 뒤 평균을 내어 비용을 구한다\n",
        "# 전체 합이 아닌, 각각의 결과를 구한 뒤 평균을 내는 방식을 사용하기 위해 axis 옵션을 사용한다.\n",
        "# axis 옵션이 없으면 -1.09 처럼 총합인 스칼라값으로 출력된다.\n",
        "\n",
        "#        Y         model         Y * tf.log(model)   reduce_sum(axis=1)   reduce_mean\n",
        "# 예) [[1 0 0]  [[0.1 0.7 0.2]  -> [[-1.0  0    0]  -> [-1.0, -0.09]  ->    -0.545\n",
        "#     [0 1 0]]  [0.2 0.8 0.0]]     [ 0   -0.09 0]]\n",
        "\n",
        "# 위의 reduce_mean은 (예측값과 실제값 사이의 확률 분포의 차이를 계산한 것으로) Cross-Entropy 라고 한다.\n",
        "cost = tf.reduce_mean(-tf.reduce_sum(Y * tf.log(model), axis=1))"
      ],
      "execution_count": null,
      "outputs": []
    },
    {
      "cell_type": "markdown",
      "metadata": {
        "id": "75Y1gotY6Ywv",
        "colab_type": "text"
      },
      "source": [
        "### 최적화 함수"
      ]
    },
    {
      "cell_type": "code",
      "metadata": {
        "id": "wFKCpvbh6YVt",
        "colab_type": "code",
        "colab": {}
      },
      "source": [
        "# 최적화 방식은 경사하강법으로 한다.\n",
        "optimizer = tf.train.GradientDescentOptimizer(learning_rate=0.01)\n",
        "train_op = optimizer.minimize(cost)"
      ],
      "execution_count": null,
      "outputs": []
    },
    {
      "cell_type": "markdown",
      "metadata": {
        "id": "6rnG402Hnz82",
        "colab_type": "text"
      },
      "source": [
        "## 모델 학습 및 테스트"
      ]
    },
    {
      "cell_type": "markdown",
      "metadata": {
        "id": "4FQNBh77gzwE",
        "colab_type": "text"
      },
      "source": [
        "### 모델 학습"
      ]
    },
    {
      "cell_type": "code",
      "metadata": {
        "id": "NXu1vyG0g4r7",
        "colab_type": "code",
        "colab": {
          "base_uri": "https://localhost:8080/",
          "height": 193
        },
        "outputId": "78773c7e-884b-44f6-bdb1-48a55c99a7fc"
      },
      "source": [
        "# 신경망 모델 학습\n",
        "\n",
        "# 텐서플로 세션 초기화\n",
        "init = tf.global_variables_initializer()\n",
        "sess = tf.Session()\n",
        "sess.run(init)\n",
        "\n",
        "# 위에서 구성한 특징과 레이블로 100번의 학습을 진행한다.\n",
        "for step in range(100):\n",
        "  sess.run(train_op, feed_dict={X: x_data, Y: y_data})\n",
        "\n",
        "  # 10번마다 손실값을 출력하도록 한다.\n",
        "  if (step + 1) % 10 == 0:\n",
        "    print(step + 1, sess.run(cost, feed_dict={X: x_data, Y: y_data}))"
      ],
      "execution_count": null,
      "outputs": [
        {
          "output_type": "stream",
          "text": [
            "10 1.3313376\n",
            "20 1.3181595\n",
            "30 1.3053194\n",
            "40 1.2928058\n",
            "50 1.2806076\n",
            "60 1.2687138\n",
            "70 1.2571145\n",
            "80 1.2458\n",
            "90 1.2347614\n",
            "100 1.2268143\n"
          ],
          "name": "stdout"
        }
      ]
    },
    {
      "cell_type": "markdown",
      "metadata": {
        "id": "P4s0FwWGg_Eo",
        "colab_type": "text"
      },
      "source": [
        "### 모델 테스트"
      ]
    },
    {
      "cell_type": "code",
      "metadata": {
        "id": "y5V9YXq6n8Bt",
        "colab_type": "code",
        "colab": {
          "base_uri": "https://localhost:8080/",
          "height": 70
        },
        "outputId": "fe22f8cb-fd53-401a-8f87-ba5efaf7e66e"
      },
      "source": [
        "# 결과 확인\n",
        "# 0: 기타 1: 포유류, 2: 조류\n",
        "\n",
        "# tf.argmax: 예측값과 실제값의 행렬에서 tf.argmax 를 이용해 가장 큰 값을 가지는 *인덱스*를 가져온다.\n",
        "# 위의 함수를 사용하여 one-hot 인코딩에서 레이블을 정보를 가져올 수 있다.\n",
        "# 예) [[0 1 0] [1 0 0]] -> [1 0]\n",
        "#    [[0.2 0.7 0.1] [0.9 0.1 0.]] -> [1 0]\n",
        "prediction = tf.argmax(model, 1)\n",
        "target = tf.argmax(Y, 1)\n",
        "print('예측값:', sess.run(prediction, feed_dict={X: x_data}))\n",
        "print('실제값:', sess.run(target, feed_dict={Y: y_data}))\n",
        "\n",
        "# tf.equal : 두 값이 같으면 True 아니면 False를 반환\n",
        "is_correct = tf.equal(prediction, target)\n",
        "accuracy = tf.reduce_mean(tf.cast(is_correct, tf.float32))\n",
        "print('정확도: %.2f' % sess.run(accuracy * 100, feed_dict={X: x_data, Y: y_data}))"
      ],
      "execution_count": null,
      "outputs": [
        {
          "output_type": "stream",
          "text": [
            "예측값: [0 0 0 0 0 1]\n",
            "실제값: [0 1 2 0 0 2]\n",
            "정확도: 50.00\n"
          ],
          "name": "stdout"
        }
      ]
    },
    {
      "cell_type": "markdown",
      "metadata": {
        "id": "bObLFFtD-WMG",
        "colab_type": "text"
      },
      "source": [
        "# 전체 코드"
      ]
    },
    {
      "cell_type": "code",
      "metadata": {
        "id": "GuQtet_W-Xyr",
        "colab_type": "code",
        "colab": {}
      },
      "source": [
        "import tensorflow as tf\n",
        "import numpy as np\n",
        "\n",
        "# [털, 날개]\n",
        "x_data = np.array(\n",
        "    [[0, 0], [1, 0], [1, 1], [0, 0], [0, 0], [0, 1]])\n",
        "\n",
        "# [기타, 포유류, 조류]\n",
        "y_data = np.array([\n",
        "    [1, 0, 0],  # 기타\n",
        "    [0, 1, 0],  # 포유류\n",
        "    [0, 0, 1],  # 조류\n",
        "    [1, 0, 0],\n",
        "    [1, 0, 0],\n",
        "    [0, 0, 1]\n",
        "])\n",
        "\n",
        "#########\n",
        "# 신경망 모델 구성\n",
        "######\n",
        "\n",
        "X = tf.placeholder(tf.float32)\n",
        "Y = tf.placeholder(tf.float32)\n",
        "\n",
        "W = tf.Variable(tf.random_uniform([2, 3], -1., 1.))\n",
        "b = tf.Variable(tf.zeros([3]))\n",
        "\n",
        "L = tf.add(tf.matmul(X, W), b)\n",
        "L = tf.nn.relu(L)\n",
        "\n",
        "model = tf.nn.softmax(L)\n",
        "\n",
        "cost = tf.reduce_mean(-tf.reduce_sum(Y * tf.log(model), axis=1))\n",
        "\n",
        "optimizer = tf.train.GradientDescentOptimizer(learning_rate=0.01)\n",
        "train_op = optimizer.minimize(cost)\n",
        "\n",
        "\n",
        "#########\n",
        "# 신경망 모델 학습\n",
        "######\n",
        "\n",
        "init = tf.global_variables_initializer()\n",
        "sess = tf.Session()\n",
        "sess.run(init)\n",
        "\n",
        "for step in range(100):\n",
        "    sess.run(train_op, feed_dict={X: x_data, Y: y_data})\n",
        "\n",
        "    if (step + 1) % 10 == 0:\n",
        "        print(step + 1, sess.run(cost, feed_dict={X: x_data, Y: y_data}))\n",
        "\n",
        "#########\n",
        "# 결과 확인\n",
        "# 0: 기타 1: 포유류, 2: 조류\n",
        "######\n",
        "\n",
        "prediction = tf.argmax(model, 1)\n",
        "target = tf.argmax(Y, 1)\n",
        "print('예측값:', sess.run(prediction, feed_dict={X: x_data}))\n",
        "print('실제값:', sess.run(target, feed_dict={Y: y_data}))\n",
        "\n",
        "is_correct = tf.equal(prediction, target)\n",
        "accuracy = tf.reduce_mean(tf.cast(is_correct, tf.float32))\n",
        "print('정확도: %.2f' % sess.run(accuracy * 100, feed_dict={X: x_data, Y: y_data}))"
      ],
      "execution_count": null,
      "outputs": []
    }
  ]
}