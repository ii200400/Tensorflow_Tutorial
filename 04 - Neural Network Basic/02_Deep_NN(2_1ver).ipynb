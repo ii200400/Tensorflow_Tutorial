{
  "nbformat": 4,
  "nbformat_minor": 0,
  "metadata": {
    "colab": {
      "name": "02.Deep NN(2.1ver).ipynb",
      "provenance": [],
      "collapsed_sections": [],
      "authorship_tag": "ABX9TyP9Oy3lm7w1zHLKyvSE1LS6",
      "include_colab_link": true
    },
    "kernelspec": {
      "name": "python3",
      "display_name": "Python 3"
    }
  },
  "cells": [
    {
      "cell_type": "markdown",
      "metadata": {
        "id": "view-in-github",
        "colab_type": "text"
      },
      "source": [
        "<a href=\"https://colab.research.google.com/github/ii200400/Tensorflow_Tutorial/blob/master/04%20-%20Neural%20Network%20Basic/02_Deep_NN(2_1ver).ipynb\" target=\"_parent\"><img src=\"https://colab.research.google.com/assets/colab-badge.svg\" alt=\"Open In Colab\"/></a>"
      ]
    },
    {
      "cell_type": "markdown",
      "metadata": {
        "id": "L37J_RQxrFJF",
        "colab_type": "text"
      },
      "source": [
        "# 개요\n",
        "\n",
        "포유류인지 조류인지 분류하는 간단한 신경망 모델을 구현"
      ]
    },
    {
      "cell_type": "code",
      "metadata": {
        "id": "Cd-WmShgrGPs",
        "colab_type": "code",
        "colab": {
          "base_uri": "https://localhost:8080/",
          "height": 34
        },
        "outputId": "993bea61-150d-4a4d-8f3c-0b769e2c6907"
      },
      "source": [
        "%tensorflow_version 2.x\n",
        "import tensorflow as tf\n",
        "import numpy as np"
      ],
      "execution_count": null,
      "outputs": [
        {
          "output_type": "stream",
          "text": [
            "TensorFlow 2.x selected.\n"
          ],
          "name": "stdout"
        }
      ]
    },
    {
      "cell_type": "markdown",
      "metadata": {
        "id": "DQ0Fv5tdbOym",
        "colab_type": "text"
      },
      "source": [
        "## 데이터 정의"
      ]
    },
    {
      "cell_type": "code",
      "metadata": {
        "id": "tzu3DIDdrgQ1",
        "colab_type": "code",
        "colab": {}
      },
      "source": [
        "# [털, 날개]\n",
        "x_data = np.array(\n",
        "    [[0., 0], [1, 0], [1, 1], [0, 0], [0, 0], [0, 1]], dtype=np.float32)\n",
        "\n",
        "# [기타, 포유류, 조류]\n",
        "y_data = np.array([\n",
        "    [1, 0, 0],  # 기타\n",
        "    [0, 1, 0],  # 포유류\n",
        "    [0, 0, 1],  # 조류\n",
        "    [1, 0, 0],\n",
        "    [1, 0, 0],\n",
        "    [0, 0, 1]\n",
        "])"
      ],
      "execution_count": null,
      "outputs": []
    },
    {
      "cell_type": "markdown",
      "metadata": {
        "id": "N94wLWhYnasM",
        "colab_type": "text"
      },
      "source": [
        "## 신경망 모델 구성"
      ]
    },
    {
      "cell_type": "markdown",
      "metadata": {
        "id": "bAvniKf8oQ6w",
        "colab_type": "text"
      },
      "source": [
        "### 가중치,편향 정의"
      ]
    },
    {
      "cell_type": "code",
      "metadata": {
        "id": "6sw8OOVpsAz7",
        "colab_type": "code",
        "colab": {}
      },
      "source": [
        "# 첫번째 가중치의 차원은 [특성, 히든 레이어의 뉴런갯수] -> [2, 10] 으로 정한다.\n",
        "W1 = tf.Variable(tf.random.uniform([2, 10], -1., 1.))\n",
        "# 두번째 가중치의 차원을 [첫번째 히든 레이어의 뉴런 갯수, 분류 갯수] -> [10, 3] 으로 정한다.\n",
        "W2 = tf.Variable(tf.random.uniform([10, 3], -1., 1.))\n",
        "\n",
        "# 편향을 각각 각 레이어의 출력 갯수로 설정한다.\n",
        "# b1 은 히든 레이어의 뉴런 갯수로, b2 는 최종 결과값 즉, 분류 갯수인 3으로 설정한다.\n",
        "b1 = tf.Variable(tf.zeros([10]))\n",
        "b2 = tf.Variable(tf.zeros([3]))"
      ],
      "execution_count": null,
      "outputs": []
    },
    {
      "cell_type": "markdown",
      "metadata": {
        "id": "MgaOxZGUXoxZ",
        "colab_type": "text"
      },
      "source": [
        "### 모델 함수와 활성화 함수"
      ]
    },
    {
      "cell_type": "code",
      "metadata": {
        "id": "uQpNIOQ4Madm",
        "colab_type": "code",
        "colab": {}
      },
      "source": [
        "def model(x):\n",
        "  # 신경망의 히든 레이어에 가중치 W1과 편향 b1을 적용한다.\n",
        "  L1 = tf.add(tf.matmul(x, W1), b1)\n",
        "  L1 = tf.nn.relu(L1)\n",
        "  \n",
        "  # 히든레이어에 두번째 가중치 W2와 편향 b2를 적용하여 3개의 출력값을 계산한다.\n",
        "  output = tf.add(tf.matmul(L1, W2), b2)\n",
        "  return output"
      ],
      "execution_count": null,
      "outputs": []
    },
    {
      "cell_type": "markdown",
      "metadata": {
        "id": "zokd2-i98Ag5",
        "colab_type": "text"
      },
      "source": [
        "### 비용함수\n",
        "\n",
        "tf.reduce_mean(-tf.reduce_sum(y * tf.math.log(predicted_y), axis=1)) 대신\\\n",
        "tf.reduce_mean(tf.nn.softmax_cross_entropy_with_logits(labels=y, logits=model(x))) 사용\n",
        "\n",
        "그런데 이름이 너무 길어서 더 복잡해 보인닼ㅋㅋ"
      ]
    },
    {
      "cell_type": "code",
      "metadata": {
        "id": "sacB2Tq4Px0g",
        "colab_type": "code",
        "colab": {}
      },
      "source": [
        "# 텐서플로우에서 기본적으로 제공되는 크로스 엔트로피 함수를 이용해\n",
        "# 복잡한 수식을 사용하지 않고도 최적화를 위한 비용 함수를 다음처럼 간단하게 적용할 수 있다.\n",
        "def get_cost(x, y):\n",
        "  return tf.reduce_mean(\n",
        "      tf.nn.softmax_cross_entropy_with_logits(labels=y, logits=model(x)))"
      ],
      "execution_count": null,
      "outputs": []
    },
    {
      "cell_type": "markdown",
      "metadata": {
        "id": "8h1Tzx8t8Bk1",
        "colab_type": "text"
      },
      "source": [
        "### 최적화 함수"
      ]
    },
    {
      "cell_type": "code",
      "metadata": {
        "id": "9j7VskBtZxbD",
        "colab_type": "code",
        "colab": {}
      },
      "source": [
        "# 최적화 함수로 아담(Adam)을 사용한다.\n",
        "optimizer = tf.optimizers.Adam(learning_rate=0.01)"
      ],
      "execution_count": null,
      "outputs": []
    },
    {
      "cell_type": "markdown",
      "metadata": {
        "id": "ILJZb_6gj6V2",
        "colab_type": "text"
      },
      "source": [
        "### 훈련 함수"
      ]
    },
    {
      "cell_type": "code",
      "metadata": {
        "id": "c1CNc8Qqb_-S",
        "colab_type": "code",
        "colab": {}
      },
      "source": [
        "def train(x, y):\n",
        "  with tf.GradientTape() as t:\n",
        "    cost = get_cost(x, y)\n",
        "  \n",
        "  grads = t.gradient(cost, [W1, W2, b1, b2])\n",
        "  optimizer.apply_gradients(zip(grads, [W1, W2, b1, b2]))\n",
        "\n",
        "  return cost"
      ],
      "execution_count": null,
      "outputs": []
    },
    {
      "cell_type": "markdown",
      "metadata": {
        "id": "cE7nmK__sfd7",
        "colab_type": "text"
      },
      "source": [
        "## 모델 학습 및 테스트"
      ]
    },
    {
      "cell_type": "markdown",
      "metadata": {
        "id": "4FQNBh77gzwE",
        "colab_type": "text"
      },
      "source": [
        "### 모델 학습"
      ]
    },
    {
      "cell_type": "code",
      "metadata": {
        "id": "TbOzYg8Np8f8",
        "colab_type": "code",
        "colab": {
          "base_uri": "https://localhost:8080/",
          "height": 193
        },
        "outputId": "721e5f35-745e-4630-f468-cac1aeca6b84"
      },
      "source": [
        "for step in range(100):\n",
        "    cost = train(x_data, y_data)\n",
        "\n",
        "    if (step + 1) % 10 == 0:\n",
        "        print(step + 1, cost)"
      ],
      "execution_count": null,
      "outputs": [
        {
          "output_type": "stream",
          "text": [
            "10 tf.Tensor(0.044922814, shape=(), dtype=float32)\n",
            "20 tf.Tensor(0.036141146, shape=(), dtype=float32)\n",
            "30 tf.Tensor(0.029748304, shape=(), dtype=float32)\n",
            "40 tf.Tensor(0.024962857, shape=(), dtype=float32)\n",
            "50 tf.Tensor(0.021287823, shape=(), dtype=float32)\n",
            "60 tf.Tensor(0.01839974, shape=(), dtype=float32)\n",
            "70 tf.Tensor(0.016085573, shape=(), dtype=float32)\n",
            "80 tf.Tensor(0.014198626, shape=(), dtype=float32)\n",
            "90 tf.Tensor(0.012632993, shape=(), dtype=float32)\n",
            "100 tf.Tensor(0.011318095, shape=(), dtype=float32)\n"
          ],
          "name": "stdout"
        }
      ]
    },
    {
      "cell_type": "markdown",
      "metadata": {
        "id": "P4s0FwWGg_Eo",
        "colab_type": "text"
      },
      "source": [
        "### 모델 테스트"
      ]
    },
    {
      "cell_type": "code",
      "metadata": {
        "id": "lMMMWVVj8mFv",
        "colab_type": "code",
        "colab": {
          "base_uri": "https://localhost:8080/",
          "height": 70
        },
        "outputId": "879752a7-26a5-46ff-c790-deee32e90099"
      },
      "source": [
        "# 결과 확인\n",
        "# 0: 기타 1: 포유류, 2: 조류\n",
        "\n",
        "prediction = tf.argmax(model(x_data), 1)\n",
        "target = tf.argmax(y_data, 1)\n",
        "print('예측값:', prediction)\n",
        "print('실제값:', target)\n",
        "\n",
        "is_correct = tf.equal(prediction, target)\n",
        "accuracy = tf.reduce_mean(tf.cast(is_correct, tf.float32))\n",
        "print('정확도: %.2f' % (accuracy * 100))"
      ],
      "execution_count": null,
      "outputs": [
        {
          "output_type": "stream",
          "text": [
            "예측값: tf.Tensor([0 1 2 0 0 2], shape=(6,), dtype=int64)\n",
            "실제값: tf.Tensor([0 1 2 0 0 2], shape=(6,), dtype=int64)\n",
            "정확도: 100.00\n"
          ],
          "name": "stdout"
        }
      ]
    },
    {
      "cell_type": "markdown",
      "metadata": {
        "id": "4fZGynCMCZGL",
        "colab_type": "text"
      },
      "source": [
        "# 전체 코드"
      ]
    },
    {
      "cell_type": "code",
      "metadata": {
        "id": "mgoAefvfqaDH",
        "colab_type": "code",
        "colab": {
          "base_uri": "https://localhost:8080/",
          "height": 246
        },
        "outputId": "641fa2d3-e556-401b-e1f4-8860932bed05"
      },
      "source": [
        "%tensorflow_version 2.x\n",
        "import tensorflow as tf\n",
        "import numpy as np\n",
        "\n",
        "# [털, 날개]\n",
        "x_data = np.array(\n",
        "    [[0., 0], [1, 0], [1, 1], [0, 0], [0, 0], [0, 1]], dtype=np.float32)\n",
        "\n",
        "# [기타, 포유류, 조류]\n",
        "y_data = np.array([\n",
        "    [1, 0, 0],  # 기타\n",
        "    [0, 1, 0],  # 포유류\n",
        "    [0, 0, 1],  # 조류\n",
        "    [1, 0, 0],\n",
        "    [1, 0, 0],\n",
        "    [0, 0, 1]\n",
        "])\n",
        "\n",
        "#########\n",
        "# 신경망 모델 구성\n",
        "######\n",
        "\n",
        "W1 = tf.Variable(tf.random.uniform([2, 10], -1., 1.))\n",
        "W2 = tf.Variable(tf.random.uniform([10, 3], -1., 1.))\n",
        "\n",
        "b1 = tf.Variable(tf.zeros([10]))\n",
        "b2 = tf.Variable(tf.zeros([3]))\n",
        "\n",
        "optimizer = tf.optimizers.Adam(learning_rate=0.01)\n",
        "\n",
        "def model(x):\n",
        "  L1 = tf.add(tf.matmul(x, W1), b1)\n",
        "  L1 = tf.nn.relu(L1)\n",
        "\n",
        "  return tf.add(tf.matmul(L1, W2), b2)\n",
        "\n",
        "def get_cost(x, y):\n",
        "  return tf.reduce_mean(\n",
        "      tf.nn.softmax_cross_entropy_with_logits(labels=y, logits=model(x)))\n",
        "\n",
        "def train(x, y):\n",
        "  with tf.GradientTape() as t:\n",
        "    cost = get_cost(x, y)\n",
        "  \n",
        "  grads = t.gradient(cost, [W1, W2, b1, b2])\n",
        "  optimizer.apply_gradients(zip(grads, [W1, W2, b1, b2]))\n",
        "\n",
        "\n",
        "#########\n",
        "# 신경망 모델 학습\n",
        "######\n",
        "\n",
        "for step in range(100):\n",
        "    cost = train(x_data, y_data)\n",
        "\n",
        "    if (step + 1) % 10 == 0:\n",
        "        print(step + 1, cost)\n",
        "\n",
        "\n",
        "#########\n",
        "# 결과 확인\n",
        "# 0: 기타 1: 포유류, 2: 조류\n",
        "######\n",
        "\n",
        "prediction = tf.argmax(model(x_data), 1)\n",
        "target = tf.argmax(y_data, 1)\n",
        "print('예측값:', prediction)\n",
        "print('실제값:', target)\n",
        "\n",
        "is_correct = tf.equal(prediction, target)\n",
        "accuracy = tf.reduce_mean(tf.cast(is_correct, tf.float32))\n",
        "print('정확도: %.2f' % (accuracy * 100))"
      ],
      "execution_count": null,
      "outputs": [
        {
          "output_type": "stream",
          "text": [
            "10 None\n",
            "20 None\n",
            "30 None\n",
            "40 None\n",
            "50 None\n",
            "60 None\n",
            "70 None\n",
            "80 None\n",
            "90 None\n",
            "100 None\n",
            "예측값: tf.Tensor([0 1 2 0 0 2], shape=(6,), dtype=int64)\n",
            "실제값: tf.Tensor([0 1 2 0 0 2], shape=(6,), dtype=int64)\n",
            "정확도: 100.00\n"
          ],
          "name": "stdout"
        }
      ]
    }
  ]
}