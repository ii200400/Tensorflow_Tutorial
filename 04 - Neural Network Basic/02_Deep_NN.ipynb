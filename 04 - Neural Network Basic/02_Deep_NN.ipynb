{
  "nbformat": 4,
  "nbformat_minor": 0,
  "metadata": {
    "colab": {
      "name": "02.Deep NN.ipynb",
      "provenance": [],
      "collapsed_sections": [],
      "authorship_tag": "ABX9TyMAsBmsLgomZN6P+ITciWPN",
      "include_colab_link": true
    },
    "kernelspec": {
      "name": "python3",
      "display_name": "Python 3"
    }
  },
  "cells": [
    {
      "cell_type": "markdown",
      "metadata": {
        "id": "view-in-github",
        "colab_type": "text"
      },
      "source": [
        "<a href=\"https://colab.research.google.com/github/ii200400/Tensorflow_Tutorial/blob/master/04%20-%20Neural%20Network%20Basic/02_Deep_NN.ipynb\" target=\"_parent\"><img src=\"https://colab.research.google.com/assets/colab-badge.svg\" alt=\"Open In Colab\"/></a>"
      ]
    },
    {
      "cell_type": "markdown",
      "metadata": {
        "id": "8lyrdrt_rKPz",
        "colab_type": "text"
      },
      "source": [
        "# 개요\n",
        "\n",
        "포유류인지 조류인지 분류하는 간단한 신경망 모델을 구현"
      ]
    },
    {
      "cell_type": "code",
      "metadata": {
        "id": "rYQ7iNAtrIC6",
        "colab_type": "code",
        "colab": {}
      },
      "source": [
        "%tensorflow_version 1.x\n",
        "import tensorflow as tf\n",
        "import numpy as np"
      ],
      "execution_count": null,
      "outputs": []
    },
    {
      "cell_type": "markdown",
      "metadata": {
        "id": "DQ0Fv5tdbOym",
        "colab_type": "text"
      },
      "source": [
        "## 데이터 정의"
      ]
    },
    {
      "cell_type": "code",
      "metadata": {
        "id": "BQFGrpMUreoY",
        "colab_type": "code",
        "colab": {}
      },
      "source": [
        "# [털, 날개]\n",
        "x_data = np.array(\n",
        "    [[0, 0], [1, 0], [1, 1], [0, 0], [0, 0], [0, 1]])\n",
        "\n",
        "# [기타, 포유류, 조류]\n",
        "y_data = np.array([\n",
        "    [1, 0, 0],  # 기타\n",
        "    [0, 1, 0],  # 포유류\n",
        "    [0, 0, 1],  # 조류\n",
        "    [1, 0, 0],\n",
        "    [1, 0, 0],\n",
        "    [0, 0, 1]\n",
        "])"
      ],
      "execution_count": null,
      "outputs": []
    },
    {
      "cell_type": "markdown",
      "metadata": {
        "id": "N94wLWhYnasM",
        "colab_type": "text"
      },
      "source": [
        "## 신경망 모델 구성"
      ]
    },
    {
      "cell_type": "markdown",
      "metadata": {
        "id": "bAvniKf8oQ6w",
        "colab_type": "text"
      },
      "source": [
        "### 변수와 가중치,편향 정의"
      ]
    },
    {
      "cell_type": "code",
      "metadata": {
        "id": "3CbzTGU4rtKE",
        "colab_type": "code",
        "colab": {}
      },
      "source": [
        "# x, y 플레이스 홀더 정의\n",
        "X = tf.placeholder(tf.float32)\n",
        "Y = tf.placeholder(tf.float32)\n",
        "\n",
        "# 첫번째 가중치의 차원은 [입력수(특성수), 히든 레이어의 뉴런갯수] -> [2, 10] 으로 정한다.\n",
        "W1 = tf.Variable(tf.random_uniform([2, 10], -1., 1.))\n",
        "# 두번째 가중치의 차원을 [첫번째 히든 레이어의 뉴런 갯수, 분류 갯수] -> [10, 3] 으로 정한다.\n",
        "W2 = tf.Variable(tf.random_uniform([10, 3], -1., 1.))\n",
        "\n",
        "# 편향을 각각 각 레이어(W1, W2)의 아웃풋 갯수(W1은 10, W2는 3)로 설정한다.\n",
        "# b1 은 히든 레이어의 뉴런 갯수로, b2 는 최종 결과값 즉, 분류 갯수인 3으로 설정한다.\n",
        "b1 = tf.Variable(tf.zeros([10]))\n",
        "b2 = tf.Variable(tf.zeros([3]))"
      ],
      "execution_count": null,
      "outputs": []
    },
    {
      "cell_type": "markdown",
      "metadata": {
        "id": "MgaOxZGUXoxZ",
        "colab_type": "text"
      },
      "source": [
        "### 신경망 구성과 활성화 함수"
      ]
    },
    {
      "cell_type": "code",
      "metadata": {
        "id": "mMjUmC5V6IZF",
        "colab_type": "code",
        "colab": {}
      },
      "source": [
        "# 신경망의 히든 레이어에 가중치 W1과 편향 b1을 적용한다.\n",
        "L1 = tf.add(tf.matmul(X, W1), b1)\n",
        "L1 = tf.nn.relu(L1)\n",
        "\n",
        "# 히든레이어에 두번째 가중치 W2와 편향 b2를 적용하여 3개의 출력값을 계산한다.\n",
        "model = tf.add(tf.matmul(L1, W2), b2)"
      ],
      "execution_count": null,
      "outputs": []
    },
    {
      "cell_type": "markdown",
      "metadata": {
        "id": "zmPVkpsAgvGu",
        "colab_type": "text"
      },
      "source": [
        "### 비용 함수"
      ]
    },
    {
      "cell_type": "code",
      "metadata": {
        "id": "pGl1Lta96N0P",
        "colab_type": "code",
        "colab": {}
      },
      "source": [
        "# 텐서플로우에서 기본적으로 제공되는 크로스 엔트로피 함수를 이용해\n",
        "# 복잡한 수식을 사용하지 않고도 최적화를 위한 비용 함수를 다음처럼 간단하게 적용할 수 있다.\n",
        "cost = tf.reduce_mean(\n",
        "    tf.nn.softmax_cross_entropy_with_logits_v2(labels=Y, logits=model))"
      ],
      "execution_count": null,
      "outputs": []
    },
    {
      "cell_type": "markdown",
      "metadata": {
        "id": "czO7zT2C7vkN",
        "colab_type": "text"
      },
      "source": [
        "### 최적화 함수"
      ]
    },
    {
      "cell_type": "code",
      "metadata": {
        "id": "5y-7bgUB7yCS",
        "colab_type": "code",
        "colab": {}
      },
      "source": [
        "# 최적화 함수로 아담(Adam)을 사용한다.\n",
        "optimizer = tf.train.AdamOptimizer(learning_rate=0.01)\n",
        "train_op = optimizer.minimize(cost)"
      ],
      "execution_count": null,
      "outputs": []
    },
    {
      "cell_type": "markdown",
      "metadata": {
        "id": "6rnG402Hnz82",
        "colab_type": "text"
      },
      "source": [
        "## 모델 학습 및 테스트"
      ]
    },
    {
      "cell_type": "markdown",
      "metadata": {
        "id": "4FQNBh77gzwE",
        "colab_type": "text"
      },
      "source": [
        "### 모델 학습"
      ]
    },
    {
      "cell_type": "code",
      "metadata": {
        "id": "xPSCFDfo76LU",
        "colab_type": "code",
        "colab": {
          "base_uri": "https://localhost:8080/",
          "height": 193
        },
        "outputId": "91aa880d-66e7-4725-f1d3-42c16681b635"
      },
      "source": [
        "init = tf.global_variables_initializer()\n",
        "sess = tf.Session()\n",
        "sess.run(init)\n",
        "\n",
        "for step in range(100):\n",
        "    sess.run(train_op, feed_dict={X: x_data, Y: y_data})\n",
        "\n",
        "    if (step + 1) % 10 == 0:\n",
        "        print(step + 1, sess.run(cost, feed_dict={X: x_data, Y: y_data}))"
      ],
      "execution_count": null,
      "outputs": [
        {
          "output_type": "stream",
          "text": [
            "10 0.64492124\n",
            "20 0.49718034\n",
            "30 0.35933506\n",
            "40 0.23939814\n",
            "50 0.15234555\n",
            "60 0.09618613\n",
            "70 0.06362477\n",
            "80 0.044257447\n",
            "90 0.032569766\n",
            "100 0.024862325\n"
          ],
          "name": "stdout"
        }
      ]
    },
    {
      "cell_type": "markdown",
      "metadata": {
        "id": "P4s0FwWGg_Eo",
        "colab_type": "text"
      },
      "source": [
        "### 모델 테스트"
      ]
    },
    {
      "cell_type": "code",
      "metadata": {
        "id": "DUrr5qIKqepJ",
        "colab_type": "code",
        "colab": {
          "base_uri": "https://localhost:8080/",
          "height": 70
        },
        "outputId": "3f815a62-d538-4992-fea7-47ead66d0072"
      },
      "source": [
        "# 결과 확인\n",
        "# 0: 기타 1: 포유류, 2: 조류\n",
        "\n",
        "prediction = tf.argmax(model, 1)\n",
        "target = tf.argmax(Y, 1)\n",
        "print('예측값:', sess.run(prediction, feed_dict={X: x_data}))\n",
        "print('실제값:', sess.run(target, feed_dict={Y: y_data}))\n",
        "\n",
        "is_correct = tf.equal(prediction, target)\n",
        "accuracy = tf.reduce_mean(tf.cast(is_correct, tf.float32))\n",
        "print('정확도: %.2f' % sess.run(accuracy * 100, feed_dict={X: x_data, Y: y_data}))"
      ],
      "execution_count": null,
      "outputs": [
        {
          "output_type": "stream",
          "text": [
            "예측값: [0 1 2 0 0 2]\n",
            "실제값: [0 1 2 0 0 2]\n",
            "정확도: 100.00\n"
          ],
          "name": "stdout"
        }
      ]
    },
    {
      "cell_type": "markdown",
      "metadata": {
        "id": "7w15AkIv-DXJ",
        "colab_type": "text"
      },
      "source": [
        "# 전체 코드"
      ]
    },
    {
      "cell_type": "code",
      "metadata": {
        "id": "e44iONaX-E6y",
        "colab_type": "code",
        "colab": {}
      },
      "source": [
        "%tensorflow_version 1.x\n",
        "import tensorflow as tf\n",
        "import numpy as np\n",
        "\n",
        "# [털, 날개]\n",
        "x_data = np.array(\n",
        "    [[0, 0], [1, 0], [1, 1], [0, 0], [0, 0], [0, 1]])\n",
        "\n",
        "# [기타, 포유류, 조류]\n",
        "y_data = np.array([\n",
        "    [1, 0, 0],  # 기타\n",
        "    [0, 1, 0],  # 포유류\n",
        "    [0, 0, 1],  # 조류\n",
        "    [1, 0, 0],\n",
        "    [1, 0, 0],\n",
        "    [0, 0, 1]\n",
        "])\n",
        "\n",
        "#########\n",
        "# 신경망 모델 구성\n",
        "######\n",
        "X = tf.placeholder(tf.float32)\n",
        "Y = tf.placeholder(tf.float32)\n",
        "\n",
        "W1 = tf.Variable(tf.random_uniform([2, 10], -1., 1.))\n",
        "W2 = tf.Variable(tf.random_uniform([10, 3], -1., 1.))\n",
        "\n",
        "b1 = tf.Variable(tf.zeros([10]))\n",
        "b2 = tf.Variable(tf.zeros([3]))\n",
        "\n",
        "L1 = tf.add(tf.matmul(X, W1), b1)\n",
        "L1 = tf.nn.relu(L1)\n",
        "\n",
        "model = tf.add(tf.matmul(L1, W2), b2)\n",
        "\n",
        "cost = tf.reduce_mean(\n",
        "    tf.nn.softmax_cross_entropy_with_logits_v2(labels=Y, logits=model))\n",
        "\n",
        "optimizer = tf.train.AdamOptimizer(learning_rate=0.01)\n",
        "train_op = optimizer.minimize(cost)\n",
        "\n",
        "\n",
        "#########\n",
        "# 신경망 모델 학습\n",
        "######\n",
        "\n",
        "init = tf.global_variables_initializer()\n",
        "sess = tf.Session()\n",
        "sess.run(init)\n",
        "\n",
        "for step in range(100):\n",
        "    sess.run(train_op, feed_dict={X: x_data, Y: y_data})\n",
        "\n",
        "    if (step + 1) % 10 == 0:\n",
        "        print(step + 1, sess.run(cost, feed_dict={X: x_data, Y: y_data}))\n",
        "\n",
        "#########\n",
        "# 결과 확인\n",
        "# 0: 기타 1: 포유류, 2: 조류\n",
        "######\n",
        "\n",
        "prediction = tf.argmax(model, 1)\n",
        "target = tf.argmax(Y, 1)\n",
        "print('예측값:', sess.run(prediction, feed_dict={X: x_data}))\n",
        "print('실제값:', sess.run(target, feed_dict={Y: y_data}))\n",
        "\n",
        "is_correct = tf.equal(prediction, target)\n",
        "accuracy = tf.reduce_mean(tf.cast(is_correct, tf.float32))\n",
        "print('정확도: %.2f' % sess.run(accuracy * 100, feed_dict={X: x_data, Y: y_data}))"
      ],
      "execution_count": null,
      "outputs": []
    }
  ]
}