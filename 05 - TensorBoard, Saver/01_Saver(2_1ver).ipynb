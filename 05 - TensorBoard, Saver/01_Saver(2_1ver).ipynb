{
  "nbformat": 4,
  "nbformat_minor": 0,
  "metadata": {
    "colab": {
      "name": "01.Saver(2.1ver).ipynb",
      "provenance": [],
      "collapsed_sections": [],
      "authorship_tag": "ABX9TyP6/ojjWXVc9gfxTvsgCSJb",
      "include_colab_link": true
    },
    "kernelspec": {
      "name": "python3",
      "display_name": "Python 3"
    }
  },
  "cells": [
    {
      "cell_type": "markdown",
      "metadata": {
        "id": "view-in-github",
        "colab_type": "text"
      },
      "source": [
        "<a href=\"https://colab.research.google.com/github/ii200400/Tensorflow_Tutorial/blob/master/05%20-%20TensorBoard%2C%20Saver/01_Saver(2_1ver).ipynb\" target=\"_parent\"><img src=\"https://colab.research.google.com/assets/colab-badge.svg\" alt=\"Open In Colab\"/></a>"
      ]
    },
    {
      "cell_type": "markdown",
      "metadata": {
        "id": "3mAXrQN-DEm4",
        "colab_type": "text"
      },
      "source": [
        "이번 실습은 구글 드라이브를 연동하여 파일을 저장하고 불러올 필요가 있기 때문에 아래의 코드를 추가하고 data.scv의 파일 경로를 바꿔주었다."
      ]
    },
    {
      "cell_type": "code",
      "metadata": {
        "id": "WtjVHiYUDE4E",
        "colab_type": "code",
        "colab": {
          "base_uri": "https://localhost:8080/",
          "height": 34
        },
        "outputId": "ee4927e4-1a55-4542-d9e0-17e49b7e0a0d"
      },
      "source": [
        "# 구글 드라이브 연동을 위한 import\n",
        "from google.colab import drive\n",
        "\n",
        "# 구글 드라이브 연동을 위한 인증\n",
        "drive.mount('/content/drive')\n",
        "\n",
        "basic_path = 'drive/My Drive/Colab Notebooks/3분 딥러닝 텐서플로맛/05 - TensorBoard, Saver'"
      ],
      "execution_count": null,
      "outputs": [
        {
          "output_type": "stream",
          "text": [
            "Drive already mounted at /content/drive; to attempt to forcibly remount, call drive.mount(\"/content/drive\", force_remount=True).\n"
          ],
          "name": "stdout"
        }
      ]
    },
    {
      "cell_type": "markdown",
      "metadata": {
        "id": "YNQy9WW827Pw",
        "colab_type": "text"
      },
      "source": [
        "# 개요\n",
        "\n",
        "학습이 된 모델을 저장하고 재사용을 위해서 불러오기"
      ]
    },
    {
      "cell_type": "code",
      "metadata": {
        "id": "yjGiUbfz3NQ6",
        "colab_type": "code",
        "colab": {
          "base_uri": "https://localhost:8080/",
          "height": 34
        },
        "outputId": "1dd9043c-569b-4e09-a329-5ee6c31e9efb"
      },
      "source": [
        "%tensorflow_version 2.x\n",
        "import tensorflow as tf\n",
        "import numpy as np"
      ],
      "execution_count": null,
      "outputs": [
        {
          "output_type": "stream",
          "text": [
            "TensorFlow 2.x selected.\n"
          ],
          "name": "stdout"
        }
      ]
    },
    {
      "cell_type": "markdown",
      "metadata": {
        "id": "nYuiLOPy3EIW",
        "colab_type": "text"
      },
      "source": [
        "## 데이터 정의\n",
        "\n",
        "다른 때와 다르게 데이터를 scv파일에서 불러온다.\n",
        "csv는 입력값 저장하는 파일형식으로 자주쓰이는 것 같다.\n",
        "\n",
        "또한 여기에서는 numpy 라이브러리와 여러 매개변수로 데이터를 가져왔지만\n",
        "나중에는 더 편리한 라이브러리로 매개변수 없이도 쉽게 데이터를 조작할 것이다."
      ]
    },
    {
      "cell_type": "code",
      "metadata": {
        "id": "IxDB2MYk_FIT",
        "colab_type": "code",
        "colab": {}
      },
      "source": [
        "# np.loadtxt의 매개변수 unpack과 np.transpose는\n",
        "# 주어진 행렬을 전치행렬로 만들어 반환한다.\n",
        "\n",
        "data = np.loadtxt(basic_path + '/data.csv', delimiter=',', unpack=True, dtype='float32')\n",
        "\n",
        "# 털, 날개, 기타, 포유류, 조류\n",
        "# x_data = 0, 1\n",
        "# y_data = 2, 3, 4\n",
        "x_data = np.transpose(data[0:2])\n",
        "y_data = np.transpose(data[2:])"
      ],
      "execution_count": null,
      "outputs": []
    },
    {
      "cell_type": "markdown",
      "metadata": {
        "id": "8m7p_n3h_H_9",
        "colab_type": "text"
      },
      "source": [
        "## 모델 구성"
      ]
    },
    {
      "cell_type": "markdown",
      "metadata": {
        "id": "Gn01AaM0J5r9",
        "colab_type": "text"
      },
      "source": [
        "### 가중치 정의"
      ]
    },
    {
      "cell_type": "code",
      "metadata": {
        "id": "aUo5QT5t_MQQ",
        "colab_type": "code",
        "colab": {}
      },
      "source": [
        "W1 = tf.Variable(tf.random.uniform([2, 10], -1., 1.))\n",
        "W2 = tf.Variable(tf.random.uniform([10, 20], -1., 1.))\n",
        "W3 = tf.Variable(tf.random.uniform([20, 3], -1., 1.))"
      ],
      "execution_count": null,
      "outputs": []
    },
    {
      "cell_type": "markdown",
      "metadata": {
        "id": "zbERWlwEKL-I",
        "colab_type": "text"
      },
      "source": [
        "### 모델과 비용함수 구성"
      ]
    },
    {
      "cell_type": "code",
      "metadata": {
        "id": "Q7NmJrv4KLs7",
        "colab_type": "code",
        "colab": {}
      },
      "source": [
        "def model(x):\n",
        "  L1 = tf.nn.relu(tf.matmul(x, W1))\n",
        "  L2 = tf.nn.relu(tf.matmul(L1, W2))\n",
        "\n",
        "  return tf.matmul(L2, W3)\n",
        "\n",
        "def get_cost(x, y):\n",
        "  return tf.reduce_mean(tf.nn.softmax_cross_entropy_with_logits(labels=y, logits=model(x)))"
      ],
      "execution_count": null,
      "outputs": []
    },
    {
      "cell_type": "markdown",
      "metadata": {
        "id": "vL9ypsVKTghj",
        "colab_type": "text"
      },
      "source": [
        "### 모델 학습 함수"
      ]
    },
    {
      "cell_type": "code",
      "metadata": {
        "id": "_yTnII03TjeF",
        "colab_type": "code",
        "colab": {}
      },
      "source": [
        "def train(x, y):\n",
        "  with tf.GradientTape() as t:\n",
        "    cost = get_cost(x, y)\n",
        "  \n",
        "  var_list = [W1, W2, W3]\n",
        "  grads = t.gradient(cost, var_list)\n",
        "  optimizer.apply_gradients(zip(grads, var_list))\n",
        "\n",
        "  return cost"
      ],
      "execution_count": null,
      "outputs": []
    },
    {
      "cell_type": "markdown",
      "metadata": {
        "id": "Fcn9QK7iKyi2",
        "colab_type": "text"
      },
      "source": [
        "### 최적화 함수"
      ]
    },
    {
      "cell_type": "code",
      "metadata": {
        "id": "NF_cK9YHMApo",
        "colab_type": "code",
        "colab": {}
      },
      "source": [
        "# 최적화 함수는 아담을 사용한다.\n",
        "optimizer = tf.optimizers.Adam(learning_rate=0.01)"
      ],
      "execution_count": null,
      "outputs": []
    },
    {
      "cell_type": "markdown",
      "metadata": {
        "id": "jA3SjG4_MBEc",
        "colab_type": "text"
      },
      "source": [
        "## 모델 학습 및 테스트"
      ]
    },
    {
      "cell_type": "markdown",
      "metadata": {
        "id": "-XFctqtFmq54",
        "colab_type": "text"
      },
      "source": [
        "### 모델 불러오기\n",
        "\n",
        "텐서플로 1.0은 변수 기반의 체크포인트를 사용하지만\\\n",
        "텐서플로 2.0은 객체 기반의 체크포인트를 사용한다.\n",
        "\n",
        "그래서 어떤 차이가 있는지는 잘 모르겠다;;\n",
        "\n",
        "또한 나중에는 모델을 tf.keras.Sequential라는 텐서플로 기능을 활용할 것인데\\\n",
        "해당 기능을 사용하면 tf.saved_model.save라는 함수 하나로 쉽게 저장이 가능하다..\n",
        "\n",
        "즉, 아래의 코드는 나중에 사용하지 않는다;;"
      ]
    },
    {
      "cell_type": "code",
      "metadata": {
        "id": "eyU3hsKFMD-U",
        "colab_type": "code",
        "colab": {}
      },
      "source": [
        "saver = tf.train.Checkpoint()\n",
        "\n",
        "# model파일에 저장된 체크포인트가 있다면\n",
        "ckpt = tf.train.get_checkpoint_state(basic_path + '/model(2.1ver)')\n",
        "if ckpt:\n",
        "  # 그 체크포인트를 불러온다.\n",
        "  saver.restore(ckpt.model_checkpoint_path)"
      ],
      "execution_count": null,
      "outputs": []
    },
    {
      "cell_type": "markdown",
      "metadata": {
        "id": "0O3dl-HlMCX6",
        "colab_type": "text"
      },
      "source": [
        "### 모델 학습 및 저장"
      ]
    },
    {
      "cell_type": "code",
      "metadata": {
        "id": "QDlhl-hpTC2p",
        "colab_type": "code",
        "colab": {
          "base_uri": "https://localhost:8080/",
          "height": 70
        },
        "outputId": "c3cabb61-2d5f-4070-b6cb-48138f3f52f5"
      },
      "source": [
        "num = 2\n",
        "\n",
        "for step in range(num):\n",
        "  cost = train(x_data, y_data)\n",
        "\n",
        "  print('Step: %d, ' % (saver.save_counter * num + step),\n",
        "        'Cost: %.3f' % cost)\n",
        "    \n",
        "saver.save(basic_path + '/model(2.1ver)/dnn.ckpt')"
      ],
      "execution_count": null,
      "outputs": [
        {
          "output_type": "stream",
          "text": [
            "Step: 4,  Cost: 1.530\n",
            "Step: 5,  Cost: 1.426\n"
          ],
          "name": "stdout"
        },
        {
          "output_type": "execute_result",
          "data": {
            "text/plain": [
              "'drive/My Drive/Colab Notebooks/3분 딥러닝 텐서플로맛/05 - TensorBoard, Saver/model(2.1ver)/dnn.ckpt-3'"
            ]
          },
          "metadata": {
            "tags": []
          },
          "execution_count": 11
        }
      ]
    },
    {
      "cell_type": "markdown",
      "metadata": {
        "id": "3AQggBGnTFkc",
        "colab_type": "text"
      },
      "source": [
        "### 모델 테스트"
      ]
    },
    {
      "cell_type": "code",
      "metadata": {
        "id": "rM3ZlegNqt99",
        "colab_type": "code",
        "colab": {
          "base_uri": "https://localhost:8080/",
          "height": 70
        },
        "outputId": "fa1db2bf-15b8-4953-cbc7-f99218457d76"
      },
      "source": [
        "# 결과 확인\n",
        "# 0: 기타 1: 포유류, 2: 조류\n",
        "prediction = tf.argmax(model(x_data), 1)\n",
        "target = tf.argmax(y_data, 1)\n",
        "print('예측값:', prediction)\n",
        "print('실제값:', target)\n",
        "\n",
        "is_correct = tf.equal(prediction, target)\n",
        "accuracy = tf.reduce_mean(tf.cast(is_correct, tf.float32))\n",
        "print('정확도: %.2f' % (accuracy * 100))"
      ],
      "execution_count": null,
      "outputs": [
        {
          "output_type": "stream",
          "text": [
            "예측값: tf.Tensor([0 1 2 0 0 0], shape=(6,), dtype=int64)\n",
            "실제값: tf.Tensor([0 1 2 0 0 2], shape=(6,), dtype=int64)\n",
            "정확도: 83.33\n"
          ],
          "name": "stdout"
        }
      ]
    },
    {
      "cell_type": "markdown",
      "metadata": {
        "id": "Ottr0Oz-29_0",
        "colab_type": "text"
      },
      "source": [
        "# 전체 코드"
      ]
    },
    {
      "cell_type": "code",
      "metadata": {
        "id": "ekMKX6Gh3AUs",
        "colab_type": "code",
        "colab": {
          "base_uri": "https://localhost:8080/",
          "height": 122
        },
        "outputId": "88cd834f-b1e6-493b-ea59-88b695e90958"
      },
      "source": [
        "%tensorflow_version 2.x\n",
        "import tensorflow as tf\n",
        "import numpy as np\n",
        "\n",
        "data = np.loadtxt(basic_path + '/data.csv', delimiter=',', unpack=True, dtype='float32')\n",
        "\n",
        "# 털, 날개, 기타, 포유류, 조류\n",
        "# x_data = 0, 1\n",
        "# y_data = 2, 3, 4\n",
        "x_data = np.transpose(data[0:2])\n",
        "y_data = np.transpose(data[2:])\n",
        "\n",
        "#########\n",
        "# 신경망 모델 구성\n",
        "######\n",
        "\n",
        "W1 = tf.Variable(tf.random.uniform([2, 10], -1., 1.))\n",
        "W2 = tf.Variable(tf.random.uniform([10, 20], -1., 1.))\n",
        "W3 = tf.Variable(tf.random.uniform([20, 3], -1., 1.))\n",
        "\n",
        "def model(x):\n",
        "  L1 = tf.nn.relu(tf.matmul(x, W1))\n",
        "  L2 = tf.nn.relu(tf.matmul(L1, W2))\n",
        "\n",
        "  return tf.matmul(L2, W3)\n",
        "\n",
        "def get_cost(x, y):\n",
        "  return tf.reduce_mean(tf.nn.softmax_cross_entropy_with_logits(labels=y, logits=model(x)))\n",
        "\n",
        "def train(x, y):\n",
        "  with tf.GradientTape() as t:\n",
        "    cost = get_cost(x, y)\n",
        "  \n",
        "  var_list = [W1, W2, W3]\n",
        "  grads = t.gradient(cost, var_list)\n",
        "  optimizer.apply_gradients(zip(grads, var_list))\n",
        "\n",
        "  return cost\n",
        "\n",
        "optimizer = tf.optimizers.Adam(learning_rate=0.01)\n",
        "\n",
        "#########\n",
        "# 신경망 모델 학습\n",
        "######\n",
        "\n",
        "saver = tf.train.Checkpoint()\n",
        "\n",
        "ckpt = tf.train.get_checkpoint_state(basic_path + '/model(2.1ver)')\n",
        "if ckpt:\n",
        "  saver.restore(ckpt.model_checkpoint_path)\n",
        "\n",
        "num = 2\n",
        "for step in range(num):\n",
        "  cost = train(x_data, y_data)\n",
        "\n",
        "  print('Step: %d, ' % saver.save_counter * num + step + 1,\n",
        "        'Cost: %.3f' % cost)\n",
        "    \n",
        "saver.save(basic_path + '/model(2.1ver)/dnn.ckpt')\n",
        "\n",
        "#########\n",
        "# 결과 확인\n",
        "# 0: 기타 1: 포유류, 2: 조류\n",
        "######\n",
        "\n",
        "prediction = tf.argmax(model(x_data), 1)\n",
        "target = tf.argmax(y_data, 1)\n",
        "print('예측값:', prediction)\n",
        "print('실제값:', target)\n",
        "\n",
        "is_correct = tf.equal(prediction, target)\n",
        "accuracy = tf.reduce_mean(tf.cast(is_correct, tf.float32))\n",
        "print('정확도: %.2f' % (accuracy * 100))"
      ],
      "execution_count": null,
      "outputs": [
        {
          "output_type": "stream",
          "text": [
            "TensorFlow 2.x selected.\n",
            "Step: 0,  Cost: 1.517\n",
            "Step: 0,  Cost: 1.410\n",
            "예측값: tf.Tensor([0 2 2 0 0 1], shape=(6,), dtype=int64)\n",
            "실제값: tf.Tensor([0 1 2 0 0 2], shape=(6,), dtype=int64)\n",
            "정확도: 66.67\n"
          ],
          "name": "stdout"
        }
      ]
    }
  ]
}