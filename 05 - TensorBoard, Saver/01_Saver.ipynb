{
  "nbformat": 4,
  "nbformat_minor": 0,
  "metadata": {
    "colab": {
      "name": "01.Saver.ipynb",
      "provenance": [],
      "collapsed_sections": [],
      "authorship_tag": "ABX9TyPdp+CirBEaz4g+Gj2VjfS+",
      "include_colab_link": true
    },
    "kernelspec": {
      "name": "python3",
      "display_name": "Python 3"
    }
  },
  "cells": [
    {
      "cell_type": "markdown",
      "metadata": {
        "id": "view-in-github",
        "colab_type": "text"
      },
      "source": [
        "<a href=\"https://colab.research.google.com/github/ii200400/Tensorflow_Tutorial/blob/master/05%20-%20TensorBoard%2C%20Saver/01_Saver.ipynb\" target=\"_parent\"><img src=\"https://colab.research.google.com/assets/colab-badge.svg\" alt=\"Open In Colab\"/></a>"
      ]
    },
    {
      "cell_type": "markdown",
      "metadata": {
        "id": "kEAHCRjJCt_Z",
        "colab_type": "text"
      },
      "source": [
        "이번 실습은 구글 드라이브를 연동하여 파일을 저장하고 불러올 필요가 있기 때문에 아래의 코드를 추가하고 data.scv의 파일 경로를 바꿔주었다."
      ]
    },
    {
      "cell_type": "code",
      "metadata": {
        "id": "gll2UkyGCpk2",
        "colab_type": "code",
        "colab": {
          "base_uri": "https://localhost:8080/",
          "height": 34
        },
        "outputId": "3d08380a-54cf-4ffa-e14f-1fb9e03d0acd"
      },
      "source": [
        "# 구글 드라이브 연동을 위한 import\n",
        "from google.colab import drive\n",
        "\n",
        "# 구글 드라이브 연동을 위한 인증\n",
        "drive.mount('/content/drive')\n",
        "\n",
        "basic_path = 'drive/My Drive/Colab Notebooks/3분 딥러닝 텐서플로맛/05 - TensorBoard, Saver'"
      ],
      "execution_count": null,
      "outputs": [
        {
          "output_type": "stream",
          "text": [
            "Drive already mounted at /content/drive; to attempt to forcibly remount, call drive.mount(\"/content/drive\", force_remount=True).\n"
          ],
          "name": "stdout"
        }
      ]
    },
    {
      "cell_type": "markdown",
      "metadata": {
        "id": "Lf4JiPQcz_pY",
        "colab_type": "text"
      },
      "source": [
        "# 개요\n",
        "\n",
        "학습이 된 모델을 저장하고 재사용을 위해서 불러오기"
      ]
    },
    {
      "cell_type": "code",
      "metadata": {
        "id": "6YKpuGsY3H_l",
        "colab_type": "code",
        "colab": {}
      },
      "source": [
        "%tensorflow_version 1.x\n",
        "import tensorflow as tf\n",
        "import numpy as np"
      ],
      "execution_count": null,
      "outputs": []
    },
    {
      "cell_type": "markdown",
      "metadata": {
        "id": "eB1Q_fpI2zkm",
        "colab_type": "text"
      },
      "source": [
        "## 데이터 정의\n",
        "\n",
        "다른 때와 다르게 데이터를 scv파일에서 불러온다.\\\n",
        "csv는 입력값 저장하는 파일형식으로 자주쓰이는 것 같다.\n",
        "\n",
        "또한 여기에서는 numpy 라이브러리와 여러 매개변수로 데이터를 가져왔지만\\\n",
        "나중에는 더 편리한 라이브러리로 매개변수 없이도 쉽게 데이터를 조작할 것이다."
      ]
    },
    {
      "cell_type": "code",
      "metadata": {
        "id": "eyXHd6xS8509",
        "colab_type": "code",
        "colab": {}
      },
      "source": [
        "# np.loadtxt의 매개변수 unpack과 np.transpose는\n",
        "# 주어진 행렬을 전치행렬로 만들어 반환한다.\n",
        "\n",
        "data = np.loadtxt(basic_path + '/data.csv', delimiter=',', unpack=True, dtype='float32')\n",
        "\n",
        "# 털, 날개, 기타, 포유류, 조류\n",
        "# x_data = 0, 1\n",
        "# y_data = 2, 3, 4\n",
        "x_data = np.transpose(data[0:2])\n",
        "y_data = np.transpose(data[2:])"
      ],
      "execution_count": null,
      "outputs": []
    },
    {
      "cell_type": "markdown",
      "metadata": {
        "id": "_ImcPzV-86ZH",
        "colab_type": "text"
      },
      "source": [
        "## 모델 구성"
      ]
    },
    {
      "cell_type": "markdown",
      "metadata": {
        "id": "p6PoRBaX_SCf",
        "colab_type": "text"
      },
      "source": [
        "### 변수와 가중치 정의"
      ]
    },
    {
      "cell_type": "code",
      "metadata": {
        "id": "YjqgbB-__WWd",
        "colab_type": "code",
        "colab": {}
      },
      "source": [
        "# 학습에 직접적으로 사용하지 않고 학습 횟수에 따라 단순히 증가시킬 변수를 만든다.\n",
        "# 때문에 trainable 매개변수를 False로 지정한다.\n",
        "global_step = tf.Variable(0, trainable=False, name='global_step')\n",
        "\n",
        "X = tf.placeholder(tf.float32)\n",
        "Y = tf.placeholder(tf.float32)\n",
        "\n",
        "W1 = tf.Variable(tf.random_uniform([2, 10], -1., 1.))\n",
        "W2 = tf.Variable(tf.random_uniform([10, 20], -1., 1.))\n",
        "W3 = tf.Variable(tf.random_uniform([20, 3], -1., 1.))"
      ],
      "execution_count": null,
      "outputs": []
    },
    {
      "cell_type": "markdown",
      "metadata": {
        "id": "67KlIzUl_XFY",
        "colab_type": "text"
      },
      "source": [
        "### 신경망 구성 및 비용 정의"
      ]
    },
    {
      "cell_type": "code",
      "metadata": {
        "id": "q6pbyLx2B52W",
        "colab_type": "code",
        "colab": {}
      },
      "source": [
        "L1 = tf.nn.relu(tf.matmul(X, W1))\n",
        "L2 = tf.nn.relu(tf.matmul(L1, W2))\n",
        "\n",
        "model = tf.matmul(L2, W3)\n",
        "\n",
        "cost = tf.reduce_mean(tf.nn.softmax_cross_entropy_with_logits_v2(labels=Y, logits=model))"
      ],
      "execution_count": null,
      "outputs": []
    },
    {
      "cell_type": "markdown",
      "metadata": {
        "id": "tFbcz7sfLg9K",
        "colab_type": "text"
      },
      "source": [
        "### 최적화 함수"
      ]
    },
    {
      "cell_type": "code",
      "metadata": {
        "id": "UrfzmdTMCEE4",
        "colab_type": "code",
        "colab": {}
      },
      "source": [
        "# 최적화 함수는 아담을 사용한다.\n",
        "optimizer = tf.train.AdamOptimizer(learning_rate=0.01)\n",
        "# 학습용 변수들을 최적화 할 때 마다 global_step로 넘겨준 변수가 1씩 증가된다.\n",
        "train_op = optimizer.minimize(cost, global_step=global_step)"
      ],
      "execution_count": null,
      "outputs": []
    },
    {
      "cell_type": "markdown",
      "metadata": {
        "id": "cdNtKgQ0L7Rq",
        "colab_type": "text"
      },
      "source": [
        "## 모델 학습 및 테스트"
      ]
    },
    {
      "cell_type": "markdown",
      "metadata": {
        "id": "-0zXH3UGBKV0",
        "colab_type": "text"
      },
      "source": [
        "### 모델 불러오기"
      ]
    },
    {
      "cell_type": "code",
      "metadata": {
        "id": "B-CTOtkFMVEF",
        "colab_type": "code",
        "colab": {
          "base_uri": "https://localhost:8080/",
          "height": 107
        },
        "outputId": "a4da9dd7-5ba0-4229-bb99-571fbb49c036"
      },
      "source": [
        "sess = tf.Session()\n",
        "# 모델을 저장하고 불러오는 API를 초기화한다.\n",
        "# global_variables 함수를 통해 앞서 정의하였던 변수들을 가져온다.\n",
        "# 해당 함수로 사용한 변수들을 저장하고 불러올 수 있도록 만들 수 있다.\n",
        "saver = tf.train.Saver(tf.global_variables())\n",
        "\n",
        "# model파일에 저장된 체크포인트가 있다면\n",
        "ckpt = tf.train.get_checkpoint_state(basic_path + '/model')\n",
        "if ckpt and tf.train.checkpoint_exists(ckpt.model_checkpoint_path):\n",
        "  # 그 체크포인트를 불러오고\n",
        "  saver.restore(sess, ckpt.model_checkpoint_path)\n",
        "else: # 없다면\n",
        "  # 변수를 초기화하는 함수를 호출한다.\n",
        "  sess.run(tf.global_variables_initializer())"
      ],
      "execution_count": null,
      "outputs": [
        {
          "output_type": "stream",
          "text": [
            "WARNING:tensorflow:From <ipython-input-7-a48fad8437ce>:9: checkpoint_exists (from tensorflow.python.training.checkpoint_management) is deprecated and will be removed in a future version.\n",
            "Instructions for updating:\n",
            "Use standard file APIs to check for files with this prefix.\n",
            "INFO:tensorflow:Restoring parameters from drive/My Drive/Colab Notebooks/3분 딥러닝 텐서플로맛/05 - TensorBoard, Saver/model/dnn.ckpt-2\n"
          ],
          "name": "stdout"
        }
      ]
    },
    {
      "cell_type": "markdown",
      "metadata": {
        "id": "wjFHc6QkMJGy",
        "colab_type": "text"
      },
      "source": [
        "### 모델 학습 및 저장"
      ]
    },
    {
      "cell_type": "code",
      "metadata": {
        "id": "KFahWAhyXRCT",
        "colab_type": "code",
        "colab": {
          "base_uri": "https://localhost:8080/",
          "height": 70
        },
        "outputId": "f8d01601-635d-4908-d771-ebd1857d5d5c"
      },
      "source": [
        "for step in range(2):\n",
        "    sess.run(train_op, feed_dict={X: x_data, Y: y_data})\n",
        "\n",
        "    print('Step: %d, ' % sess.run(global_step),\n",
        "          'Cost: %.3f' % sess.run(cost, feed_dict={X: x_data, Y: y_data}))\n",
        "\n",
        "# 학습 후 변수를 저장한다.\n",
        "saver.save(sess, basic_path + '/model/dnn.ckpt', global_step=global_step)"
      ],
      "execution_count": null,
      "outputs": [
        {
          "output_type": "stream",
          "text": [
            "Step: 3,  Cost: 1.139\n",
            "Step: 4,  Cost: 1.108\n"
          ],
          "name": "stdout"
        },
        {
          "output_type": "execute_result",
          "data": {
            "text/plain": [
              "'drive/My Drive/Colab Notebooks/3분 딥러닝 텐서플로맛/05 - TensorBoard, Saver/model/dnn.ckpt-4'"
            ]
          },
          "metadata": {
            "tags": []
          },
          "execution_count": 8
        }
      ]
    },
    {
      "cell_type": "markdown",
      "metadata": {
        "id": "vt3lcP9hsmie",
        "colab_type": "text"
      },
      "source": [
        "### 모델 테스트"
      ]
    },
    {
      "cell_type": "code",
      "metadata": {
        "id": "1p82SwlFqty8",
        "colab_type": "code",
        "colab": {
          "base_uri": "https://localhost:8080/",
          "height": 70
        },
        "outputId": "24a99eab-061f-4e93-bad0-ef742754ece1"
      },
      "source": [
        "# 결과 확인\n",
        "# 0: 기타 1: 포유류, 2: 조류\n",
        "\n",
        "prediction = tf.argmax(model, 1)\n",
        "target = tf.argmax(Y, 1)\n",
        "print('예측값:', sess.run(prediction, feed_dict={X: x_data}))\n",
        "print('실제값:', sess.run(target, feed_dict={Y: y_data}))\n",
        "\n",
        "is_correct = tf.equal(prediction, target)\n",
        "accuracy = tf.reduce_mean(tf.cast(is_correct, tf.float32))\n",
        "print('정확도: %.2f' % sess.run(accuracy * 100, feed_dict={X: x_data, Y: y_data}))"
      ],
      "execution_count": null,
      "outputs": [
        {
          "output_type": "stream",
          "text": [
            "예측값: [0 2 2 0 0 1]\n",
            "실제값: [0 1 2 0 0 2]\n",
            "정확도: 66.67\n"
          ],
          "name": "stdout"
        }
      ]
    },
    {
      "cell_type": "markdown",
      "metadata": {
        "id": "W4I_rgDm2wcX",
        "colab_type": "text"
      },
      "source": [
        "# 전체 코드"
      ]
    },
    {
      "cell_type": "code",
      "metadata": {
        "id": "-WwbP-_a2yX3",
        "colab_type": "code",
        "colab": {
          "base_uri": "https://localhost:8080/",
          "height": 105
        },
        "outputId": "79fa0ed3-bb0f-4473-8af4-eda43f5cb30d"
      },
      "source": [
        "%tensorflow_version 1.x\n",
        "import tensorflow as tf\n",
        "import numpy as np\n",
        "\n",
        "data = np.loadtxt(basic_path + '/data.csv', delimiter=',',\n",
        "                  unpack=True, dtype='float32')\n",
        "\n",
        "# 털, 날개, 기타, 포유류, 조류\n",
        "x_data = np.transpose(data[0:2])\n",
        "y_data = np.transpose(data[2:])\n",
        "\n",
        "\n",
        "#########\n",
        "# 신경망 모델 구성\n",
        "######\n",
        "global_step = tf.Variable(0, trainable=False, name='global_step')\n",
        "\n",
        "X = tf.placeholder(tf.float32)\n",
        "Y = tf.placeholder(tf.float32)\n",
        "\n",
        "W1 = tf.Variable(tf.random_uniform([2, 10], -1., 1.))\n",
        "L1 = tf.nn.relu(tf.matmul(X, W1))\n",
        "\n",
        "W2 = tf.Variable(tf.random_uniform([10, 20], -1., 1.))\n",
        "L2 = tf.nn.relu(tf.matmul(L1, W2))\n",
        "\n",
        "W3 = tf.Variable(tf.random_uniform([20, 3], -1., 1.))\n",
        "model = tf.matmul(L2, W3)\n",
        "\n",
        "cost = tf.reduce_mean(\n",
        "    tf.nn.softmax_cross_entropy_with_logits_v2(labels=Y, logits=model))\n",
        "\n",
        "optimizer = tf.train.AdamOptimizer(learning_rate=0.01)\n",
        "train_op = optimizer.minimize(cost, global_step=global_step)\n",
        "\n",
        "\n",
        "#########\n",
        "# 신경망 모델 학습\n",
        "######\n",
        "sess = tf.Session()\n",
        "saver = tf.train.Saver(tf.global_variables())\n",
        "\n",
        "ckpt = tf.train.get_checkpoint_state(basic_path + '/model')\n",
        "if ckpt and tf.train.checkpoint_exists(ckpt.model_checkpoint_path):\n",
        "  saver.restore(sess, ckpt.model_checkpoint_path)\n",
        "else:\n",
        "  sess.run(tf.global_variables_initializer())\n",
        "\n",
        "for step in range(2):\n",
        "  sess.run(train_op, feed_dict={X: x_data, Y: y_data})\n",
        "\n",
        "  print('Step: %d, ' % sess.run(global_step),\n",
        "        'Cost: %.3f' % sess.run(cost, feed_dict={X: x_data, Y: y_data}))\n",
        "\n",
        "saver.save(sess, basic_path + '/model/dnn.ckpt', global_step=global_step)\n",
        "\n",
        "#########\n",
        "# 결과 확인\n",
        "# 0: 기타 1: 포유류, 2: 조류\n",
        "######\n",
        "prediction = tf.argmax(model, 1)\n",
        "target = tf.argmax(Y, 1)\n",
        "print('예측값:', sess.run(prediction, feed_dict={X: x_data}))\n",
        "print('실제값:', sess.run(target, feed_dict={Y: y_data}))\n",
        "\n",
        "is_correct = tf.equal(prediction, target)\n",
        "accuracy = tf.reduce_mean(tf.cast(is_correct, tf.float32))\n",
        "print('정확도: %.2f' % sess.run(accuracy * 100, feed_dict={X: x_data, Y: y_data}))"
      ],
      "execution_count": null,
      "outputs": [
        {
          "output_type": "stream",
          "text": [
            "Step: 1,  Cost: 1.206\n",
            "Step: 2,  Cost: 1.172\n",
            "예측값: [0 2 2 0 0 1]\n",
            "실제값: [0 1 2 0 0 2]\n",
            "정확도: 66.67\n"
          ],
          "name": "stdout"
        }
      ]
    }
  ]
}