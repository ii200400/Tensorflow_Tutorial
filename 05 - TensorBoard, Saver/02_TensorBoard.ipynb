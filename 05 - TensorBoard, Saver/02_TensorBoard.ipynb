{
  "nbformat": 4,
  "nbformat_minor": 0,
  "metadata": {
    "colab": {
      "name": "02.TensorBoard.ipynb",
      "provenance": [],
      "collapsed_sections": [],
      "mount_file_id": "1M5m7MFELo_rH3SdPbmwOhH99sVMt4VvD",
      "authorship_tag": "ABX9TyPiSWQD/zp9XDbchQ4PEafF",
      "include_colab_link": true
    },
    "kernelspec": {
      "name": "python3",
      "display_name": "Python 3"
    }
  },
  "cells": [
    {
      "cell_type": "markdown",
      "metadata": {
        "id": "view-in-github",
        "colab_type": "text"
      },
      "source": [
        "<a href=\"https://colab.research.google.com/github/ii200400/Tensorflow_Tutorial/blob/master/05%20-%20TensorBoard%2C%20Saver/02_TensorBoard.ipynb\" target=\"_parent\"><img src=\"https://colab.research.google.com/assets/colab-badge.svg\" alt=\"Open In Colab\"/></a>"
      ]
    },
    {
      "cell_type": "code",
      "metadata": {
        "id": "gll2UkyGCpk2",
        "colab_type": "code",
        "colab": {
          "base_uri": "https://localhost:8080/",
          "height": 34
        },
        "outputId": "8e5c440e-1fb6-4cee-bb11-e0f4e72b72f0"
      },
      "source": [
        "# 구글 드라이브 연동을 위한 import\n",
        "from google.colab import drive\n",
        "\n",
        "# 구글 드라이브 연동을 위한 인증\n",
        "drive.mount('/content/drive')\n",
        "\n",
        "basic_path = 'drive/My Drive/Colab Notebooks/3분 딥러닝 텐서플로맛/05 - TensorBoard, Saver'"
      ],
      "execution_count": null,
      "outputs": [
        {
          "output_type": "stream",
          "text": [
            "Drive already mounted at /content/drive; to attempt to forcibly remount, call drive.mount(\"/content/drive\", force_remount=True).\n"
          ],
          "name": "stdout"
        }
      ]
    },
    {
      "cell_type": "markdown",
      "metadata": {
        "id": "jetHoQmdlTvm",
        "colab_type": "text"
      },
      "source": [
        "# 개요\n",
        "\n",
        "텐서보드를 이용하기 위해 각종 변수들을 설정하고 저장하는 방법을 익히기\n",
        "\n",
        "---\n",
        "\n",
        "+ 그런데.. colab은 가상머신을 사용하므로 tensorboard를 사용할 때 추가적인 api나 서비스가 필수적이다.\n",
        "\n",
        "+ 슬프게도 1.x버전에서는 ngrok라는 서비스가 종료하면서  tensorboard의 사용할 수가 없게 되었다.\n",
        "\n",
        "+ 2.x버전에서는 가능하니 꼭 tensorboard가 활용되는 것을 보고 싶다면 해당 코드의 2.1버전을 보도록 하자."
      ]
    },
    {
      "cell_type": "code",
      "metadata": {
        "id": "xi-RDuVsmGGz",
        "colab_type": "code",
        "colab": {}
      },
      "source": [
        "%tensorflow_version 1.x\n",
        "import tensorflow as tf\n",
        "import numpy as np\n",
        "\n",
        "# TensorBoard notebook extension을 불러온다.\n",
        "%load_ext tensorboard"
      ],
      "execution_count": null,
      "outputs": []
    },
    {
      "cell_type": "markdown",
      "metadata": {
        "id": "Ovx8ScA1lbDr",
        "colab_type": "text"
      },
      "source": [
        "## 데이터 정의"
      ]
    },
    {
      "cell_type": "code",
      "metadata": {
        "id": "x-9BuWcGlwGn",
        "colab_type": "code",
        "colab": {}
      },
      "source": [
        "data = np.loadtxt(basic_path + '/data.csv', delimiter=',',\n",
        "                  unpack=True, dtype='float32')\n",
        "\n",
        "x_data = np.transpose(data[0:2])\n",
        "y_data = np.transpose(data[2:])"
      ],
      "execution_count": null,
      "outputs": []
    },
    {
      "cell_type": "markdown",
      "metadata": {
        "id": "h-eZ0d4UknhF",
        "colab_type": "text"
      },
      "source": [
        "## 모델 구성"
      ]
    },
    {
      "cell_type": "markdown",
      "metadata": {
        "id": "uW4p2a3bkwZW",
        "colab_type": "text"
      },
      "source": [
        "### 변수 정의"
      ]
    },
    {
      "cell_type": "code",
      "metadata": {
        "id": "rFzeoNvnktXk",
        "colab_type": "code",
        "colab": {}
      },
      "source": [
        "global_step = tf.Variable(0, trainable=False, name='global_step')\n",
        "\n",
        "X = tf.placeholder(tf.float32)\n",
        "Y = tf.placeholder(tf.float32)"
      ],
      "execution_count": null,
      "outputs": []
    },
    {
      "cell_type": "markdown",
      "metadata": {
        "id": "qN7c0OvuooXO",
        "colab_type": "text"
      },
      "source": [
        "### 신경망 정의"
      ]
    },
    {
      "cell_type": "code",
      "metadata": {
        "id": "9qRCGHYDky-y",
        "colab_type": "code",
        "colab": {}
      },
      "source": [
        "# 텐서보드에서 with tf.name_scope 으로 묶은 블럭은 한 레이어안에 표현된다.\n",
        "with tf.name_scope('layer1'):\n",
        "  W1 = tf.Variable(tf.random_uniform([2, 10], -1., 1.), name='W1')\n",
        "  L1 = tf.nn.relu(tf.matmul(X, W1))\n",
        "\n",
        "with tf.name_scope('layer2'):\n",
        "  W2 = tf.Variable(tf.random_uniform([10, 20], -1., 1.), name='W2')\n",
        "  L2 = tf.nn.relu(tf.matmul(L1, W2))\n",
        "\n",
        "with tf.name_scope('output'):\n",
        "  W3 = tf.Variable(tf.random_uniform([20, 3], -1., 1.), name='W3')\n",
        "  model = tf.matmul(L2, W3)\n",
        "\n",
        "with tf.name_scope('optimizer'):\n",
        "  cost = tf.reduce_mean(\n",
        "      tf.nn.softmax_cross_entropy_with_logits_v2(labels=Y, logits=model))\n",
        "\n",
        "  optimizer = tf.train.AdamOptimizer(learning_rate=0.01)\n",
        "  train_op = optimizer.minimize(cost, global_step=global_step)\n",
        "\n",
        "  # tf.summary.scalar 를 이용해 텐서보드로 확인하고 싶은 값들을 지정할 수 있다.\n",
        "  tf.summary.scalar('cost', cost)"
      ],
      "execution_count": null,
      "outputs": []
    },
    {
      "cell_type": "markdown",
      "metadata": {
        "id": "6Ef_RtndpHDs",
        "colab_type": "text"
      },
      "source": [
        "### 모델 불러오기"
      ]
    },
    {
      "cell_type": "code",
      "metadata": {
        "id": "239PZ7fMpKca",
        "colab_type": "code",
        "colab": {
          "base_uri": "https://localhost:8080/",
          "height": 106
        },
        "outputId": "7139bc94-773d-47d2-8112-2cbf02db1727"
      },
      "source": [
        "sess = tf.Session()\n",
        "saver = tf.train.Saver(tf.global_variables())\n",
        "\n",
        "ckpt = tf.train.get_checkpoint_state(basic_path + '/board_model')\n",
        "if ckpt and tf.train.checkpoint_exists(ckpt.model_checkpoint_path):\n",
        "  saver.restore(sess, ckpt.model_checkpoint_path)\n",
        "else:\n",
        "  sess.run(tf.global_variables_initializer())"
      ],
      "execution_count": null,
      "outputs": [
        {
          "output_type": "stream",
          "text": [
            "WARNING:tensorflow:From <ipython-input-6-8fc82f1c7fb4>:5: checkpoint_exists (from tensorflow.python.training.checkpoint_management) is deprecated and will be removed in a future version.\n",
            "Instructions for updating:\n",
            "Use standard file APIs to check for files with this prefix.\n",
            "INFO:tensorflow:Restoring parameters from drive/My Drive/Colab Notebooks/3분 딥러닝 텐서플로맛/05 - TensorBoard, Saver/board_model/dnn.ckpt-400\n"
          ],
          "name": "stdout"
        }
      ]
    },
    {
      "cell_type": "markdown",
      "metadata": {
        "id": "B8YAgOLWpMCL",
        "colab_type": "text"
      },
      "source": [
        "### 텐서보드에 사용할 그래프와 텐서값들을 저장\n",
        "\n",
        "만약 가상머신이 아니라면 아래와 같은 방법으로 텐서보드를 실행할 수 있다.\n",
        "\n",
        "1. 아래의 코드를 실행한다.\n",
        "2. 학습 후 다음의 명령어를 이용해 웹서버를 실행시킨 뒤 \\\n",
        "tensorboard --logdir=./logs \\\n",
        "위의 명령어를 cmd명령창에서 실행시킨다.\n",
        "3. 웹 브라우저에서 다음의 주소를 넣어서 텐서보드에서 확인할 수 있다.\\\n",
        "http://localhost:6006"
      ]
    },
    {
      "cell_type": "code",
      "metadata": {
        "id": "92YUBy_qpTkU",
        "colab_type": "code",
        "colab": {}
      },
      "source": [
        "# 텐서보드에서 표시해주기 위한 텐서들을 수집한다.\n",
        "merged = tf.summary.merge_all()\n",
        "# 위의 텐서값들을 어디에 저장할지 설정한다.\n",
        "writer = tf.summary.FileWriter(basic_path + '/logs', sess.graph)"
      ],
      "execution_count": null,
      "outputs": []
    },
    {
      "cell_type": "markdown",
      "metadata": {
        "id": "MkjQPO97o2ga",
        "colab_type": "text"
      },
      "source": [
        "### 모델 학습 및 저장"
      ]
    },
    {
      "cell_type": "code",
      "metadata": {
        "id": "qGhhyxWko4zF",
        "colab_type": "code",
        "colab": {
          "base_uri": "https://localhost:8080/",
          "height": 1000
        },
        "outputId": "62a14ce8-0096-4415-ab26-1a8fa7ea4ab5"
      },
      "source": [
        "for step in range(100):\n",
        "  sess.run(train_op, feed_dict={X: x_data, Y: y_data})\n",
        "\n",
        "  print('Step: %d, ' % sess.run(global_step),\n",
        "        'Cost: %.3f' % sess.run(cost, feed_dict={X: x_data, Y: y_data}))\n",
        "\n",
        "  # 적절한 시점에 저장할 값들을 수집하고 저장한다.\n",
        "  # 이 코드에 경우에는 매 훈련마다 저장하고 있다.\n",
        "  summary = sess.run(merged, feed_dict={X: x_data, Y: y_data})\n",
        "  writer.add_summary(summary, global_step=sess.run(global_step))\n",
        "\n",
        "saver.save(sess, basic_path + '/board_model/dnn.ckpt', global_step=global_step)"
      ],
      "execution_count": null,
      "outputs": [
        {
          "output_type": "stream",
          "text": [
            "Step: 401,  Cost: 0.549\n",
            "Step: 402,  Cost: 0.549\n",
            "Step: 403,  Cost: 0.549\n",
            "Step: 404,  Cost: 0.549\n",
            "Step: 405,  Cost: 0.549\n",
            "Step: 406,  Cost: 0.549\n",
            "Step: 407,  Cost: 0.549\n",
            "Step: 408,  Cost: 0.549\n",
            "Step: 409,  Cost: 0.549\n",
            "Step: 410,  Cost: 0.549\n",
            "Step: 411,  Cost: 0.549\n",
            "Step: 412,  Cost: 0.549\n",
            "Step: 413,  Cost: 0.549\n",
            "Step: 414,  Cost: 0.549\n",
            "Step: 415,  Cost: 0.549\n",
            "Step: 416,  Cost: 0.549\n",
            "Step: 417,  Cost: 0.549\n",
            "Step: 418,  Cost: 0.549\n",
            "Step: 419,  Cost: 0.549\n",
            "Step: 420,  Cost: 0.549\n",
            "Step: 421,  Cost: 0.549\n",
            "Step: 422,  Cost: 0.549\n",
            "Step: 423,  Cost: 0.549\n",
            "Step: 424,  Cost: 0.549\n",
            "Step: 425,  Cost: 0.549\n",
            "Step: 426,  Cost: 0.549\n",
            "Step: 427,  Cost: 0.549\n",
            "Step: 428,  Cost: 0.549\n",
            "Step: 429,  Cost: 0.549\n",
            "Step: 430,  Cost: 0.549\n",
            "Step: 431,  Cost: 0.549\n",
            "Step: 432,  Cost: 0.549\n",
            "Step: 433,  Cost: 0.549\n",
            "Step: 434,  Cost: 0.549\n",
            "Step: 435,  Cost: 0.549\n",
            "Step: 436,  Cost: 0.549\n",
            "Step: 437,  Cost: 0.549\n",
            "Step: 438,  Cost: 0.549\n",
            "Step: 439,  Cost: 0.549\n",
            "Step: 440,  Cost: 0.549\n",
            "Step: 441,  Cost: 0.549\n",
            "Step: 442,  Cost: 0.549\n",
            "Step: 443,  Cost: 0.549\n",
            "Step: 444,  Cost: 0.549\n",
            "Step: 445,  Cost: 0.549\n",
            "Step: 446,  Cost: 0.549\n",
            "Step: 447,  Cost: 0.549\n",
            "Step: 448,  Cost: 0.549\n",
            "Step: 449,  Cost: 0.549\n",
            "Step: 450,  Cost: 0.549\n",
            "Step: 451,  Cost: 0.549\n",
            "Step: 452,  Cost: 0.549\n",
            "Step: 453,  Cost: 0.549\n",
            "Step: 454,  Cost: 0.549\n",
            "Step: 455,  Cost: 0.549\n",
            "Step: 456,  Cost: 0.549\n",
            "Step: 457,  Cost: 0.549\n",
            "Step: 458,  Cost: 0.549\n",
            "Step: 459,  Cost: 0.549\n",
            "Step: 460,  Cost: 0.549\n",
            "Step: 461,  Cost: 0.549\n",
            "Step: 462,  Cost: 0.549\n",
            "Step: 463,  Cost: 0.549\n",
            "Step: 464,  Cost: 0.549\n",
            "Step: 465,  Cost: 0.549\n",
            "Step: 466,  Cost: 0.549\n",
            "Step: 467,  Cost: 0.549\n",
            "Step: 468,  Cost: 0.549\n",
            "Step: 469,  Cost: 0.549\n",
            "Step: 470,  Cost: 0.549\n",
            "Step: 471,  Cost: 0.549\n",
            "Step: 472,  Cost: 0.549\n",
            "Step: 473,  Cost: 0.549\n",
            "Step: 474,  Cost: 0.549\n",
            "Step: 475,  Cost: 0.549\n",
            "Step: 476,  Cost: 0.549\n",
            "Step: 477,  Cost: 0.549\n",
            "Step: 478,  Cost: 0.549\n",
            "Step: 479,  Cost: 0.549\n",
            "Step: 480,  Cost: 0.549\n",
            "Step: 481,  Cost: 0.549\n",
            "Step: 482,  Cost: 0.549\n",
            "Step: 483,  Cost: 0.549\n",
            "Step: 484,  Cost: 0.549\n",
            "Step: 485,  Cost: 0.549\n",
            "Step: 486,  Cost: 0.549\n",
            "Step: 487,  Cost: 0.549\n",
            "Step: 488,  Cost: 0.549\n",
            "Step: 489,  Cost: 0.549\n",
            "Step: 490,  Cost: 0.549\n",
            "Step: 491,  Cost: 0.549\n",
            "Step: 492,  Cost: 0.549\n",
            "Step: 493,  Cost: 0.549\n",
            "Step: 494,  Cost: 0.549\n",
            "Step: 495,  Cost: 0.549\n",
            "Step: 496,  Cost: 0.549\n",
            "Step: 497,  Cost: 0.549\n",
            "Step: 498,  Cost: 0.549\n",
            "Step: 499,  Cost: 0.549\n",
            "Step: 500,  Cost: 0.549\n"
          ],
          "name": "stdout"
        },
        {
          "output_type": "execute_result",
          "data": {
            "text/plain": [
              "'drive/My Drive/Colab Notebooks/3분 딥러닝 텐서플로맛/05 - TensorBoard, Saver/board_model/dnn.ckpt-500'"
            ]
          },
          "metadata": {
            "tags": []
          },
          "execution_count": 8
        }
      ]
    },
    {
      "cell_type": "markdown",
      "metadata": {
        "id": "YPoCGk1Nu97A",
        "colab_type": "text"
      },
      "source": [
        "###모델 테스트"
      ]
    },
    {
      "cell_type": "code",
      "metadata": {
        "id": "weLsXzQbmASA",
        "colab_type": "code",
        "colab": {
          "base_uri": "https://localhost:8080/",
          "height": 69
        },
        "outputId": "1d943692-d102-42b2-a674-b70632178b14"
      },
      "source": [
        "# 0: 기타 1: 포유류, 2: 조류\n",
        "\n",
        "prediction = tf.argmax(model, 1)\n",
        "target = tf.argmax(Y, 1)\n",
        "print('예측값:', sess.run(prediction, feed_dict={X: x_data}))\n",
        "print('실제값:', sess.run(target, feed_dict={Y: y_data}))\n",
        "\n",
        "is_correct = tf.equal(prediction, target)\n",
        "accuracy = tf.reduce_mean(tf.cast(is_correct, tf.float32))\n",
        "print('정확도: %.2f' % sess.run(accuracy * 100, feed_dict={X: x_data, Y: y_data}))"
      ],
      "execution_count": null,
      "outputs": [
        {
          "output_type": "stream",
          "text": [
            "예측값: [0 1 2 0 0 2]\n",
            "실제값: [0 1 2 0 0 2]\n",
            "정확도: 100.00\n"
          ],
          "name": "stdout"
        }
      ]
    },
    {
      "cell_type": "markdown",
      "metadata": {
        "id": "glt_-dcAlwbj",
        "colab_type": "text"
      },
      "source": [
        "# 전체 코드"
      ]
    },
    {
      "cell_type": "code",
      "metadata": {
        "id": "rQDSmyz7XzxS",
        "colab_type": "code",
        "colab": {
          "base_uri": "https://localhost:8080/",
          "height": 238
        },
        "outputId": "9806c5b1-eb58-400a-d3b2-2081d9cfba75"
      },
      "source": [
        "%tensorflow_version 1.x\n",
        "import tensorflow as tf\n",
        "import numpy as np\n",
        "\n",
        "data = np.loadtxt(basic_path + '/data.csv', delimiter=',',\n",
        "                  unpack=True, dtype='float32')\n",
        "\n",
        "x_data = np.transpose(data[0:2])\n",
        "y_data = np.transpose(data[2:])\n",
        "\n",
        "#########\n",
        "# 신경망 모델 구성\n",
        "######\n",
        "\n",
        "global_step = tf.Variable(0, trainable=False, name='global_step')\n",
        "\n",
        "X = tf.placeholder(tf.float32)\n",
        "Y = tf.placeholder(tf.float32)\n",
        "\n",
        "with tf.name_scope('layer1'):\n",
        "    W1 = tf.Variable(tf.random_uniform([2, 10], -1., 1.), name='W1')\n",
        "    L1 = tf.nn.relu(tf.matmul(X, W1))\n",
        "\n",
        "with tf.name_scope('layer2'):\n",
        "    W2 = tf.Variable(tf.random_uniform([10, 20], -1., 1.), name='W2')\n",
        "    L2 = tf.nn.relu(tf.matmul(L1, W2))\n",
        "\n",
        "with tf.name_scope('output'):\n",
        "    W3 = tf.Variable(tf.random_uniform([20, 3], -1., 1.), name='W3')\n",
        "    model = tf.matmul(L2, W3)\n",
        "\n",
        "with tf.name_scope('optimizer'):\n",
        "    cost = tf.reduce_mean(\n",
        "        tf.nn.softmax_cross_entropy_with_logits_v2(labels=Y, logits=model))\n",
        "\n",
        "    optimizer = tf.train.AdamOptimizer(learning_rate=0.01)\n",
        "    train_op = optimizer.minimize(cost, global_step=global_step)\n",
        "\n",
        "    tf.summary.scalar('cost', cost)\n",
        "\n",
        "\n",
        "#########\n",
        "# 신경망 모델 학습\n",
        "######\n",
        "\n",
        "sess = tf.Session()\n",
        "saver = tf.train.Saver(tf.global_variables())\n",
        "\n",
        "ckpt = tf.train.get_checkpoint_state(basic_path + '/board_model')\n",
        "if ckpt and tf.train.checkpoint_exists(ckpt.model_checkpoint_path):\n",
        "    saver.restore(sess, ckpt.model_checkpoint_path)\n",
        "else:\n",
        "    sess.run(tf.global_variables_initializer())\n",
        "\n",
        "merged = tf.summary.merge_all()\n",
        "writer = tf.summary.FileWriter(basic_path + '/logs', sess.graph)\n",
        "\n",
        "for step in range(100):\n",
        "    sess.run(train_op, feed_dict={X: x_data, Y: y_data})\n",
        "\n",
        "    print('Step: %d, ' % sess.run(global_step),\n",
        "          'Cost: %.3f' % sess.run(cost, feed_dict={X: x_data, Y: y_data}))\n",
        "\n",
        "    summary = sess.run(merged, feed_dict={X: x_data, Y: y_data})\n",
        "    writer.add_summary(summary, global_step=sess.run(global_step))\n",
        "\n",
        "saver.save(sess, basic_path + '/board_model/dnn.ckpt', global_step=global_step)\n",
        "\n",
        "#########\n",
        "# 결과 확인\n",
        "# 0: 기타 1: 포유류, 2: 조류\n",
        "######\n",
        "\n",
        "prediction = tf.argmax(model, 1)\n",
        "target = tf.argmax(Y, 1)\n",
        "print('예측값:', sess.run(prediction, feed_dict={X: x_data}))\n",
        "print('실제값:', sess.run(target, feed_dict={Y: y_data}))\n",
        "\n",
        "is_correct = tf.equal(prediction, target)\n",
        "accuracy = tf.reduce_mean(tf.cast(is_correct, tf.float32))\n",
        "print('정확도: %.2f' % sess.run(accuracy * 100, feed_dict={X: x_data, Y: y_data}))"
      ],
      "execution_count": null,
      "outputs": [
        {
          "output_type": "error",
          "ename": "NameError",
          "evalue": "ignored",
          "traceback": [
            "\u001b[0;31m---------------------------------------------------------------------------\u001b[0m",
            "\u001b[0;31mNameError\u001b[0m                                 Traceback (most recent call last)",
            "\u001b[0;32m<ipython-input-1-b3cf3bb6cb91>\u001b[0m in \u001b[0;36m<module>\u001b[0;34m()\u001b[0m\n\u001b[1;32m      3\u001b[0m \u001b[0;32mimport\u001b[0m \u001b[0mnumpy\u001b[0m \u001b[0;32mas\u001b[0m \u001b[0mnp\u001b[0m\u001b[0;34m\u001b[0m\u001b[0;34m\u001b[0m\u001b[0m\n\u001b[1;32m      4\u001b[0m \u001b[0;34m\u001b[0m\u001b[0m\n\u001b[0;32m----> 5\u001b[0;31m data = np.loadtxt(basic_path + '/data.csv', delimiter=',',\n\u001b[0m\u001b[1;32m      6\u001b[0m                   unpack=True, dtype='float32')\n\u001b[1;32m      7\u001b[0m \u001b[0;34m\u001b[0m\u001b[0m\n",
            "\u001b[0;31mNameError\u001b[0m: name 'basic_path' is not defined"
          ]
        }
      ]
    }
  ]
}