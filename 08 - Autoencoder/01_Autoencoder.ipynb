{
  "nbformat": 4,
  "nbformat_minor": 0,
  "metadata": {
    "colab": {
      "name": "01.Autoencoder.ipynb",
      "provenance": [],
      "collapsed_sections": [],
      "authorship_tag": "ABX9TyOvLKux52duGj8at4wjjzQT",
      "include_colab_link": true
    },
    "kernelspec": {
      "name": "python3",
      "display_name": "Python 3"
    }
  },
  "cells": [
    {
      "cell_type": "markdown",
      "metadata": {
        "id": "view-in-github",
        "colab_type": "text"
      },
      "source": [
        "<a href=\"https://colab.research.google.com/github/ii200400/Tensorflow_Tutorial/blob/master/08%20-%20Autoencoder/01_Autoencoder.ipynb\" target=\"_parent\"><img src=\"https://colab.research.google.com/assets/colab-badge.svg\" alt=\"Open In Colab\"/></a>"
      ]
    },
    {
      "cell_type": "markdown",
      "metadata": {
        "id": "B8pcrGRmQoIo",
        "colab_type": "text"
      },
      "source": [
        "# 개요\n",
        "\n",
        "대표적인 비지도(Unsupervised) 학습 방법인 Autoencoder 구현하기!"
      ]
    },
    {
      "cell_type": "code",
      "metadata": {
        "id": "ihMrtqfpQ1Ss",
        "colab_type": "code",
        "colab": {}
      },
      "source": [
        "%tensorflow_version 1.x\n",
        "import tensorflow as tf\n",
        "import numpy as np\n",
        "import matplotlib.pyplot as plt"
      ],
      "execution_count": null,
      "outputs": []
    },
    {
      "cell_type": "markdown",
      "metadata": {
        "id": "cOKMTw00STWU",
        "colab_type": "text"
      },
      "source": [
        "## 데이터 정의"
      ]
    },
    {
      "cell_type": "code",
      "metadata": {
        "id": "dbF1KTPdSa2s",
        "colab_type": "code",
        "colab": {
          "base_uri": "https://localhost:8080/",
          "height": 543
        },
        "outputId": "50c580a6-7fa1-4a9d-a85e-f988eae2a557"
      },
      "source": [
        "from tensorflow.examples.tutorials.mnist import input_data\n",
        "mnist = input_data.read_data_sets(\"./mnist/data/\", one_hot=True)"
      ],
      "execution_count": null,
      "outputs": [
        {
          "output_type": "stream",
          "text": [
            "WARNING:tensorflow:From <ipython-input-2-4dcbd946c02b>:2: read_data_sets (from tensorflow.contrib.learn.python.learn.datasets.mnist) is deprecated and will be removed in a future version.\n",
            "Instructions for updating:\n",
            "Please use alternatives such as official/mnist/dataset.py from tensorflow/models.\n",
            "WARNING:tensorflow:From /usr/local/lib/python3.6/dist-packages/tensorflow_core/contrib/learn/python/learn/datasets/mnist.py:260: maybe_download (from tensorflow.contrib.learn.python.learn.datasets.base) is deprecated and will be removed in a future version.\n",
            "Instructions for updating:\n",
            "Please write your own downloading logic.\n",
            "WARNING:tensorflow:From /usr/local/lib/python3.6/dist-packages/tensorflow_core/contrib/learn/python/learn/datasets/base.py:252: _internal_retry.<locals>.wrap.<locals>.wrapped_fn (from tensorflow.contrib.learn.python.learn.datasets.base) is deprecated and will be removed in a future version.\n",
            "Instructions for updating:\n",
            "Please use urllib or similar directly.\n",
            "Successfully downloaded train-images-idx3-ubyte.gz 9912422 bytes.\n",
            "WARNING:tensorflow:From /usr/local/lib/python3.6/dist-packages/tensorflow_core/contrib/learn/python/learn/datasets/mnist.py:262: extract_images (from tensorflow.contrib.learn.python.learn.datasets.mnist) is deprecated and will be removed in a future version.\n",
            "Instructions for updating:\n",
            "Please use tf.data to implement this functionality.\n",
            "Extracting ./mnist/data/train-images-idx3-ubyte.gz\n",
            "Successfully downloaded train-labels-idx1-ubyte.gz 28881 bytes.\n",
            "WARNING:tensorflow:From /usr/local/lib/python3.6/dist-packages/tensorflow_core/contrib/learn/python/learn/datasets/mnist.py:267: extract_labels (from tensorflow.contrib.learn.python.learn.datasets.mnist) is deprecated and will be removed in a future version.\n",
            "Instructions for updating:\n",
            "Please use tf.data to implement this functionality.\n",
            "Extracting ./mnist/data/train-labels-idx1-ubyte.gz\n",
            "WARNING:tensorflow:From /usr/local/lib/python3.6/dist-packages/tensorflow_core/contrib/learn/python/learn/datasets/mnist.py:110: dense_to_one_hot (from tensorflow.contrib.learn.python.learn.datasets.mnist) is deprecated and will be removed in a future version.\n",
            "Instructions for updating:\n",
            "Please use tf.one_hot on tensors.\n",
            "Successfully downloaded t10k-images-idx3-ubyte.gz 1648877 bytes.\n",
            "Extracting ./mnist/data/t10k-images-idx3-ubyte.gz\n",
            "Successfully downloaded t10k-labels-idx1-ubyte.gz 4542 bytes.\n",
            "Extracting ./mnist/data/t10k-labels-idx1-ubyte.gz\n",
            "WARNING:tensorflow:From /usr/local/lib/python3.6/dist-packages/tensorflow_core/contrib/learn/python/learn/datasets/mnist.py:290: DataSet.__init__ (from tensorflow.contrib.learn.python.learn.datasets.mnist) is deprecated and will be removed in a future version.\n",
            "Instructions for updating:\n",
            "Please use alternatives such as official/mnist/dataset.py from tensorflow/models.\n"
          ],
          "name": "stdout"
        }
      ]
    },
    {
      "cell_type": "markdown",
      "metadata": {
        "id": "IqXGBfZmT7_J",
        "colab_type": "text"
      },
      "source": [
        "## 모델 구성"
      ]
    },
    {
      "cell_type": "markdown",
      "metadata": {
        "id": "QAbSFTtZT0g0",
        "colab_type": "text"
      },
      "source": [
        "### 신경망 옵션과 변수 지정"
      ]
    },
    {
      "cell_type": "code",
      "metadata": {
        "id": "rsvBwaHVT4bn",
        "colab_type": "code",
        "colab": {}
      },
      "source": [
        "learning_rate = 0.01\n",
        "training_epoch = 20\n",
        "batch_size = 100\n",
        "\n",
        "# 신경망 레이어 구성 옵션\n",
        "n_hidden = 256  # 히든 레이어의 뉴런 갯수\n",
        "n_input = 28*28   # 입력값 크기 - 이미지 픽셀수\n",
        "\n",
        "# 다음과 같이 이어지는 레이어를 구성하기 위한 매개변수들이다..\n",
        "# input -> encode -> decode -> output\n",
        "\n",
        "# 입력값을 Y로 사용하기 때문에 Y 가 없다.\n",
        "X = tf.placeholder(tf.float32, [None, n_input])\n",
        "\n",
        "# 인코더 레이어와 디코더 레이어의 가중치와 편향 변수들\n",
        "W_encode = tf.Variable(tf.random_normal([n_input, n_hidden]))\n",
        "b_encode = tf.Variable(tf.random_normal([n_hidden]))\n",
        "\n",
        "W_decode = tf.Variable(tf.random_normal([n_hidden, n_input]))\n",
        "b_decode = tf.Variable(tf.random_normal([n_input]))\n"
      ],
      "execution_count": null,
      "outputs": []
    },
    {
      "cell_type": "markdown",
      "metadata": {
        "id": "0OOJue1OT_Ct",
        "colab_type": "text"
      },
      "source": [
        "### 신경망 구성"
      ]
    },
    {
      "cell_type": "code",
      "metadata": {
        "id": "hEnbXJe1UAtX",
        "colab_type": "code",
        "colab": {}
      },
      "source": [
        "# sigmoid(X * W + b) 함수를 이용해 신경망 레이어를 구성한다.\n",
        "# encode 의 출력의 크기를 입력값보다 작은 크기로 만들어 정보를 압축하여 특성을 뽑아내고,\n",
        "# decode 의 출력을 입력값과 동일한 크기를 갖도록하여 입력과 똑같은 크기를 만든다.\n",
        "# 히든 레이어의 구성과 특성치을 뽑아내는 알고리즘을 변경하여 다양한 오토인코더를 만들 수 있다.\n",
        "\n",
        "# 인코더 레이어 구성\n",
        "encoder = tf.nn.sigmoid(tf.add(tf.matmul(X, W_encode), b_encode))\n",
        "# 디코더 레이어 구성(최종 레이어)\n",
        "decoder = tf.nn.sigmoid(tf.add(tf.matmul(encoder, W_decode), b_decode))"
      ],
      "execution_count": null,
      "outputs": []
    },
    {
      "cell_type": "markdown",
      "metadata": {
        "id": "3W-hUNonU3Br",
        "colab_type": "text"
      },
      "source": [
        "### 비용 함수, 최적화 함수 설정"
      ]
    },
    {
      "cell_type": "code",
      "metadata": {
        "id": "me0Or_zHU8mc",
        "colab_type": "code",
        "colab": {
          "base_uri": "https://localhost:8080/",
          "height": 141
        },
        "outputId": "a67ab56f-9bd8-422c-ea8a-d0a20f23f466"
      },
      "source": [
        "# 디코더는 인풋과 최대한 같은 결과를 내야 하므로,\n",
        "# 입력 값인 X 값과 decoder 와의 차이를 손실값으로 설정한다.\n",
        "cost = tf.reduce_mean(tf.pow(X - decoder, 2))\n",
        "optimizer = tf.train.RMSPropOptimizer(learning_rate).minimize(cost)"
      ],
      "execution_count": null,
      "outputs": [
        {
          "output_type": "stream",
          "text": [
            "WARNING:tensorflow:From /usr/local/lib/python3.6/dist-packages/tensorflow_core/python/ops/math_grad.py:1375: where (from tensorflow.python.ops.array_ops) is deprecated and will be removed in a future version.\n",
            "Instructions for updating:\n",
            "Use tf.where in 2.0, which has the same broadcast rule as np.where\n",
            "WARNING:tensorflow:From /usr/local/lib/python3.6/dist-packages/tensorflow_core/python/training/rmsprop.py:119: calling Ones.__init__ (from tensorflow.python.ops.init_ops) with dtype is deprecated and will be removed in a future version.\n",
            "Instructions for updating:\n",
            "Call initializer instance with the dtype argument instead of passing it to the constructor\n"
          ],
          "name": "stdout"
        }
      ]
    },
    {
      "cell_type": "markdown",
      "metadata": {
        "id": "w75FJAQgU-OO",
        "colab_type": "text"
      },
      "source": [
        "## 모델 학습"
      ]
    },
    {
      "cell_type": "code",
      "metadata": {
        "id": "UhwvPTd-U_1L",
        "colab_type": "code",
        "colab": {
          "base_uri": "https://localhost:8080/",
          "height": 366
        },
        "outputId": "1451eb57-d259-4eee-b50b-1fec78398b46"
      },
      "source": [
        "init = tf.global_variables_initializer()\n",
        "sess = tf.Session()\n",
        "sess.run(init)\n",
        "\n",
        "total_batch = int(mnist.train.num_examples/batch_size)\n",
        "\n",
        "for epoch in range(training_epoch):\n",
        "    total_cost = 0\n",
        "\n",
        "    for i in range(total_batch):\n",
        "        batch_xs, batch_ys = mnist.train.next_batch(batch_size)\n",
        "        _, cost_val = sess.run([optimizer, cost],\n",
        "                               feed_dict={X: batch_xs})\n",
        "        total_cost += cost_val\n",
        "\n",
        "    print('Epoch:', '%04d' % (epoch + 1),\n",
        "          'Avg. cost =', '{:.4f}'.format(total_cost / total_batch))"
      ],
      "execution_count": null,
      "outputs": [
        {
          "output_type": "stream",
          "text": [
            "Epoch: 0001 Avg. cost = 0.1903\n",
            "Epoch: 0002 Avg. cost = 0.0570\n",
            "Epoch: 0003 Avg. cost = 0.0435\n",
            "Epoch: 0004 Avg. cost = 0.0391\n",
            "Epoch: 0005 Avg. cost = 0.0358\n",
            "Epoch: 0006 Avg. cost = 0.0339\n",
            "Epoch: 0007 Avg. cost = 0.0317\n",
            "Epoch: 0008 Avg. cost = 0.0306\n",
            "Epoch: 0009 Avg. cost = 0.0301\n",
            "Epoch: 0010 Avg. cost = 0.0295\n",
            "Epoch: 0011 Avg. cost = 0.0291\n",
            "Epoch: 0012 Avg. cost = 0.0282\n",
            "Epoch: 0013 Avg. cost = 0.0279\n",
            "Epoch: 0014 Avg. cost = 0.0276\n",
            "Epoch: 0015 Avg. cost = 0.0272\n",
            "Epoch: 0016 Avg. cost = 0.0270\n",
            "Epoch: 0017 Avg. cost = 0.0258\n",
            "Epoch: 0018 Avg. cost = 0.0250\n",
            "Epoch: 0019 Avg. cost = 0.0239\n",
            "Epoch: 0020 Avg. cost = 0.0237\n"
          ],
          "name": "stdout"
        }
      ]
    },
    {
      "cell_type": "markdown",
      "metadata": {
        "id": "GdrhF_VbVBuI",
        "colab_type": "text"
      },
      "source": [
        "### 모델 테스트"
      ]
    },
    {
      "cell_type": "code",
      "metadata": {
        "id": "9FBb12MKVDN_",
        "colab_type": "code",
        "colab": {
          "base_uri": "https://localhost:8080/",
          "height": 364
        },
        "outputId": "ed887c90-d9cd-444a-aff2-534d46fb7840"
      },
      "source": [
        "# 입력값(위쪽)과 모델이 생성한 값(아래쪽)을 시각적으로 비교해보자. (matplot 활용)\n",
        "sample_size = 10\n",
        "\n",
        "samples = sess.run(decoder, feed_dict={X: mnist.test.images[:sample_size]})\n",
        "print(samples)\n",
        "\n",
        "fig, ax = plt.subplots(2, sample_size, figsize=(sample_size, 2))\n",
        "\n",
        "for i in range(sample_size):\n",
        "    ax[0][i].set_axis_off()\n",
        "    ax[1][i].set_axis_off()\n",
        "    ax[0][i].imshow(np.reshape(mnist.test.images[i], (28, 28)))\n",
        "    ax[1][i].imshow(np.reshape(samples[i], (28, 28)))\n",
        "\n",
        "plt.show()"
      ],
      "execution_count": null,
      "outputs": [
        {
          "output_type": "stream",
          "text": [
            "[[0.0000000e+00 3.8743019e-07 0.0000000e+00 ... 0.0000000e+00\n",
            "  0.0000000e+00 0.0000000e+00]\n",
            " [0.0000000e+00 6.4074993e-06 0.0000000e+00 ... 0.0000000e+00\n",
            "  2.9802322e-07 0.0000000e+00]\n",
            " [1.0085106e-04 7.3015690e-06 1.1920929e-07 ... 0.0000000e+00\n",
            "  2.2044778e-04 0.0000000e+00]\n",
            " ...\n",
            " [0.0000000e+00 0.0000000e+00 0.0000000e+00 ... 0.0000000e+00\n",
            "  1.4901161e-07 8.9406967e-08]\n",
            " [1.1920929e-07 4.7683716e-07 2.9802322e-08 ... 0.0000000e+00\n",
            "  4.1723251e-07 0.0000000e+00]\n",
            " [0.0000000e+00 2.6226044e-06 2.3841858e-07 ... 0.0000000e+00\n",
            "  1.7881393e-06 0.0000000e+00]]\n"
          ],
          "name": "stdout"
        },
        {
          "output_type": "display_data",
          "data": {
            "image/png": "[encoded data removed]",
            "text/plain": [
              "<Figure size 720x144 with 20 Axes>"
            ]
          },
          "metadata": {
            "tags": []
          }
        }
      ]
    },
    {
      "cell_type": "markdown",
      "metadata": {
        "id": "2kl_BUaYQxQ-",
        "colab_type": "text"
      },
      "source": [
        "## 전체 코드"
      ]
    },
    {
      "cell_type": "code",
      "metadata": {
        "id": "lf5wCHVZQw9t",
        "colab_type": "code",
        "colab": {
          "base_uri": "https://localhost:8080/",
          "height": 556
        },
        "outputId": "10a4b513-5732-41a5-da00-e2984e7c4b96"
      },
      "source": [
        "%tensorflow_version 1.x\n",
        "import tensorflow as tf\n",
        "import numpy as np\n",
        "import matplotlib.pyplot as plt\n",
        "\n",
        "from tensorflow.examples.tutorials.mnist import input_data\n",
        "mnist = input_data.read_data_sets(\"./mnist/data/\", one_hot=True)\n",
        "\n",
        "#########\n",
        "# 옵션 및 변수 설정\n",
        "######\n",
        "\n",
        "learning_rate = 0.01\n",
        "training_epoch = 20\n",
        "batch_size = 100\n",
        "\n",
        "n_hidden = 256  # 히든 레이어의 뉴런 갯수\n",
        "n_input = 28*28   # 입력값 크기 - 이미지 픽셀수\n",
        "\n",
        "X = tf.placeholder(tf.float32, [None, n_input])\n",
        "\n",
        "W_encode = tf.Variable(tf.random_normal([n_input, n_hidden]))\n",
        "b_encode = tf.Variable(tf.random_normal([n_hidden]))\n",
        "\n",
        "W_decode = tf.Variable(tf.random_normal([n_hidden, n_input]))\n",
        "b_decode = tf.Variable(tf.random_normal([n_input]))\n",
        "\n",
        "#########\n",
        "# 신경망 모델 구성\n",
        "######\n",
        "\n",
        "encoder = tf.nn.sigmoid(tf.add(tf.matmul(X, W_encode), b_encode))\n",
        "decoder = tf.nn.sigmoid(tf.add(tf.matmul(encoder, W_decode), b_decode))\n",
        "\n",
        "cost = tf.reduce_mean(tf.pow(X - decoder, 2))\n",
        "optimizer = tf.train.RMSPropOptimizer(learning_rate).minimize(cost)\n",
        "\n",
        "#########\n",
        "# 신경망 모델 학습\n",
        "######\n",
        "\n",
        "init = tf.global_variables_initializer()\n",
        "sess = tf.Session()\n",
        "sess.run(init)\n",
        "\n",
        "total_batch = int(mnist.train.num_examples/batch_size)\n",
        "\n",
        "for epoch in range(training_epoch):\n",
        "    total_cost = 0\n",
        "\n",
        "    for i in range(total_batch):\n",
        "        batch_xs, batch_ys = mnist.train.next_batch(batch_size)\n",
        "        _, cost_val = sess.run([optimizer, cost],\n",
        "                               feed_dict={X: batch_xs})\n",
        "        total_cost += cost_val\n",
        "\n",
        "    print('Epoch:', '%04d' % (epoch + 1),\n",
        "          'Avg. cost =', '{:.4f}'.format(total_cost / total_batch))\n",
        "\n",
        "#########\n",
        "# 결과 확인\n",
        "# 입력값과 출력값을 matplot을 활용하여 시각적으로 비교\n",
        "######\n",
        "sample_size = 10\n",
        "\n",
        "samples = sess.run(decoder,feed_dict={X: mnist.test.images[:sample_size]})\n",
        "\n",
        "fig, ax = plt.subplots(2, sample_size, figsize=(sample_size, 2))\n",
        "\n",
        "for i in range(sample_size):\n",
        "    ax[0][i].set_axis_off()\n",
        "    ax[1][i].set_axis_off()\n",
        "    ax[0][i].imshow(np.reshape(mnist.test.images[i], (28, 28)))\n",
        "    ax[1][i].imshow(np.reshape(samples[i], (28, 28)))\n",
        "\n",
        "plt.show()"
      ],
      "execution_count": null,
      "outputs": [
        {
          "output_type": "stream",
          "text": [
            "Extracting ./mnist/data/train-images-idx3-ubyte.gz\n",
            "Extracting ./mnist/data/train-labels-idx1-ubyte.gz\n",
            "Extracting ./mnist/data/t10k-images-idx3-ubyte.gz\n",
            "Extracting ./mnist/data/t10k-labels-idx1-ubyte.gz\n",
            "Epoch: 0001 Avg. cost = 0.1966\n",
            "Epoch: 0002 Avg. cost = 0.0621\n",
            "Epoch: 0003 Avg. cost = 0.0526\n",
            "Epoch: 0004 Avg. cost = 0.0472\n",
            "Epoch: 0005 Avg. cost = 0.0435\n",
            "Epoch: 0006 Avg. cost = 0.0385\n",
            "Epoch: 0007 Avg. cost = 0.0354\n",
            "Epoch: 0008 Avg. cost = 0.0346\n",
            "Epoch: 0009 Avg. cost = 0.0340\n",
            "Epoch: 0010 Avg. cost = 0.0334\n",
            "Epoch: 0011 Avg. cost = 0.0330\n",
            "Epoch: 0012 Avg. cost = 0.0325\n",
            "Epoch: 0013 Avg. cost = 0.0322\n",
            "Epoch: 0014 Avg. cost = 0.0317\n",
            "Epoch: 0015 Avg. cost = 0.0315\n",
            "Epoch: 0016 Avg. cost = 0.0312\n",
            "Epoch: 0017 Avg. cost = 0.0310\n",
            "Epoch: 0018 Avg. cost = 0.0308\n",
            "Epoch: 0019 Avg. cost = 0.0306\n",
            "Epoch: 0020 Avg. cost = 0.0305\n"
          ],
          "name": "stdout"
        },
        {
          "output_type": "display_data",
          "data": {
            "image/png": "[encoded data removed]",
            "text/plain": [
              "<Figure size 720x144 with 20 Axes>"
            ]
          },
          "metadata": {
            "tags": []
          }
        }
      ]
    }
  ]
}