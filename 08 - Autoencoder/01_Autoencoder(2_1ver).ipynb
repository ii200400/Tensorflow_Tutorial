{
  "nbformat": 4,
  "nbformat_minor": 0,
  "metadata": {
    "colab": {
      "name": "01.Autoencoder(2.1ver).ipynb",
      "provenance": [],
      "collapsed_sections": [],
      "authorship_tag": "ABX9TyNafBK18mpdZaW5Q4H5pWc6",
      "include_colab_link": true
    },
    "kernelspec": {
      "name": "python3",
      "display_name": "Python 3"
    },
    "accelerator": "GPU"
  },
  "cells": [
    {
      "cell_type": "markdown",
      "metadata": {
        "id": "view-in-github",
        "colab_type": "text"
      },
      "source": [
        "<a href=\"https://colab.research.google.com/github/ii200400/Tensorflow_Tutorial/blob/master/08%20-%20Autoencoder/01_Autoencoder(2_1ver).ipynb\" target=\"_parent\"><img src=\"https://colab.research.google.com/assets/colab-badge.svg\" alt=\"Open In Colab\"/></a>"
      ]
    },
    {
      "cell_type": "markdown",
      "metadata": {
        "id": "15mq7bPRQ9dY",
        "colab_type": "text"
      },
      "source": [
        "# 개요\n",
        "\n",
        "대표적인 비지도(Unsupervised) 학습 방법인 Autoencoder 구현하기!"
      ]
    },
    {
      "cell_type": "code",
      "metadata": {
        "id": "zk3c2aoiOBUJ",
        "colab_type": "code",
        "colab": {
          "base_uri": "https://localhost:8080/",
          "height": 34
        },
        "outputId": "894fb7c9-41b8-489d-d52d-f32bc5cea891"
      },
      "source": [
        "%tensorflow_version 2.x\n",
        "import tensorflow as tf\n",
        "import numpy as np\n",
        "import matplotlib.pyplot as plt"
      ],
      "execution_count": null,
      "outputs": [
        {
          "output_type": "stream",
          "text": [
            "TensorFlow 2.x selected.\n"
          ],
          "name": "stdout"
        }
      ]
    },
    {
      "cell_type": "markdown",
      "metadata": {
        "id": "W0G5vgoH4qwp",
        "colab_type": "text"
      },
      "source": [
        "## 데이터 정의"
      ]
    },
    {
      "cell_type": "code",
      "metadata": {
        "id": "hZV2cbRB4sJy",
        "colab_type": "code",
        "colab": {
          "base_uri": "https://localhost:8080/",
          "height": 52
        },
        "outputId": "49dea752-c96c-4fad-f50f-b77c142fed6a"
      },
      "source": [
        "mnist = tf.keras.datasets.mnist\n",
        "\n",
        "(x_train, _), (x_test, _) = mnist.load_data()\n",
        "\n",
        "x_train = x_train.reshape(60000, 784).astype('float32') / 255\n",
        "x_test = x_test.reshape(10000, 784).astype('float32') / 255"
      ],
      "execution_count": null,
      "outputs": [
        {
          "output_type": "stream",
          "text": [
            "Downloading data from https://storage.googleapis.com/tensorflow/tf-keras-datasets/mnist.npz\n",
            "11493376/11490434 [==============================] - 0s 0us/step\n"
          ],
          "name": "stdout"
        }
      ]
    },
    {
      "cell_type": "markdown",
      "metadata": {
        "id": "8CkAKYOp4snC",
        "colab_type": "text"
      },
      "source": [
        "## 모델 구성"
      ]
    },
    {
      "cell_type": "markdown",
      "metadata": {
        "id": "RX0LpVVc4uc6",
        "colab_type": "text"
      },
      "source": [
        "### 신경망 옵션"
      ]
    },
    {
      "cell_type": "code",
      "metadata": {
        "id": "Rh04fFmC41Vq",
        "colab_type": "code",
        "colab": {}
      },
      "source": [
        "learning_rate = 0.01\n",
        "training_epoch = 20\n",
        "batch_size = 100\n",
        "\n",
        "n_hidden = 256  # 히든 레이어의 뉴런 갯수\n",
        "n_input = 28*28   # 입력값 크기(이미지 픽셀수)"
      ],
      "execution_count": null,
      "outputs": []
    },
    {
      "cell_type": "markdown",
      "metadata": {
        "id": "gjf0r3ih4zvL",
        "colab_type": "text"
      },
      "source": [
        "### 신경망 구성"
      ]
    },
    {
      "cell_type": "code",
      "metadata": {
        "id": "dijon0vk41-S",
        "colab_type": "code",
        "colab": {
          "base_uri": "https://localhost:8080/",
          "height": 228
        },
        "outputId": "cdfdf9fa-e9f7-42aa-da39-21cf1bebe9ee"
      },
      "source": [
        "# 다음과 같이 이어지는 레이어를 구성한다.\n",
        "# input -> encode -> decode -> output\n",
        "# encode 의 출력의 크기를 입력값보다 작은 크기로 만들어 정보를 압축하여 특성을 뽑아내고,\n",
        "# decode 의 출력을 입력값과 동일한 크기를 갖도록하여 입력과 똑같은 크기를 만든다.\n",
        "# 히든 레이어의 구성과 특성치을 뽑아내는 알고리즘을 변경하여 다양한 오토인코더를 만들 수 있다.\n",
        "\n",
        "def make_model():\n",
        "  model = tf.keras.models.Sequential([\n",
        "    tf.keras.layers.Dense(n_hidden, activation=tf.nn.sigmoid, input_shape=(784, )),\n",
        "    tf.keras.layers.Dense(n_input, activation=tf.nn.sigmoid)\n",
        "  ])\n",
        "\n",
        "  return model\n",
        "\n",
        "model = make_model()\n",
        "\n",
        "model.summary()"
      ],
      "execution_count": null,
      "outputs": [
        {
          "output_type": "stream",
          "text": [
            "Model: \"sequential\"\n",
            "_________________________________________________________________\n",
            "Layer (type)                 Output Shape              Param #   \n",
            "=================================================================\n",
            "dense (Dense)                (None, 256)               200960    \n",
            "_________________________________________________________________\n",
            "dense_1 (Dense)              (None, 784)               201488    \n",
            "=================================================================\n",
            "Total params: 402,448\n",
            "Trainable params: 402,448\n",
            "Non-trainable params: 0\n",
            "_________________________________________________________________\n"
          ],
          "name": "stdout"
        }
      ]
    },
    {
      "cell_type": "markdown",
      "metadata": {
        "id": "0Q7IgAatiP2S",
        "colab_type": "text"
      },
      "source": [
        "### 비용과 최적화 및 정확도 설정"
      ]
    },
    {
      "cell_type": "code",
      "metadata": {
        "id": "ZhPd2--uijdB",
        "colab_type": "code",
        "colab": {}
      },
      "source": [
        "model.compile(optimizer=tf.keras.optimizers.RMSprop(learning_rate),\n",
        "              loss=tf.keras.losses.binary_crossentropy,\n",
        "              metrics=['accuracy'])"
      ],
      "execution_count": null,
      "outputs": []
    },
    {
      "cell_type": "markdown",
      "metadata": {
        "id": "5cdtNEXujjQz",
        "colab_type": "text"
      },
      "source": [
        "### 모델 학습"
      ]
    },
    {
      "cell_type": "code",
      "metadata": {
        "id": "qzTG0quRjlK2",
        "colab_type": "code",
        "colab": {
          "base_uri": "https://localhost:8080/",
          "height": 756
        },
        "outputId": "d82b970f-4967-4358-9df0-6575fd8f45c4"
      },
      "source": [
        "# 디코더는 인풋과 최대한 같은 결과를 내야 하므로, 디코딩한 결과를 평가하기 위해\n",
        "# 입력 값인 X 값과 decoder 의 차이를 손실값으로 설정한다.\n",
        "# 픽셀 당 바이너리 크로스엔트로피 손실을 사용한다.\n",
        "# 다른 계산법은 사용을 못하거나 너무 크게나와서 훈련이 잘 안된다;\n",
        "model.fit(x=x_train, \n",
        "          y=x_train,\n",
        "          batch_size=batch_size,\n",
        "          epochs=training_epoch)"
      ],
      "execution_count": null,
      "outputs": [
        {
          "output_type": "stream",
          "text": [
            "Train on 60000 samples\n",
            "Epoch 1/20\n",
            "60000/60000 [==============================] - 5s 79us/sample - loss: 0.1155 - accuracy: 0.8105\n",
            "Epoch 2/20\n",
            "60000/60000 [==============================] - 3s 43us/sample - loss: 0.0846 - accuracy: 0.8148\n",
            "Epoch 3/20\n",
            "60000/60000 [==============================] - 3s 43us/sample - loss: 0.0808 - accuracy: 0.8151\n",
            "Epoch 4/20\n",
            "60000/60000 [==============================] - 2s 40us/sample - loss: 0.0791 - accuracy: 0.8151\n",
            "Epoch 5/20\n",
            "60000/60000 [==============================] - 2s 41us/sample - loss: 0.0779 - accuracy: 0.8152\n",
            "Epoch 6/20\n",
            "60000/60000 [==============================] - 2s 40us/sample - loss: 0.0772 - accuracy: 0.8152\n",
            "Epoch 7/20\n",
            "60000/60000 [==============================] - 3s 43us/sample - loss: 0.0765 - accuracy: 0.8153\n",
            "Epoch 8/20\n",
            "60000/60000 [==============================] - 3s 44us/sample - loss: 0.0760 - accuracy: 0.8153\n",
            "Epoch 9/20\n",
            "60000/60000 [==============================] - 2s 41us/sample - loss: 0.0756 - accuracy: 0.8153\n",
            "Epoch 10/20\n",
            "60000/60000 [==============================] - 2s 40us/sample - loss: 0.0753 - accuracy: 0.8153\n",
            "Epoch 11/20\n",
            "60000/60000 [==============================] - 3s 42us/sample - loss: 0.0750 - accuracy: 0.8153\n",
            "Epoch 12/20\n",
            "60000/60000 [==============================] - 2s 40us/sample - loss: 0.0747 - accuracy: 0.8153\n",
            "Epoch 13/20\n",
            "60000/60000 [==============================] - 2s 40us/sample - loss: 0.0745 - accuracy: 0.8153\n",
            "Epoch 14/20\n",
            "60000/60000 [==============================] - 2s 41us/sample - loss: 0.0743 - accuracy: 0.8153\n",
            "Epoch 15/20\n",
            "60000/60000 [==============================] - 2s 40us/sample - loss: 0.0741 - accuracy: 0.8153\n",
            "Epoch 16/20\n",
            "60000/60000 [==============================] - 2s 41us/sample - loss: 0.0739 - accuracy: 0.8153\n",
            "Epoch 17/20\n",
            "60000/60000 [==============================] - 2s 40us/sample - loss: 0.0738 - accuracy: 0.8153\n",
            "Epoch 18/20\n",
            "60000/60000 [==============================] - 2s 41us/sample - loss: 0.0736 - accuracy: 0.8153\n",
            "Epoch 19/20\n",
            "60000/60000 [==============================] - 2s 40us/sample - loss: 0.0735 - accuracy: 0.8154\n",
            "Epoch 20/20\n",
            "60000/60000 [==============================] - 2s 40us/sample - loss: 0.0734 - accuracy: 0.8154\n"
          ],
          "name": "stdout"
        },
        {
          "output_type": "execute_result",
          "data": {
            "text/plain": [
              "<tensorflow.python.keras.callbacks.History at 0x7f512bfbe9e8>"
            ]
          },
          "metadata": {
            "tags": []
          },
          "execution_count": 6
        }
      ]
    },
    {
      "cell_type": "markdown",
      "metadata": {
        "id": "c-plTznUjlfm",
        "colab_type": "text"
      },
      "source": [
        "### 모델 테스트"
      ]
    },
    {
      "cell_type": "code",
      "metadata": {
        "id": "9jhoohbXjnDB",
        "colab_type": "code",
        "colab": {
          "base_uri": "https://localhost:8080/",
          "height": 158
        },
        "outputId": "70818482-6313-4be7-dfd0-af737055392c"
      },
      "source": [
        "# 테스트에 쓰일 이미지 선별\n",
        "sample_size = 10\n",
        "test_image = x_test[:sample_size]\n",
        "\n",
        "# 테스트 이미지를 사용해서 모델에 넣어본다.\n",
        "samples = model(test_image)\n",
        "\n",
        "# matplot subplots 설정\n",
        "fig, ax = plt.subplots(2, sample_size, figsize=(sample_size, 2))\n",
        "\n",
        "# 각 subplot에 확인하기 쉽게 이미지를 넣어준다.\n",
        "for i in range(sample_size):\n",
        "    ax[0][i].set_axis_off()\n",
        "    ax[1][i].set_axis_off()\n",
        "    # 이미지 크기를 [784]에서 [28, 28]로 바꾸고 화면에 시각적으로 표현해준다.\n",
        "    ax[0][i].imshow(np.reshape(test_image[i], (28, 28)))\n",
        "    ax[1][i].imshow(np.reshape(samples[i], (28, 28)))\n",
        "\n",
        "plt.show()"
      ],
      "execution_count": null,
      "outputs": [
        {
          "output_type": "display_data",
          "data": {
            "image/png": "[encoded data removed]",
            "text/plain": [
              "<Figure size 720x144 with 20 Axes>"
            ]
          },
          "metadata": {
            "tags": []
          }
        }
      ]
    },
    {
      "cell_type": "markdown",
      "metadata": {
        "id": "D76wAX6lQ_im",
        "colab_type": "text"
      },
      "source": [
        "## 전체 코드"
      ]
    },
    {
      "cell_type": "code",
      "metadata": {
        "id": "s_QedjIcRKsj",
        "colab_type": "code",
        "colab": {}
      },
      "source": [
        "%tensorflow_version 2.x\n",
        "import tensorflow as tf\n",
        "import numpy as np\n",
        "import matplotlib.pyplot as plt\n",
        "\n",
        "(x_train, y_train), (x_test, y_test) = mnist.load_data()\n",
        "\n",
        "x_train = x_train.reshape(60000, 784).astype('float32') / 255\n",
        "x_test = x_test.reshape(10000, 784).astype('float32') / 255\n",
        "\n",
        "#########\n",
        "# 옵션 설정\n",
        "######\n",
        "\n",
        "learning_rate = 0.01\n",
        "training_epoch = 20\n",
        "batch_size = 100\n",
        "\n",
        "n_hidden = 256  # 히든 레이어의 뉴런 갯수\n",
        "n_input = 28*28   # 입력값 크기 - 이미지 픽셀수\n",
        "\n",
        "#########\n",
        "# 신경망 모델 구성\n",
        "######\n",
        "\n",
        "def make_model():\n",
        "  model = tf.keras.models.Sequential([\n",
        "    tf.keras.layers.Dense(n_hidden, activation=tf.nn.sigmoid),\n",
        "    tf.keras.layers.Dense(n_input, activation=tf.nn.softmax)\n",
        "  ])\n",
        "  \n",
        "  return model\n",
        "\n",
        "model = make_model()\n",
        "\n",
        "model.compile(optimizer=tf.keras.optimizers.RMSprop(learning_rate),\n",
        "              loss=tf.keras.losses.binary_crossentropy,\n",
        "              metrics=['accuracy'])\n",
        "\n",
        "#########\n",
        "# 신경망 모델 학습\n",
        "######\n",
        "\n",
        "model.fit(x=x_train, \n",
        "          y=x_train,\n",
        "          batch_size=batch_size,\n",
        "          epochs=training_epoch)\n",
        "\n",
        "#########\n",
        "# 결과 확인\n",
        "# 입력값과 출력값을 matplot을 활용하여 시각적으로 비교\n",
        "######\n",
        "\n",
        "sample_size = 10\n",
        "test_image = x_test[:sample_size]\n",
        "\n",
        "samples = model(test_image)\n",
        "\n",
        "fig, ax = plt.subplots(2, sample_size, figsize=(sample_size, 2))\n",
        "\n",
        "for i in range(sample_size):\n",
        "    ax[0][i].set_axis_off()\n",
        "    ax[1][i].set_axis_off()\n",
        "    ax[0][i].imshow(np.reshape(test_image[i], (28, 28)))\n",
        "    ax[1][i].imshow(np.reshape(samples[i], (28, 28)))\n",
        "\n",
        "plt.show()"
      ],
      "execution_count": null,
      "outputs": []
    }
  ]
}