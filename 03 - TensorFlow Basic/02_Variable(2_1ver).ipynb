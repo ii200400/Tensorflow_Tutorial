{
  "nbformat": 4,
  "nbformat_minor": 0,
  "metadata": {
    "colab": {
      "name": "02.Variable(2.1ver).ipynb",
      "provenance": [],
      "collapsed_sections": [],
      "authorship_tag": "ABX9TyOYD0EN71zSZ5tktoAyC6GL",
      "include_colab_link": true
    },
    "kernelspec": {
      "name": "python3",
      "display_name": "Python 3"
    }
  },
  "cells": [
    {
      "cell_type": "markdown",
      "metadata": {
        "id": "view-in-github",
        "colab_type": "text"
      },
      "source": [
        "<a href=\"https://colab.research.google.com/github/ii200400/Tensorflow_Tutorial/blob/master/03%20-%20TensorFlow%20Basic/02_Variable(2_1ver).ipynb\" target=\"_parent\"><img src=\"https://colab.research.google.com/assets/colab-badge.svg\" alt=\"Open In Colab\"/></a>"
      ]
    },
    {
      "cell_type": "markdown",
      "metadata": {
        "id": "7IaEyIPftxic",
        "colab_type": "text"
      },
      "source": [
        "# 개요\n",
        "\n",
        "플레이스홀더와 변수의 개념 학습"
      ]
    },
    {
      "cell_type": "code",
      "metadata": {
        "id": "SoUTt9zQJ_Z6",
        "colab_type": "code",
        "colab": {
          "base_uri": "https://localhost:8080/",
          "height": 34
        },
        "outputId": "2c3ca682-f80e-4bae-ba45-3eddf2bfb416"
      },
      "source": [
        "%tensorflow_version 2.x\n",
        "import tensorflow as tf"
      ],
      "execution_count": null,
      "outputs": [
        {
          "output_type": "stream",
          "text": [
            "TensorFlow 2.x selected.\n"
          ],
          "name": "stdout"
        }
      ]
    },
    {
      "cell_type": "markdown",
      "metadata": {
        "id": "AWgCutXOKM1M",
        "colab_type": "text"
      },
      "source": [
        "# tf.Variable\n",
        "\n",
        "그래프를 계산하면서 최적화 할 변수들, 이 값이 바로 신경망을 좌우하는 값들이다."
      ]
    },
    {
      "cell_type": "code",
      "metadata": {
        "id": "nLxu1nSFKPZ-",
        "colab_type": "code",
        "colab": {}
      },
      "source": [
        "# tf.random_normal(a,b): 정규분포에 기반한 a~b사이의 랜덤 값을 반환한다.\n",
        "W = tf.Variable([[1,1], [2,2], [3,3]])\n",
        "b = tf.Variable([[2,3], [4,5]])\n",
        "# W = tf.Variable(tf.random.normal([3, 2]))\n",
        "# b = tf.Variable(tf.random.normal([2, 1]))\n",
        "\n",
        "# 입력값과 변수들을 계산할 수식을 작성한다.\n",
        "def expr(x):\n",
        "  # 행렬 계산을 수행한다.\n",
        "  # 이 버전에서는 행렬 계산에서 int형과 float형을 곱할 수 없다. (1.15버전은 가능하다..)\n",
        "  return tf.matmul(x, W) + b"
      ],
      "execution_count": null,
      "outputs": []
    },
    {
      "cell_type": "markdown",
      "metadata": {
        "id": "S1rvhmEXKSMN",
        "colab_type": "text"
      },
      "source": [
        "# 결과"
      ]
    },
    {
      "cell_type": "code",
      "metadata": {
        "id": "0h6PYvRbChPk",
        "colab_type": "code",
        "colab": {
          "base_uri": "https://localhost:8080/",
          "height": 263
        },
        "outputId": "921cc81c-bc82-4817-cb95-0c8b6f6b52b7"
      },
      "source": [
        "# 임의의 X 값\n",
        "x_data = [[1, 2, 3], [4, 5, 6]]\n",
        "# x_data = tf.constant([[1.1, 2.1, 3.1], [4.1, 5.1, 6.1]])\n",
        "\n",
        "print(\"=== x_data ===\")\n",
        "print(x_data)\n",
        "\n",
        "# 이 셀을 계속 실행시키면 W와 b의 값이 바뀌지 않는다. (1.15버전은 계속 바뀐다.)\n",
        "print(\"=== W ===\")\n",
        "print(W)\n",
        "print(\"=== b ===\")\n",
        "print(b)\n",
        "print(\"=== expr ===\")\n",
        "\n",
        "# 위에서 만든 expr 함수를 사용한다.\n",
        "print(expr(x_data).numpy())"
      ],
      "execution_count": null,
      "outputs": [
        {
          "output_type": "stream",
          "text": [
            "=== x_data ===\n",
            "[[1, 2, 3], [4, 5, 6]]\n",
            "=== W ===\n",
            "<tf.Variable 'Variable:0' shape=(3, 2) dtype=int32, numpy=\n",
            "array([[1, 1],\n",
            "       [2, 2],\n",
            "       [3, 3]], dtype=int32)>\n",
            "=== b ===\n",
            "<tf.Variable 'Variable:0' shape=(2, 2) dtype=int32, numpy=\n",
            "array([[2, 3],\n",
            "       [4, 5]], dtype=int32)>\n",
            "=== expr ===\n",
            "[[16 17]\n",
            " [36 37]]\n"
          ],
          "name": "stdout"
        }
      ]
    },
    {
      "cell_type": "markdown",
      "metadata": {
        "id": "DNRO89aNPLqi",
        "colab_type": "text"
      },
      "source": [
        "# 전체 코드"
      ]
    },
    {
      "cell_type": "code",
      "metadata": {
        "id": "OPXMQnkcPOJW",
        "colab_type": "code",
        "colab": {}
      },
      "source": [
        "%tensorflow_version 2.x\n",
        "import tensorflow as tf\n",
        "\n",
        "W = tf.Variable([[1,1], [2,2], [3,3]])\n",
        "b = tf.Variable([[2,3], [4,5]])\n",
        "\n",
        "def expr(x):\n",
        "  return tf.matmul(x, W) + b\n",
        "\n",
        "# 임의의 X 값\n",
        "x_data = tf.constant([[1, 2, 3], [4, 5, 6]])\n",
        "# x_data = tf.constant([[1.1, 2.1, 3.1], [4.1, 5.1, 6.1]])\n",
        "\n",
        "print(\"=== x_data ===\")\n",
        "print(x_data)\n",
        "print(\"=== W ===\")\n",
        "print(W)\n",
        "print(\"=== b ===\")\n",
        "print(b)\n",
        "print(\"=== expr ===\")\n",
        "\n",
        "# 위에서 만든 expr 함수를 사용한다.\n",
        "print(expr(x_data).numpy())"
      ],
      "execution_count": null,
      "outputs": []
    }
  ]
}