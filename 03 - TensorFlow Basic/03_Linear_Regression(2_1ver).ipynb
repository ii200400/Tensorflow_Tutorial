{
  "nbformat": 4,
  "nbformat_minor": 0,
  "metadata": {
    "colab": {
      "name": "03.Linear Regression(2.1ver).ipynb",
      "provenance": [],
      "collapsed_sections": [],
      "authorship_tag": "ABX9TyM4C2VvKuxMZiOmi6AqwojG",
      "include_colab_link": true
    },
    "kernelspec": {
      "name": "python3",
      "display_name": "Python 3"
    }
  },
  "cells": [
    {
      "cell_type": "markdown",
      "metadata": {
        "id": "view-in-github",
        "colab_type": "text"
      },
      "source": [
        "<a href=\"https://colab.research.google.com/github/ii200400/Tensorflow_Tutorial/blob/master/03%20-%20TensorFlow%20Basic/03_Linear_Regression(2_1ver).ipynb\" target=\"_parent\"><img src=\"https://colab.research.google.com/assets/colab-badge.svg\" alt=\"Open In Colab\"/></a>"
      ]
    },
    {
      "cell_type": "markdown",
      "metadata": {
        "id": "ELfaKYJFey_5",
        "colab_type": "text"
      },
      "source": [
        "# 개요\n",
        "\n",
        "기초적인 선형 회귀 모델을 만들고 실행하기\n",
        "\n",
        "참고 링크\n",
        "1. https://www.tensorflow.org/guide/migrate?hl=ko#4_%EB%8D%B0%EC%9D%B4%ED%84%B0_%EC%9E%85%EB%A0%A5_%ED%8C%8C%EC%9D%B4%ED%94%84%EB%9D%BC%EC%9D%B8%EC%9D%84_%EC%97%85%EA%B7%B8%EB%A0%88%EC%9D%B4%EB%93%9C%ED%95%98%EC%84%B8%EC%9A%94 \\\n",
        "2. https://www.tensorflow.org/tutorials/customization/custom_training?hl=ko#%EC%98%88_%EC%84%A0%ED%98%95_%EB%AA%A8%EB%8D%B8_%ED%9B%88%EB%A0%A8"
      ]
    },
    {
      "cell_type": "code",
      "metadata": {
        "id": "mrrFGlRafJIu",
        "colab_type": "code",
        "colab": {
          "base_uri": "https://localhost:8080/",
          "height": 34
        },
        "outputId": "da3f34e4-cb08-4138-8398-1a9a65587047"
      },
      "source": [
        "%tensorflow_version 2.x\n",
        "import tensorflow as tf"
      ],
      "execution_count": null,
      "outputs": [
        {
          "output_type": "stream",
          "text": [
            "TensorFlow 2.x selected.\n"
          ],
          "name": "stdout"
        }
      ]
    },
    {
      "cell_type": "markdown",
      "metadata": {
        "id": "zxj7NB6EfKOz",
        "colab_type": "text"
      },
      "source": [
        "## 변수 설정"
      ]
    },
    {
      "cell_type": "code",
      "metadata": {
        "id": "_-Ji_jhc-xl4",
        "colab_type": "code",
        "colab": {}
      },
      "source": [
        "x_data = [1, 2, 3]\n",
        "y_data = [1, 2, 3]\n",
        "\n",
        "# -1~1까지 균등분포(일정구간 내의 값들이 나타날 가능성이 동일한 분포)에서 값을 랜덤하게 추출한다.\n",
        "W = tf.Variable(tf.random.uniform([1], -1.0, 1.0))\n",
        "b = tf.Variable(tf.random.uniform([1], -1.0, 1.0))"
      ],
      "execution_count": null,
      "outputs": []
    },
    {
      "cell_type": "markdown",
      "metadata": {
        "id": "jtxrNdzS-3Dh",
        "colab_type": "text"
      },
      "source": [
        "## 계산식 및 손실함수 작성"
      ]
    },
    {
      "cell_type": "code",
      "metadata": {
        "id": "khJ54g4y-5Fc",
        "colab_type": "code",
        "colab": {}
      },
      "source": [
        "# X 와 Y 의 상관 관계를 분석하기 위한 수식(y = W * x + b)을 가정한다.\n",
        "def predict (x):\n",
        "  # W 와 X 가 행렬이 아니므로 tf.matmul 이 아니라 기본 곱셈 기호를 사용하면 된다.\n",
        "  return W * x + b\n",
        "\n",
        "# 손실 함수를 작성한다.\n",
        "def get_cost (predicted_y, y):\n",
        "  # mean(h - Y)^2 : 예측값과 실제값의 거리를 비용(손실) 함수로 정한다.\n",
        "  return tf.reduce_mean(tf.square(predicted_y - y))"
      ],
      "execution_count": null,
      "outputs": []
    },
    {
      "cell_type": "markdown",
      "metadata": {
        "id": "K_pMX04OqPqC",
        "colab_type": "text"
      },
      "source": [
        "## 훈련 함수 생성\n",
        "\n",
        "공식 홈페이지와 구글링을 통하여 알아보기는 하였으나 설명이 정확한지는 불확실하다.\\\n",
        "만약 더 적절하게 전환한 코드가 있으면 수정할 것이다."
      ]
    },
    {
      "cell_type": "code",
      "metadata": {
        "id": "IWDr_nTfVixn",
        "colab_type": "code",
        "colab": {}
      },
      "source": [
        "# 방법1 최적화 함수를 활용하지 않고 바로\n",
        "learning_rate = 0.1\n",
        "\n",
        "def train(x, y):\n",
        "  # 변수 텐서에 관한 미분한 값을 쉽게 구할 수 있도록 하는 함수이다.\n",
        "  # 이때 W와 b는 watch된며 cost 연산이 기록된다고 표현되어있다.\n",
        "  with tf.GradientTape() as t:\n",
        "    cost = get_cost(predict(x), y)\n",
        "    \n",
        "  # 변수들에 관한 cost의 미분값(기울기)를 계산한다.\n",
        "  dW, db = t.gradient(cost, [W, b])\n",
        "\n",
        "  # 기울기에 따라서 각 변수를 조정한다.\n",
        "  W.assign_sub(learning_rate * dW)\n",
        "  b.assign_sub(learning_rate * db)\n",
        "\n",
        "  return cost"
      ],
      "execution_count": null,
      "outputs": []
    },
    {
      "cell_type": "code",
      "metadata": {
        "id": "bOp8rrILiRI1",
        "colab_type": "code",
        "colab": {}
      },
      "source": [
        "# 방법2 최적화 함수를 활용\n",
        "# 텐서플로가 제공하는 다양한 최적화 함수 중 경사 하강법을 선택한다, 학습률은 0.1로 지정했다.\n",
        "optimizer = tf.optimizers.SGD(learning_rate=0.1)\n",
        "\n",
        "def train(x, y):\n",
        "  # 변수 텐서에 관한 미분한 값을 쉽게 구할 수 있도록 하는 함수이다.\n",
        "  # 이때 W와 b는 watch된며 cost 연산이 기록된다고 표현되어있다.\n",
        "  with tf.GradientTape() as t:\n",
        "    cost = get_cost(predict(x), y)\n",
        "    \n",
        "  # 변수들에 관한 cost의 미분값(기울기)를 계산한다.\n",
        "  grads = t.gradient(cost, [W, b])\n",
        "\n",
        "  # 위에서 설정한 최적화 함수와 기울기에 따라서 각 변수를 조정한다.\n",
        "  optimizer.apply_gradients(zip(grads,[W, b]))\n",
        "\n",
        "  return cost"
      ],
      "execution_count": null,
      "outputs": []
    },
    {
      "cell_type": "markdown",
      "metadata": {
        "id": "N9RWS6LT3d1M",
        "colab_type": "text"
      },
      "source": [
        "## 모델 훈련 및 테스트"
      ]
    },
    {
      "cell_type": "code",
      "metadata": {
        "id": "tkEp9jeknl2j",
        "colab_type": "code",
        "colab": {
          "base_uri": "https://localhost:8080/",
          "height": 1000
        },
        "outputId": "cda42f3a-b257-49a9-b7c1-de99c486acf6"
      },
      "source": [
        "#각 데이터에 관하여 100번씩 학습을 시작한다.\n",
        "for step in range(100):\n",
        "    cost = train(x_data, y_data)\n",
        "    print(step, cost, W.numpy(), b.numpy())\n",
        "\n",
        "# 최적화가 완료된 모델에 테스트 값을 넣고 결과가 잘 나오는지 확인한다.\n",
        "print(\"\\n=== Test ===\")\n",
        "print(\"X: 5, Y:\", predict(5))\n",
        "print(\"X: 2.5, Y:\", predict(2.5))"
      ],
      "execution_count": null,
      "outputs": [
        {
          "output_type": "stream",
          "text": [
            "0 tf.Tensor(14.119476, shape=(), dtype=float32) [0.65168893] [1.2217838]\n",
            "1 tf.Tensor(0.35667518, shape=(), dtype=float32) [0.48806575] [1.1167514]\n",
            "2 tf.Tensor(0.18334496, shape=(), dtype=float32) [0.51917046] [1.0981748]\n",
            "3 tf.Tensor(0.17276794, shape=(), dtype=float32) [0.5286748] [1.0708717]\n",
            "4 tf.Tensor(0.16453896, shape=(), dtype=float32) [0.5402296] [1.0452274]\n",
            "5 tf.Tensor(0.15672298, shape=(), dtype=float32) [0.5512576] [1.0200901]\n",
            "6 tf.Tensor(0.14927855, shape=(), dtype=float32) [0.5620478] [0.99556905]\n",
            "7 tf.Tensor(0.14218773, shape=(), dtype=float32) [0.57257557] [0.9716361]\n",
            "8 tf.Tensor(0.13543367, shape=(), dtype=float32) [0.58285064] [0.94827867]\n",
            "9 tf.Tensor(0.1290005, shape=(), dtype=float32) [0.5928786] [0.9254827]\n",
            "10 tf.Tensor(0.12287288, shape=(), dtype=float32) [0.6026655] [0.9032347]\n",
            "11 tf.Tensor(0.11703629, shape=(), dtype=float32) [0.6122171] [0.8815216]\n",
            "12 tf.Tensor(0.11147698, shape=(), dtype=float32) [0.6215392] [0.8603304]\n",
            "13 tf.Tensor(0.10618178, shape=(), dtype=float32) [0.6306371] [0.83964866]\n",
            "14 tf.Tensor(0.101138055, shape=(), dtype=float32) [0.63951635] [0.8194641]\n",
            "15 tf.Tensor(0.09633391, shape=(), dtype=float32) [0.6481821] [0.7997647]\n",
            "16 tf.Tensor(0.09175801, shape=(), dtype=float32) [0.65663964] [0.7805389]\n",
            "17 tf.Tensor(0.087399445, shape=(), dtype=float32) [0.66489375] [0.76177526]\n",
            "18 tf.Tensor(0.08324789, shape=(), dtype=float32) [0.6729495] [0.74346274]\n",
            "19 tf.Tensor(0.07929354, shape=(), dtype=float32) [0.6808115] [0.7255904]\n",
            "20 tf.Tensor(0.075527005, shape=(), dtype=float32) [0.68848455] [0.7081477]\n",
            "21 tf.Tensor(0.07193945, shape=(), dtype=float32) [0.6959732] [0.6911243]\n",
            "22 tf.Tensor(0.06852227, shape=(), dtype=float32) [0.70328176] [0.6745102]\n",
            "23 tf.Tensor(0.06526742, shape=(), dtype=float32) [0.7104147] [0.65829545]\n",
            "24 tf.Tensor(0.06216718, shape=(), dtype=float32) [0.7173761] [0.6424705]\n",
            "25 tf.Tensor(0.05921423, shape=(), dtype=float32) [0.72417027] [0.62702596]\n",
            "26 tf.Tensor(0.05640149, shape=(), dtype=float32) [0.730801] [0.61195266]\n",
            "27 tf.Tensor(0.05372235, shape=(), dtype=float32) [0.7372724] [0.59724176]\n",
            "28 tf.Tensor(0.05117047, shape=(), dtype=float32) [0.7435881] [0.58288443]\n",
            "29 tf.Tensor(0.04873987, shape=(), dtype=float32) [0.7497521] [0.5688723]\n",
            "30 tf.Tensor(0.046424687, shape=(), dtype=float32) [0.7557679] [0.555197]\n",
            "31 tf.Tensor(0.044219464, shape=(), dtype=float32) [0.76163906] [0.54185045]\n",
            "32 tf.Tensor(0.04211903, shape=(), dtype=float32) [0.76736915] [0.52882475]\n",
            "33 tf.Tensor(0.040118333, shape=(), dtype=float32) [0.7729614] [0.51611215]\n",
            "34 tf.Tensor(0.03821268, shape=(), dtype=float32) [0.77841926] [0.5037052]\n",
            "35 tf.Tensor(0.036397565, shape=(), dtype=float32) [0.7837458] [0.49159646]\n",
            "36 tf.Tensor(0.034668636, shape=(), dtype=float32) [0.7889444] [0.47977883]\n",
            "37 tf.Tensor(0.03302188, shape=(), dtype=float32) [0.7940181] [0.4682453]\n",
            "38 tf.Tensor(0.031453308, shape=(), dtype=float32) [0.79896975] [0.456989]\n",
            "39 tf.Tensor(0.029959254, shape=(), dtype=float32) [0.8038024] [0.4460033]\n",
            "40 tf.Tensor(0.02853618, shape=(), dtype=float32) [0.8085189] [0.4352817]\n",
            "41 tf.Tensor(0.027180677, shape=(), dtype=float32) [0.8131219] [0.4248178]\n",
            "42 tf.Tensor(0.025889559, shape=(), dtype=float32) [0.8176143] [0.41460547]\n",
            "43 tf.Tensor(0.024659805, shape=(), dtype=float32) [0.8219988] [0.40463865]\n",
            "44 tf.Tensor(0.023488425, shape=(), dtype=float32) [0.8262778] [0.3949114]\n",
            "45 tf.Tensor(0.022372713, shape=(), dtype=float32) [0.83045393] [0.385418]\n",
            "46 tf.Tensor(0.021310002, shape=(), dtype=float32) [0.8345297] [0.3761528]\n",
            "47 tf.Tensor(0.02029776, shape=(), dtype=float32) [0.83850753] [0.36711037]\n",
            "48 tf.Tensor(0.019333621, shape=(), dtype=float32) [0.8423897] [0.35828528]\n",
            "49 tf.Tensor(0.018415235, shape=(), dtype=float32) [0.84617853] [0.34967235]\n",
            "50 tf.Tensor(0.017540498, shape=(), dtype=float32) [0.8498763] [0.34126648]\n",
            "51 tf.Tensor(0.016707333, shape=(), dtype=float32) [0.8534852] [0.33306268]\n",
            "52 tf.Tensor(0.015913693, shape=(), dtype=float32) [0.85700727] [0.32505605]\n",
            "53 tf.Tensor(0.015157794, shape=(), dtype=float32) [0.8604447] [0.31724194]\n",
            "54 tf.Tensor(0.014437798, shape=(), dtype=float32) [0.8637996] [0.30961567]\n",
            "55 tf.Tensor(0.013751976, shape=(), dtype=float32) [0.8670737] [0.30217272]\n",
            "56 tf.Tensor(0.0130987605, shape=(), dtype=float32) [0.8702692] [0.2949087]\n",
            "57 tf.Tensor(0.0124765495, shape=(), dtype=float32) [0.8733878] [0.2878193]\n",
            "58 tf.Tensor(0.0118839, shape=(), dtype=float32) [0.87643147] [0.2809003]\n",
            "59 tf.Tensor(0.011319406, shape=(), dtype=float32) [0.879402] [0.27414766]\n",
            "60 tf.Tensor(0.010781724, shape=(), dtype=float32) [0.88230103] [0.26755732]\n",
            "61 tf.Tensor(0.01026959, shape=(), dtype=float32) [0.88513047] [0.26112545]\n",
            "62 tf.Tensor(0.009781787, shape=(), dtype=float32) [0.8878919] [0.25484818]\n",
            "63 tf.Tensor(0.009317122, shape=(), dtype=float32) [0.8905868] [0.24872178]\n",
            "64 tf.Tensor(0.008874564, shape=(), dtype=float32) [0.8932171] [0.2427427]\n",
            "65 tf.Tensor(0.008453011, shape=(), dtype=float32) [0.895784] [0.23690732]\n",
            "66 tf.Tensor(0.008051493, shape=(), dtype=float32) [0.8982893] [0.23121224]\n",
            "67 tf.Tensor(0.0076690395, shape=(), dtype=float32) [0.9007344] [0.22565407]\n",
            "68 tf.Tensor(0.0073047583, shape=(), dtype=float32) [0.90312064] [0.22022948]\n",
            "69 tf.Tensor(0.0069577745, shape=(), dtype=float32) [0.90544957] [0.21493533]\n",
            "70 tf.Tensor(0.006627284, shape=(), dtype=float32) [0.90772253] [0.20976843]\n",
            "71 tf.Tensor(0.0063124704, shape=(), dtype=float32) [0.9099408] [0.20472571]\n",
            "72 tf.Tensor(0.0060126185, shape=(), dtype=float32) [0.91210574] [0.19980426]\n",
            "73 tf.Tensor(0.0057270215, shape=(), dtype=float32) [0.91421866] [0.19500113]\n",
            "74 tf.Tensor(0.005454986, shape=(), dtype=float32) [0.9162808] [0.19031343]\n",
            "75 tf.Tensor(0.0051958696, shape=(), dtype=float32) [0.91829336] [0.18573843]\n",
            "76 tf.Tensor(0.004949071, shape=(), dtype=float32) [0.92025757] [0.18127342]\n",
            "77 tf.Tensor(0.00471398, shape=(), dtype=float32) [0.92217445] [0.17691569]\n",
            "78 tf.Tensor(0.0044900584, shape=(), dtype=float32) [0.9240454] [0.17266278]\n",
            "79 tf.Tensor(0.00427678, shape=(), dtype=float32) [0.92587125] [0.16851206]\n",
            "80 tf.Tensor(0.0040736343, shape=(), dtype=float32) [0.92765325] [0.16446115]\n",
            "81 tf.Tensor(0.0038801348, shape=(), dtype=float32) [0.9293924] [0.16050762]\n",
            "82 tf.Tensor(0.0036958146, shape=(), dtype=float32) [0.93108976] [0.15664913]\n",
            "83 tf.Tensor(0.003520269, shape=(), dtype=float32) [0.93274635] [0.15288341]\n",
            "84 tf.Tensor(0.0033530528, shape=(), dtype=float32) [0.9343631] [0.1492082]\n",
            "85 tf.Tensor(0.0031937745, shape=(), dtype=float32) [0.9359409] [0.1456213]\n",
            "86 tf.Tensor(0.0030420767, shape=(), dtype=float32) [0.93748087] [0.14212066]\n",
            "87 tf.Tensor(0.0028975739, shape=(), dtype=float32) [0.9389838] [0.13870418]\n",
            "88 tf.Tensor(0.0027599316, shape=(), dtype=float32) [0.9404506] [0.13536984]\n",
            "89 tf.Tensor(0.002628838, shape=(), dtype=float32) [0.94188213] [0.13211563]\n",
            "90 tf.Tensor(0.002503961, shape=(), dtype=float32) [0.9432792] [0.12893966]\n",
            "91 tf.Tensor(0.0023850275, shape=(), dtype=float32) [0.9446428] [0.12584004]\n",
            "92 tf.Tensor(0.0022717344, shape=(), dtype=float32) [0.9459735] [0.12281492]\n",
            "93 tf.Tensor(0.0021638188, shape=(), dtype=float32) [0.94727224] [0.11986253]\n",
            "94 tf.Tensor(0.0020610383, shape=(), dtype=float32) [0.94853985] [0.11698113]\n",
            "95 tf.Tensor(0.0019631376, shape=(), dtype=float32) [0.9497769] [0.11416897]\n",
            "96 tf.Tensor(0.0018698905, shape=(), dtype=float32) [0.95098424] [0.11142443]\n",
            "97 tf.Tensor(0.0017810669, shape=(), dtype=float32) [0.9521625] [0.10874584]\n",
            "98 tf.Tensor(0.0016964637, shape=(), dtype=float32) [0.9533125] [0.10613168]\n",
            "99 tf.Tensor(0.0016158764, shape=(), dtype=float32) [0.95443475] [0.10358032]\n",
            "\n",
            "=== Test ===\n",
            "X: 5, Y: tf.Tensor([4.8757544], shape=(1,), dtype=float32)\n",
            "X: 2.5, Y: tf.Tensor([2.4896672], shape=(1,), dtype=float32)\n"
          ],
          "name": "stdout"
        }
      ]
    },
    {
      "cell_type": "markdown",
      "metadata": {
        "id": "DlAzNjjp3ioh",
        "colab_type": "text"
      },
      "source": [
        "# 전체 코드\n",
        "\n",
        "train 함수의 2가지 방법 중 \\\n",
        "최적화 함수를 사용하는 **두번째 방식**을 채택하였다."
      ]
    },
    {
      "cell_type": "code",
      "metadata": {
        "id": "G8IpbG023kWv",
        "colab_type": "code",
        "colab": {
          "base_uri": "https://localhost:8080/",
          "height": 1000
        },
        "outputId": "b7d929e2-eb6d-4cbb-ad8f-21a48edd1e4a"
      },
      "source": [
        "%tensorflow_version 2.x\n",
        "import tensorflow as tf\n",
        "\n",
        "x_data = [1, 2, 3]\n",
        "y_data = [1, 2, 3]\n",
        "\n",
        "W = tf.Variable(tf.random.uniform([1], -1.0, 1.0))\n",
        "b = tf.Variable(tf.random.uniform([1], -1.0, 1.0))\n",
        "\n",
        "def predict (x):\n",
        "  return W * x + b\n",
        "\n",
        "def get_cost (predict_y, y):\n",
        "  return tf.reduce_mean(tf.square(predict_y - y))\n",
        "\n",
        "optimizer = tf.optimizers.SGD(learning_rate=0.1)\n",
        "\n",
        "@tf.function\n",
        "def train(x, y):\n",
        "  with tf.GradientTape() as t:\n",
        "      cost = get_cost(predict(x), y)\n",
        "  grads = t.gradient(cost, [W, b])\n",
        "  optimizer.apply_gradients(zip(grads,[W, b]))\n",
        "\n",
        "  return cost\n",
        "\n",
        "for step in range(100):\n",
        "    cost = train(x_data,y_data)\n",
        "    print(step, cost, W.numpy(), b.numpy())\n",
        "\n",
        "print(\"\\n=== Test ===\")\n",
        "print(\"X: 5, Y:\", predict(5))\n",
        "print(\"X: 2.5, Y:\", predict(2.5))"
      ],
      "execution_count": null,
      "outputs": [
        {
          "output_type": "stream",
          "text": [
            "0 tf.Tensor(11.205045, shape=(), dtype=float32) [0.55060655] [1.4026785]\n",
            "1 tf.Tensor(0.3885431, shape=(), dtype=float32) [0.40896904] [1.3019001]\n",
            "2 tf.Tensor(0.2472396, shape=(), dtype=float32) [0.43983787] [1.2779325]\n",
            "3 tf.Tensor(0.23402812, shape=(), dtype=float32) [0.45148286] [1.2464108]\n",
            "4 tf.Tensor(0.22289407, shape=(), dtype=float32) [0.46486786] [1.2165356]\n",
            "5 tf.Tensor(0.2123062, shape=(), dtype=float32) [0.4777103] [1.1872814]\n",
            "6 tf.Tensor(0.20222151, shape=(), dtype=float32) [0.4902681] [1.158741]\n",
            "7 tf.Tensor(0.19261587, shape=(), dtype=float32) [0.50252146] [1.1308856]\n",
            "8 tf.Tensor(0.18346651, shape=(), dtype=float32) [0.51448053] [1.1036999]\n",
            "9 tf.Tensor(0.17475171, shape=(), dtype=float32) [0.5261521] [1.0771677]\n",
            "10 tf.Tensor(0.16645089, shape=(), dtype=float32) [0.53754306] [1.0512733]\n",
            "11 tf.Tensor(0.15854432, shape=(), dtype=float32) [0.5486602] [1.0260015]\n",
            "12 tf.Tensor(0.15101336, shape=(), dtype=float32) [0.5595101] [1.001337]\n",
            "13 tf.Tensor(0.14384009, shape=(), dtype=float32) [0.5700992] [0.9772656]\n",
            "14 tf.Tensor(0.13700758, shape=(), dtype=float32) [0.58043367] [0.9537728]\n",
            "15 tf.Tensor(0.13049962, shape=(), dtype=float32) [0.5905198] [0.9308448]\n",
            "16 tf.Tensor(0.12430081, shape=(), dtype=float32) [0.60036343] [0.9084679]\n",
            "17 tf.Tensor(0.11839643, shape=(), dtype=float32) [0.6099704] [0.8866289]\n",
            "18 tf.Tensor(0.11277249, shape=(), dtype=float32) [0.61934644] [0.86531496]\n",
            "19 tf.Tensor(0.107415706, shape=(), dtype=float32) [0.6284971] [0.8445134]\n",
            "20 tf.Tensor(0.1023134, shape=(), dtype=float32) [0.63742775] [0.8242119]\n",
            "21 tf.Tensor(0.09745345, shape=(), dtype=float32) [0.6461438] [0.8043984]\n",
            "22 tf.Tensor(0.09282432, shape=(), dtype=float32) [0.6546502] [0.78506124]\n",
            "23 tf.Tensor(0.08841511, shape=(), dtype=float32) [0.6629522] [0.7661889]\n",
            "24 tf.Tensor(0.08421532, shape=(), dtype=float32) [0.6710546] [0.74777025]\n",
            "25 tf.Tensor(0.08021503, shape=(), dtype=float32) [0.67896223] [0.7297944]\n",
            "26 tf.Tensor(0.07640476, shape=(), dtype=float32) [0.6866797] [0.7122506]\n",
            "27 tf.Tensor(0.07277549, shape=(), dtype=float32) [0.6942118] [0.6951286]\n",
            "28 tf.Tensor(0.069318585, shape=(), dtype=float32) [0.70156264] [0.67841816]\n",
            "29 tf.Tensor(0.066025905, shape=(), dtype=float32) [0.7087369] [0.6621095]\n",
            "30 tf.Tensor(0.06288963, shape=(), dtype=float32) [0.71573865] [0.64619285]\n",
            "31 tf.Tensor(0.05990234, shape=(), dtype=float32) [0.72257215] [0.6306588]\n",
            "32 tf.Tensor(0.057056908, shape=(), dtype=float32) [0.72924125] [0.6154982]\n",
            "33 tf.Tensor(0.05434669, shape=(), dtype=float32) [0.73575014] [0.60070205]\n",
            "34 tf.Tensor(0.051765177, shape=(), dtype=float32) [0.74210256] [0.5862616]\n",
            "35 tf.Tensor(0.04930629, shape=(), dtype=float32) [0.7483022] [0.57216823]\n",
            "36 tf.Tensor(0.0469642, shape=(), dtype=float32) [0.75435287] [0.5584137]\n",
            "37 tf.Tensor(0.044733357, shape=(), dtype=float32) [0.760258] [0.54498976]\n",
            "38 tf.Tensor(0.04260848, shape=(), dtype=float32) [0.7660213] [0.5318886]\n",
            "39 tf.Tensor(0.040584546, shape=(), dtype=float32) [0.77164596] [0.51910233]\n",
            "40 tf.Tensor(0.03865676, shape=(), dtype=float32) [0.7771355] [0.5066235]\n",
            "41 tf.Tensor(0.03682052, shape=(), dtype=float32) [0.78249294] [0.4944446]\n",
            "42 tf.Tensor(0.035071526, shape=(), dtype=float32) [0.7877217] [0.48255852]\n",
            "43 tf.Tensor(0.033405602, shape=(), dtype=float32) [0.7928247] [0.47095814]\n",
            "44 tf.Tensor(0.031818826, shape=(), dtype=float32) [0.7978051] [0.45963663]\n",
            "45 tf.Tensor(0.030307397, shape=(), dtype=float32) [0.8026657] [0.44858727]\n",
            "46 tf.Tensor(0.028867774, shape=(), dtype=float32) [0.80740947] [0.43780354]\n",
            "47 tf.Tensor(0.027496539, shape=(), dtype=float32) [0.81203926] [0.42727906]\n",
            "48 tf.Tensor(0.026190437, shape=(), dtype=float32) [0.8165577] [0.41700754]\n",
            "49 tf.Tensor(0.024946354, shape=(), dtype=float32) [0.8209675] [0.40698293]\n",
            "50 tf.Tensor(0.023761382, shape=(), dtype=float32) [0.8252713] [0.39719933]\n",
            "51 tf.Tensor(0.022632709, shape=(), dtype=float32) [0.8294717] [0.38765094]\n",
            "52 tf.Tensor(0.021557622, shape=(), dtype=float32) [0.8335711] [0.37833205]\n",
            "53 tf.Tensor(0.020533618, shape=(), dtype=float32) [0.8375719] [0.3692372]\n",
            "54 tf.Tensor(0.01955826, shape=(), dtype=float32) [0.84147656] [0.360361]\n",
            "55 tf.Tensor(0.018629225, shape=(), dtype=float32) [0.8452873] [0.3516982]\n",
            "56 tf.Tensor(0.017744334, shape=(), dtype=float32) [0.84900653] [0.34324363]\n",
            "57 tf.Tensor(0.016901476, shape=(), dtype=float32) [0.85263634] [0.3349923]\n",
            "58 tf.Tensor(0.016098633, shape=(), dtype=float32) [0.8561788] [0.32693928]\n",
            "59 tf.Tensor(0.015333932, shape=(), dtype=float32) [0.8596362] [0.3190799]\n",
            "60 tf.Tensor(0.0146055715, shape=(), dtype=float32) [0.86301047] [0.31140944]\n",
            "61 tf.Tensor(0.013911784, shape=(), dtype=float32) [0.86630356] [0.30392337]\n",
            "62 tf.Tensor(0.013250961, shape=(), dtype=float32) [0.8695175] [0.29661727]\n",
            "63 tf.Tensor(0.012621543, shape=(), dtype=float32) [0.87265426] [0.28948683]\n",
            "64 tf.Tensor(0.0120220035, shape=(), dtype=float32) [0.87571555] [0.28252774]\n",
            "65 tf.Tensor(0.011450949, shape=(), dtype=float32) [0.87870324] [0.27573597]\n",
            "66 tf.Tensor(0.010907018, shape=(), dtype=float32) [0.88161916] [0.26910746]\n",
            "67 tf.Tensor(0.010388936, shape=(), dtype=float32) [0.884465] [0.2626383]\n",
            "68 tf.Tensor(0.009895449, shape=(), dtype=float32) [0.8872423] [0.25632465]\n",
            "69 tf.Tensor(0.009425408, shape=(), dtype=float32) [0.88995296] [0.25016278]\n",
            "70 tf.Tensor(0.008977691, shape=(), dtype=float32) [0.8925984] [0.24414903]\n",
            "71 tf.Tensor(0.008551247, shape=(), dtype=float32) [0.8951803] [0.23827986]\n",
            "72 tf.Tensor(0.008145054, shape=(), dtype=float32) [0.8977001] [0.23255177]\n",
            "73 tf.Tensor(0.007758159, shape=(), dtype=float32) [0.9001593] [0.22696139]\n",
            "74 tf.Tensor(0.0073896437, shape=(), dtype=float32) [0.9025594] [0.22150539]\n",
            "75 tf.Tensor(0.0070386217, shape=(), dtype=float32) [0.9049018] [0.21618055]\n",
            "76 tf.Tensor(0.0067042853, shape=(), dtype=float32) [0.9071879] [0.21098371]\n",
            "77 tf.Tensor(0.0063858316, shape=(), dtype=float32) [0.90941906] [0.20591182]\n",
            "78 tf.Tensor(0.006082497, shape=(), dtype=float32) [0.91159654] [0.20096183]\n",
            "79 tf.Tensor(0.005793574, shape=(), dtype=float32) [0.9137217] [0.19613084]\n",
            "80 tf.Tensor(0.005518371, shape=(), dtype=float32) [0.91579574] [0.191416]\n",
            "81 tf.Tensor(0.005256251, shape=(), dtype=float32) [0.91782] [0.1868145]\n",
            "82 tf.Tensor(0.005006573, shape=(), dtype=float32) [0.9197955] [0.1823236]\n",
            "83 tf.Tensor(0.0047687576, shape=(), dtype=float32) [0.9217236] [0.17794068]\n",
            "84 tf.Tensor(0.0045422376, shape=(), dtype=float32) [0.9236053] [0.17366311]\n",
            "85 tf.Tensor(0.004326483, shape=(), dtype=float32) [0.9254418] [0.16948837]\n",
            "86 tf.Tensor(0.004120965, shape=(), dtype=float32) [0.9272341] [0.16541398]\n",
            "87 tf.Tensor(0.0039252206, shape=(), dtype=float32) [0.9289834] [0.16143754]\n",
            "88 tf.Tensor(0.003738769, shape=(), dtype=float32) [0.9306905] [0.15755668]\n",
            "89 tf.Tensor(0.0035611733, shape=(), dtype=float32) [0.9323567] [0.15376914]\n",
            "90 tf.Tensor(0.0033920184, shape=(), dtype=float32) [0.9339828] [0.15007263]\n",
            "91 tf.Tensor(0.0032308938, shape=(), dtype=float32) [0.9355698] [0.14646499]\n",
            "92 tf.Tensor(0.0030774197, shape=(), dtype=float32) [0.93711865] [0.14294405]\n",
            "93 tf.Tensor(0.0029312382, shape=(), dtype=float32) [0.9386303] [0.13950777]\n",
            "94 tf.Tensor(0.002792007, shape=(), dtype=float32) [0.9401056] [0.1361541]\n",
            "95 tf.Tensor(0.0026593842, shape=(), dtype=float32) [0.9415454] [0.13288103]\n",
            "96 tf.Tensor(0.0025330607, shape=(), dtype=float32) [0.9429506] [0.12968665]\n",
            "97 tf.Tensor(0.0024127404, shape=(), dtype=float32) [0.94432205] [0.12656909]\n",
            "98 tf.Tensor(0.0022981323, shape=(), dtype=float32) [0.94566053] [0.12352646]\n",
            "99 tf.Tensor(0.0021889692, shape=(), dtype=float32) [0.94696677] [0.12055696]\n",
            "\n",
            "=== Test ===\n",
            "X: 5, Y: tf.Tensor([4.8553905], shape=(1,), dtype=float32)\n",
            "X: 2.5, Y: tf.Tensor([2.487974], shape=(1,), dtype=float32)\n"
          ],
          "name": "stdout"
        }
      ]
    }
  ]
}