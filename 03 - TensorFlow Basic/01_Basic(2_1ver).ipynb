{
  "nbformat": 4,
  "nbformat_minor": 0,
  "metadata": {
    "colab": {
      "name": "01.Basic(2.1ver).ipynb",
      "provenance": [],
      "collapsed_sections": [],
      "authorship_tag": "ABX9TyO4+nwcjfnp9JrKN79OJMjw",
      "include_colab_link": true
    },
    "kernelspec": {
      "name": "python3",
      "display_name": "Python 3"
    }
  },
  "cells": [
    {
      "cell_type": "markdown",
      "metadata": {
        "id": "view-in-github",
        "colab_type": "text"
      },
      "source": [
        "<a href=\"https://colab.research.google.com/github/ii200400/Tensorflow_Tutorial/blob/master/03%20-%20TensorFlow%20Basic/01_Basic(2_1ver).ipynb\" target=\"_parent\"><img src=\"https://colab.research.google.com/assets/colab-badge.svg\" alt=\"Open In Colab\"/></a>"
      ]
    },
    {
      "cell_type": "markdown",
      "metadata": {
        "id": "cYaoRej8_dK0",
        "colab_type": "text"
      },
      "source": [
        "# 시작하기 전에..\n",
        "\n",
        "https://colab.research.google.com/notebooks/tensorflow_version.ipynb#scrollTo=-XbfkU7BeziQ\n",
        "\n",
        "곧 텐서플로가 2.x 버전이 릴리즈되고 코랩도 해당 버전을 기준으로 사용할 것이라고 한다.\n",
        "\n",
        "https://www.tensorflow.org/guide/effective_tf2?hl=ko\n",
        "\n",
        "이곳에서 바뀐점을 찾아볼 수 있는데 코드량도 줄어들고 더 간편해지는 것 같아  2.1버전의 코딩도 따로 만들게 되었다.\n",
        "\n",
        "https://colab.research.google.com/drive/13H2DStRYd34deZXswreup8aozAuDu5K7#scrollTo=zuUiI38lCJ9O\n",
        "\n",
        "내용은 위의 것을 기본으로 하지만 텐서플로의 버전상 다른 문법을 중점적으로 서술할 것이다."
      ]
    },
    {
      "cell_type": "markdown",
      "metadata": {
        "id": "0s-cpCRHt-r9",
        "colab_type": "text"
      },
      "source": [
        "# 개요\n",
        "\n",
        "텐서플로우의 기본적인 구성을 익히기"
      ]
    },
    {
      "cell_type": "code",
      "metadata": {
        "id": "E4JrXVydC3QV",
        "colab_type": "code",
        "colab": {
          "base_uri": "https://localhost:8080/",
          "height": 34
        },
        "outputId": "3ed86876-432b-4b2f-a7e0-1e619fa2efa1"
      },
      "source": [
        "%tensorflow_version 2.x\n",
        "import tensorflow as tf\n",
        "print(tf.__version__)"
      ],
      "execution_count": null,
      "outputs": [
        {
          "output_type": "stream",
          "text": [
            "2.1.0-rc1\n"
          ],
          "name": "stdout"
        }
      ]
    },
    {
      "cell_type": "markdown",
      "metadata": {
        "id": "bY1xqpNUS6Ff",
        "colab_type": "text"
      },
      "source": [
        "## tf.constant\n",
        "\n",
        "문자 그대로 변하지 않는 값인 상수를 의미한다."
      ]
    },
    {
      "cell_type": "code",
      "metadata": {
        "id": "Y7tuOyMrS-uq",
        "colab_type": "code",
        "colab": {
          "base_uri": "https://localhost:8080/",
          "height": 34
        },
        "outputId": "b08268df-ea20-49cb-e98c-47f679dd424b"
      },
      "source": [
        "hello = tf.constant('Hello, TensorFlow!')\n",
        "print(hello)"
      ],
      "execution_count": null,
      "outputs": [
        {
          "output_type": "stream",
          "text": [
            "tf.Tensor(b'Hello, TensorFlow!', shape=(), dtype=string)\n"
          ],
          "name": "stdout"
        }
      ]
    },
    {
      "cell_type": "code",
      "metadata": {
        "id": "3_tMAhD7TAap",
        "colab_type": "code",
        "colab": {
          "base_uri": "https://localhost:8080/",
          "height": 34
        },
        "outputId": "a3dccbed-2e1f-4cd0-8453-964b384443be"
      },
      "source": [
        "a = tf.constant(10)\n",
        "b = tf.constant(32)\n",
        "c = tf.add(a, b)  # a + b 로도 쓸 수 있음\n",
        "print(c)"
      ],
      "execution_count": null,
      "outputs": [
        {
          "output_type": "stream",
          "text": [
            "tf.Tensor(42, shape=(), dtype=int32)\n"
          ],
          "name": "stdout"
        }
      ]
    },
    {
      "cell_type": "markdown",
      "metadata": {
        "id": "BOuU07WjTz46",
        "colab_type": "text"
      },
      "source": [
        "## tf.print\n",
        "\n",
        "텐서플로 2.0은 (보통의 파이썬처럼) 즉시 실행된다.\\\n",
        "따라서 Session 객체가 필요하지 않다."
      ]
    },
    {
      "cell_type": "code",
      "metadata": {
        "id": "Ry1UjHWM_TTy",
        "colab_type": "code",
        "colab": {
          "base_uri": "https://localhost:8080/",
          "height": 87
        },
        "outputId": "6b90fbbb-db8d-44bc-f252-7c11746711b9"
      },
      "source": [
        "tf.print(hello)\n",
        "tf.print(c)\n",
        "tf.print([c])\n",
        "tf.print([a,b,c])"
      ],
      "execution_count": null,
      "outputs": [
        {
          "output_type": "stream",
          "text": [
            "Hello, TensorFlow!\n",
            "42\n",
            "[42]\n",
            "[10, 32, 42]\n"
          ],
          "name": "stdout"
        }
      ]
    },
    {
      "cell_type": "markdown",
      "metadata": {
        "id": "zg-YsY0Du3_z",
        "colab_type": "text"
      },
      "source": [
        "# 전체 코드"
      ]
    },
    {
      "cell_type": "code",
      "metadata": {
        "id": "gr-f_j_6u519",
        "colab_type": "code",
        "colab": {}
      },
      "source": [
        "%tensorflow_version 2.x\n",
        "import tensorflow as tf\n",
        "print(tf.__version__)\n",
        "\n",
        "hello = tf.constant('Hello, TensorFlow!')\n",
        "print(hello)\n",
        "\n",
        "a = tf.constant(10)\n",
        "b = tf.constant(32)\n",
        "c = tf.add(a, b)  # a + b 로도 쓸 수 있음\n",
        "print(c)\n",
        "\n",
        "tf.print(hello)\n",
        "tf.print(c)\n",
        "tf.print([c])\n",
        "tf.print([a,b,c])"
      ],
      "execution_count": null,
      "outputs": []
    }
  ]
}