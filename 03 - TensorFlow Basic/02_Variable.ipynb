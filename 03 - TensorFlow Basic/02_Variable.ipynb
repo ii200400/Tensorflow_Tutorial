{
  "nbformat": 4,
  "nbformat_minor": 0,
  "metadata": {
    "colab": {
      "name": "02.Variable.ipynb",
      "provenance": [],
      "authorship_tag": "ABX9TyNcYdQ4YDMJWsCqkfMs1Eoi",
      "include_colab_link": true
    },
    "kernelspec": {
      "name": "python3",
      "display_name": "Python 3"
    }
  },
  "cells": [
    {
      "cell_type": "markdown",
      "metadata": {
        "id": "view-in-github",
        "colab_type": "text"
      },
      "source": [
        "<a href=\"https://colab.research.google.com/github/ii200400/Tensorflow_Tutorial/blob/master/03%20-%20TensorFlow%20Basic/02_Variable.ipynb\" target=\"_parent\"><img src=\"https://colab.research.google.com/assets/colab-badge.svg\" alt=\"Open In Colab\"/></a>"
      ]
    },
    {
      "cell_type": "markdown",
      "metadata": {
        "id": "WK5vSkIztjsr",
        "colab_type": "text"
      },
      "source": [
        "# 개요\n",
        "\n",
        "플레이스홀더와 변수의 개념 학습"
      ]
    },
    {
      "cell_type": "code",
      "metadata": {
        "id": "qdfcSv40EJCq",
        "colab_type": "code",
        "colab": {}
      },
      "source": [
        "%tensorflow_version 1.x\n",
        "import tensorflow as tf"
      ],
      "execution_count": null,
      "outputs": []
    },
    {
      "cell_type": "markdown",
      "metadata": {
        "id": "h10gWjxwESJJ",
        "colab_type": "text"
      },
      "source": [
        "## tf.placeholder\n",
        "\n",
        "계산을 실행할 때 입력값을 받는 매개변수"
      ]
    },
    {
      "cell_type": "code",
      "metadata": {
        "id": "NibZsb7rFFyj",
        "colab_type": "code",
        "colab": {
          "base_uri": "https://localhost:8080/",
          "height": 34
        },
        "outputId": "0da152b2-51c5-4d91-cd08-ef5bfb7f3063"
      },
      "source": [
        "# None 은 크기가 정해지지 않았을 경우에 쓰인다.\n",
        "X = tf.placeholder(tf.float32, [None, 3])\n",
        "print(X)"
      ],
      "execution_count": null,
      "outputs": [
        {
          "output_type": "stream",
          "text": [
            "Tensor(\"Placeholder:0\", shape=(?, 3), dtype=float32)\n"
          ],
          "name": "stdout"
        }
      ]
    },
    {
      "cell_type": "markdown",
      "metadata": {
        "id": "15p4wyaqFIti",
        "colab_type": "text"
      },
      "source": [
        "## tf.Variable\n",
        "\n",
        "그래프를 계산하면서 최적화 할 변수들, 이 값이 바로 신경망을 좌우하는 값들이다.\n"
      ]
    },
    {
      "cell_type": "code",
      "metadata": {
        "id": "KJEwfcQCF0An",
        "colab_type": "code",
        "colab": {}
      },
      "source": [
        "# tf.random_normal(a,b): 정규분포에 기반한 a~b사이의 랜덤 값을 반환한다.\n",
        "W = tf.Variable(tf.random_normal([3, 2]))\n",
        "b = tf.Variable(tf.random_normal([2, 1]))\n",
        "\n",
        "# 입력값으로 변수들을 계산할 수식을 작성한다.\n",
        "# 행렬 계산을 수행한다.\n",
        "# 이 버전에서는 행렬 계산에서 int형과 float형을 곱할 수 있다. (2.1버전은 그렇지 않았다..)\n",
        "expr = tf.matmul(X, W) + b # W * X + b"
      ],
      "execution_count": null,
      "outputs": []
    },
    {
      "cell_type": "markdown",
      "metadata": {
        "id": "GKzV89R5JW9I",
        "colab_type": "text"
      },
      "source": [
        "## 그래프 생성과 실행"
      ]
    },
    {
      "cell_type": "code",
      "metadata": {
        "id": "irTu5pKdW0et",
        "colab_type": "code",
        "colab": {
          "base_uri": "https://localhost:8080/",
          "height": 334
        },
        "outputId": "387b96fe-680a-4e0a-d91a-3fe67cf91769"
      },
      "source": [
        "sess = tf.Session()\n",
        "# 위에서 설정한 Variable 들의 값들을 초기화 하기 위해\n",
        "# 처음에 tf.global_variables_initializer 를 한 번 실행해야 한다고 한다.\n",
        "# 전역 컬렉션(global collection)인 헬퍼 메소드라고 한다. 잘 모르겠다.\n",
        "sess.run(tf.global_variables_initializer())\n",
        "\n",
        "# X 플레이스홀더에 넣을 값\n",
        "x_data = [[1, 2, 3], [4, 5, 6]]\n",
        "\n",
        "print(\"=== x_data ===\")\n",
        "print(x_data)\n",
        "\n",
        "# 이 셀을 계속 실행시키면 W와 b의 값이 계속 바뀌는 것을 볼 수 있다. (2.1버전은 바뀌지 않는다.)\n",
        "print(\"=== W ===\")\n",
        "print(sess.run(W))\n",
        "print(\"=== b ===\")\n",
        "print(sess.run(b))\n",
        "print(\"=== expr ===\")\n",
        "\n",
        "# expr 수식에는 X 라는 입력값이 필요하다.\n",
        "# 따라서 expr 실행시에는 이 변수에 대한 실제 입력값(x_data)을 다음처럼 넣어줘야 한다.\n",
        "print(sess.run(expr, feed_dict={X: x_data}))\n",
        "\n",
        "sess.close()"
      ],
      "execution_count": null,
      "outputs": [
        {
          "output_type": "stream",
          "text": [
            "=== x_data ===\n",
            "[[1, 2, 3], [4, 5, 6]]\n",
            "=== W ===\n",
            "[[ 1.3319523  -0.7232737 ]\n",
            " [ 0.13866298  2.1658015 ]\n",
            " [ 0.4896494  -0.6767022 ]]\n",
            "[[ 1.3319523  -0.7232737 ]\n",
            " [ 0.13866298  2.1658015 ]\n",
            " [ 0.4896494  -0.6767022 ]]\n",
            "[[ 1.3319523  -0.7232737 ]\n",
            " [ 0.13866298  2.1658015 ]\n",
            " [ 0.4896494  -0.6767022 ]]\n",
            "=== b ===\n",
            "[[1.1495336 ]\n",
            " [0.42162284]]\n",
            "=== expr ===\n",
            "[[4.2277603 2.7277565]\n",
            " [9.380644  4.2973228]]\n"
          ],
          "name": "stdout"
        }
      ]
    },
    {
      "cell_type": "markdown",
      "metadata": {
        "id": "_06TcfXW4hUP",
        "colab_type": "text"
      },
      "source": [
        "# 전체 코드"
      ]
    },
    {
      "cell_type": "code",
      "metadata": {
        "id": "7nIkWR0D4i7g",
        "colab_type": "code",
        "colab": {
          "base_uri": "https://localhost:8080/",
          "height": 246
        },
        "outputId": "ee605922-6405-4571-9907-2e45f8afbe0f"
      },
      "source": [
        "%tensorflow_version 1.x\n",
        "import tensorflow as tf\n",
        "\n",
        "X = tf.placeholder(tf.float32, [None, 3])\n",
        "print(X)\n",
        "\n",
        "W = tf.Variable(tf.random_normal([3, 2]))\n",
        "b = tf.Variable(tf.random_normal([2, 1]))\n",
        "expr = tf.matmul(X, W) + b\n",
        "\n",
        "sess = tf.Session()\n",
        "sess.run(tf.global_variables_initializer())\n",
        "\n",
        "x_data = [[1, 2, 3], [4, 5, 6]]\n",
        "\n",
        "print(\"=== x_data ===\")\n",
        "print(x_data)\n",
        "print(\"=== W ===\")\n",
        "print(sess.run(W))\n",
        "print(\"=== b ===\")\n",
        "print(sess.run(b))\n",
        "print(\"=== expr ===\")\n",
        "\n",
        "print(sess.run(expr, feed_dict={X: x_data}))\n",
        "\n",
        "sess.close()"
      ],
      "execution_count": null,
      "outputs": [
        {
          "output_type": "stream",
          "text": [
            "Tensor(\"Placeholder_1:0\", shape=(?, 3), dtype=float32)\n",
            "=== x_data ===\n",
            "[[1, 2, 3], [4, 5, 6]]\n",
            "=== W ===\n",
            "[[-0.02692718 -1.9167114 ]\n",
            " [-0.2273661  -0.3932385 ]\n",
            " [-0.17958064 -1.7194993 ]]\n",
            "=== b ===\n",
            "[[0.61272705]\n",
            " [0.19222198]]\n",
            "=== expr ===\n",
            "[[ -0.4076743  -7.248959 ]\n",
            " [ -2.1298013 -19.757812 ]]\n"
          ],
          "name": "stdout"
        }
      ]
    }
  ]
}