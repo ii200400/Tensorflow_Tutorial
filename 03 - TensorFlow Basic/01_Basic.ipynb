{
  "nbformat": 4,
  "nbformat_minor": 0,
  "metadata": {
    "colab": {
      "name": "01.Basic.ipynb",
      "provenance": [],
      "authorship_tag": "ABX9TyOcu+gFGMWwdUQ8W7dmIwHb",
      "include_colab_link": true
    },
    "kernelspec": {
      "name": "python3",
      "display_name": "Python 3"
    }
  },
  "cells": [
    {
      "cell_type": "markdown",
      "metadata": {
        "id": "view-in-github",
        "colab_type": "text"
      },
      "source": [
        "<a href=\"https://colab.research.google.com/github/ii200400/Tensorflow_Tutorial/blob/master/03%20-%20TensorFlow%20Basic/01_Basic.ipynb\" target=\"_parent\"><img src=\"https://colab.research.google.com/assets/colab-badge.svg\" alt=\"Open In Colab\"/></a>"
      ]
    },
    {
      "cell_type": "markdown",
      "metadata": {
        "id": "Ofr2FjzpA7lR",
        "colab_type": "text"
      },
      "source": [
        "# 시작하기 전에..\n",
        "\n",
        "https://github.com/golbin/TensorFlow-Tutorials/blob/master/03%20-%20TensorFlow%20Basic/01%20-%20Basic.py \n",
        "\n",
        "코드는 위에서 그대로 가져오고 이해가 안되는 부분을 이러한 텍스트를 활용하여 추가적으로 넣을 것이다.\n",
        "\n",
        "https://colab.research.google.com/notebooks/tensorflow_version.ipynb#scrollTo=kzTSf5QCfXhI\n",
        "\n",
        "코랩에서 사용하는 텐서플로 버전에 관한 글"
      ]
    },
    {
      "cell_type": "markdown",
      "metadata": {
        "id": "_kZtlC6buJ9L",
        "colab_type": "text"
      },
      "source": [
        "# 개요\n",
        "\n",
        "텐서플로우의 기본적인 구성을 익히기"
      ]
    },
    {
      "cell_type": "code",
      "metadata": {
        "id": "zuUiI38lCJ9O",
        "colab_type": "code",
        "colab": {
          "base_uri": "https://localhost:8080/",
          "height": 34
        },
        "outputId": "1bd9dcd7-6adf-4771-de63-edd50fd2bb9f"
      },
      "source": [
        "%tensorflow_version 1.x\n",
        "import tensorflow as tf\n",
        "print(tf.__version__)"
      ],
      "execution_count": null,
      "outputs": [
        {
          "output_type": "stream",
          "text": [
            "1.15.0\n"
          ],
          "name": "stdout"
        }
      ]
    },
    {
      "cell_type": "markdown",
      "metadata": {
        "id": "0xwJfmUbOJKE",
        "colab_type": "text"
      },
      "source": [
        "## tf.constant\n",
        "\n",
        "문자 그대로 변하지 않는 값인 상수를 의미한다."
      ]
    },
    {
      "cell_type": "code",
      "metadata": {
        "id": "y669bqgjN0hz",
        "colab_type": "code",
        "colab": {
          "base_uri": "https://localhost:8080/",
          "height": 34
        },
        "outputId": "ee70d59f-41e0-4deb-df76-b64f14b44e27"
      },
      "source": [
        "hello = tf.constant('Hello, TensorFlow!')\n",
        "print(hello)"
      ],
      "execution_count": null,
      "outputs": [
        {
          "output_type": "stream",
          "text": [
            "Tensor(\"Const_21:0\", shape=(), dtype=string)\n"
          ],
          "name": "stdout"
        }
      ]
    },
    {
      "cell_type": "code",
      "metadata": {
        "id": "M41q4H20N_Af",
        "colab_type": "code",
        "colab": {
          "base_uri": "https://localhost:8080/",
          "height": 34
        },
        "outputId": "977e1dda-7055-452f-8437-223d4633a120"
      },
      "source": [
        "a = tf.constant(10)\n",
        "b = tf.constant(32)\n",
        "c = tf.add(a, b)  # a + b 로도 쓸 수 있음\n",
        "print(c)"
      ],
      "execution_count": null,
      "outputs": [
        {
          "output_type": "stream",
          "text": [
            "Tensor(\"Add_7:0\", shape=(), dtype=int32)\n"
          ],
          "name": "stdout"
        }
      ]
    },
    {
      "cell_type": "markdown",
      "metadata": {
        "id": "49mlFsywOc6F",
        "colab_type": "text"
      },
      "source": [
        "## tf.Session\n",
        "\n",
        "위에서 변수와 수식들을 정의했지만, 실행이 정의한 시점에서 실행되는 것은 아니다.\\\n",
        "다음처럼 Session 객체와 run 메소드를 사용할 때 계산이 된다.\\\n",
        "따라서 모델을 구성하는 것과, 실행하는 것을 분리하여 프로그램을 깔끔하게 작성할 수 있다.\\\n",
        "그래프를 실행할 세션을 구성하고 실행하는 코드는 다음과 같다."
      ]
    },
    {
      "cell_type": "code",
      "metadata": {
        "id": "M0fHtr_05rCC",
        "colab_type": "code",
        "colab": {
          "base_uri": "https://localhost:8080/",
          "height": 87
        },
        "outputId": "e3e085d2-ebdf-4508-966e-e845231ecd19"
      },
      "source": [
        "sess = tf.Session()\n",
        "\n",
        "print(sess.run(hello))\n",
        "print(sess.run(c))\n",
        "print(sess.run([c]))\n",
        "print(sess.run([a,b,c]))\n",
        "\n",
        "sess.close()"
      ],
      "execution_count": null,
      "outputs": [
        {
          "output_type": "stream",
          "text": [
            "b'Hello, TensorFlow!'\n",
            "42\n",
            "[42]\n",
            "[10, 32, 42]\n"
          ],
          "name": "stdout"
        }
      ]
    },
    {
      "cell_type": "markdown",
      "metadata": {
        "id": "c9ug1Q5AugdV",
        "colab_type": "text"
      },
      "source": [
        "# 전체 코드"
      ]
    },
    {
      "cell_type": "code",
      "metadata": {
        "id": "xKV1Ld0Wubuz",
        "colab_type": "code",
        "colab": {}
      },
      "source": [
        "%tensorflow_version 1.x\n",
        "import tensorflow as tf\n",
        "print(tf.__version__)\n",
        "\n",
        "hello = tf.constant('Hello, TensorFlow!')\n",
        "print(hello)\n",
        "\n",
        "a = tf.constant(10)\n",
        "b = tf.constant(32)\n",
        "c = tf.add(a, b)  # a + b 로도 쓸 수 있음\n",
        "print(c)\n",
        "\n",
        "sess = tf.Session()\n",
        "\n",
        "print(sess.run(hello))\n",
        "print(sess.run([a, b, c]))\n",
        "\n",
        "sess.close()"
      ],
      "execution_count": null,
      "outputs": []
    }
  ]
}