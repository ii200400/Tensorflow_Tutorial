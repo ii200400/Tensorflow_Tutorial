{
  "nbformat": 4,
  "nbformat_minor": 0,
  "metadata": {
    "colab": {
      "name": "02.tf.layers.ipynb",
      "provenance": [],
      "authorship_tag": "ABX9TyMvh8xlEfJ5TjW3DZpP4z2Q",
      "include_colab_link": true
    },
    "kernelspec": {
      "name": "python3",
      "display_name": "Python 3"
    },
    "accelerator": "GPU"
  },
  "cells": [
    {
      "cell_type": "markdown",
      "metadata": {
        "id": "view-in-github",
        "colab_type": "text"
      },
      "source": [
        "<a href=\"https://colab.research.google.com/github/ii200400/Tensorflow_Tutorial/blob/master/07%20-%20CNN/02_tf_layers.ipynb\" target=\"_parent\"><img src=\"https://colab.research.google.com/assets/colab-badge.svg\" alt=\"Open In Colab\"/></a>"
      ]
    },
    {
      "cell_type": "markdown",
      "metadata": {
        "id": "omUqcSl5vhjL",
        "colab_type": "text"
      },
      "source": [
        "# 개요\n",
        "\n",
        "신경망 구성을 손쉽게 해 주는 유틸리티 모음인 tensorflow.layers 를 활용해본다."
      ]
    },
    {
      "cell_type": "markdown",
      "metadata": {
        "id": "UnlabuPvxpvu",
        "colab_type": "text"
      },
      "source": [
        "## 데이터 정의"
      ]
    },
    {
      "cell_type": "code",
      "metadata": {
        "id": "vXhHrY9FxsI6",
        "colab_type": "code",
        "colab": {
          "base_uri": "https://localhost:8080/",
          "height": 543
        },
        "outputId": "a102d041-ad5a-4b61-ec90-eed7efed4a19"
      },
      "source": [
        "%tensorflow_version 1.x\n",
        "import tensorflow as tf\n",
        "\n",
        "from tensorflow.examples.tutorials.mnist import input_data\n",
        "mnist = input_data.read_data_sets(\"./mnist/data/\", one_hot=True)"
      ],
      "execution_count": null,
      "outputs": [
        {
          "output_type": "stream",
          "text": [
            "WARNING:tensorflow:From <ipython-input-2-dbec661cbc16>:5: read_data_sets (from tensorflow.contrib.learn.python.learn.datasets.mnist) is deprecated and will be removed in a future version.\n",
            "Instructions for updating:\n",
            "Please use alternatives such as official/mnist/dataset.py from tensorflow/models.\n",
            "WARNING:tensorflow:From /usr/local/lib/python3.6/dist-packages/tensorflow_core/contrib/learn/python/learn/datasets/mnist.py:260: maybe_download (from tensorflow.contrib.learn.python.learn.datasets.base) is deprecated and will be removed in a future version.\n",
            "Instructions for updating:\n",
            "Please write your own downloading logic.\n",
            "WARNING:tensorflow:From /usr/local/lib/python3.6/dist-packages/tensorflow_core/contrib/learn/python/learn/datasets/base.py:252: _internal_retry.<locals>.wrap.<locals>.wrapped_fn (from tensorflow.contrib.learn.python.learn.datasets.base) is deprecated and will be removed in a future version.\n",
            "Instructions for updating:\n",
            "Please use urllib or similar directly.\n",
            "Successfully downloaded train-images-idx3-ubyte.gz 9912422 bytes.\n",
            "WARNING:tensorflow:From /usr/local/lib/python3.6/dist-packages/tensorflow_core/contrib/learn/python/learn/datasets/mnist.py:262: extract_images (from tensorflow.contrib.learn.python.learn.datasets.mnist) is deprecated and will be removed in a future version.\n",
            "Instructions for updating:\n",
            "Please use tf.data to implement this functionality.\n",
            "Extracting ./mnist/data/train-images-idx3-ubyte.gz\n",
            "Successfully downloaded train-labels-idx1-ubyte.gz 28881 bytes.\n",
            "WARNING:tensorflow:From /usr/local/lib/python3.6/dist-packages/tensorflow_core/contrib/learn/python/learn/datasets/mnist.py:267: extract_labels (from tensorflow.contrib.learn.python.learn.datasets.mnist) is deprecated and will be removed in a future version.\n",
            "Instructions for updating:\n",
            "Please use tf.data to implement this functionality.\n",
            "Extracting ./mnist/data/train-labels-idx1-ubyte.gz\n",
            "WARNING:tensorflow:From /usr/local/lib/python3.6/dist-packages/tensorflow_core/contrib/learn/python/learn/datasets/mnist.py:110: dense_to_one_hot (from tensorflow.contrib.learn.python.learn.datasets.mnist) is deprecated and will be removed in a future version.\n",
            "Instructions for updating:\n",
            "Please use tf.one_hot on tensors.\n",
            "Successfully downloaded t10k-images-idx3-ubyte.gz 1648877 bytes.\n",
            "Extracting ./mnist/data/t10k-images-idx3-ubyte.gz\n",
            "Successfully downloaded t10k-labels-idx1-ubyte.gz 4542 bytes.\n",
            "Extracting ./mnist/data/t10k-labels-idx1-ubyte.gz\n",
            "WARNING:tensorflow:From /usr/local/lib/python3.6/dist-packages/tensorflow_core/contrib/learn/python/learn/datasets/mnist.py:290: DataSet.__init__ (from tensorflow.contrib.learn.python.learn.datasets.mnist) is deprecated and will be removed in a future version.\n",
            "Instructions for updating:\n",
            "Please use alternatives such as official/mnist/dataset.py from tensorflow/models.\n"
          ],
          "name": "stdout"
        }
      ]
    },
    {
      "cell_type": "markdown",
      "metadata": {
        "id": "5iHmcFKPy1pX",
        "colab_type": "text"
      },
      "source": [
        "## 모델 구성"
      ]
    },
    {
      "cell_type": "markdown",
      "metadata": {
        "id": "h4k1Q-u0y6zP",
        "colab_type": "text"
      },
      "source": [
        "## 변수 정의"
      ]
    },
    {
      "cell_type": "code",
      "metadata": {
        "id": "D6KtrK9Vy8D3",
        "colab_type": "code",
        "colab": {}
      },
      "source": [
        "X = tf.placeholder(tf.float32, [None, 28, 28, 1])\n",
        "Y = tf.placeholder(tf.float32, [None, 10])\n",
        "is_training = tf.placeholder(tf.bool)"
      ],
      "execution_count": null,
      "outputs": []
    },
    {
      "cell_type": "markdown",
      "metadata": {
        "id": "CAmpZ3G4y3uH",
        "colab_type": "text"
      },
      "source": [
        "### 신경망 구성"
      ]
    },
    {
      "cell_type": "code",
      "metadata": {
        "id": "LzEt3fq8y56w",
        "colab_type": "code",
        "colab": {
          "base_uri": "https://localhost:8080/",
          "height": 490
        },
        "outputId": "a3bf2029-8b53-4c72-a973-7153c45195c6"
      },
      "source": [
        "# 기본적으로 inputs, outputs size, kernel_size 만 넣어주면\n",
        "# 활성화 함수 적용은 물론, 컨볼루션 신경망을 만들기 위한 나머지 수치들은 알아서 계산해준다.\n",
        "# 특히 Weights 를 계산하는데 xavier_initializer 를 쓰고 있는 등,\n",
        "# 크게 신경쓰지 않아도 일반적으로 효율적인 신경망을 만들어준다.\n",
        "L1 = tf.layers.conv2d(X, 32, [3, 3], activation=tf.nn.relu)\n",
        "L1 = tf.layers.max_pooling2d(L1, [2, 2], [2, 2])\n",
        "L1 = tf.layers.dropout(L1, 0.7, is_training)\n",
        "\n",
        "L2 = tf.layers.conv2d(L1, 64, [3, 3], activation=tf.nn.relu)\n",
        "L2 = tf.layers.max_pooling2d(L2, [2, 2], [2, 2])\n",
        "L2 = tf.layers.dropout(L2, 0.7, is_training)\n",
        "\n",
        "L3 = tf.contrib.layers.flatten(L2)\n",
        "L3 = tf.layers.dense(L3, 256, activation=tf.nn.relu)\n",
        "L3 = tf.layers.dropout(L3, 0.5, is_training)\n",
        "\n",
        "model = tf.layers.dense(L3, 10, activation=None)"
      ],
      "execution_count": null,
      "outputs": [
        {
          "output_type": "stream",
          "text": [
            "WARNING:tensorflow:From <ipython-input-4-1739b1f52133>:1: conv2d (from tensorflow.python.layers.convolutional) is deprecated and will be removed in a future version.\n",
            "Instructions for updating:\n",
            "Use `tf.keras.layers.Conv2D` instead.\n",
            "WARNING:tensorflow:From /usr/local/lib/python3.6/dist-packages/tensorflow_core/python/layers/convolutional.py:424: Layer.apply (from tensorflow.python.keras.engine.base_layer) is deprecated and will be removed in a future version.\n",
            "Instructions for updating:\n",
            "Please use `layer.__call__` method instead.\n",
            "WARNING:tensorflow:From <ipython-input-4-1739b1f52133>:2: max_pooling2d (from tensorflow.python.layers.pooling) is deprecated and will be removed in a future version.\n",
            "Instructions for updating:\n",
            "Use keras.layers.MaxPooling2D instead.\n",
            "WARNING:tensorflow:From <ipython-input-4-1739b1f52133>:3: dropout (from tensorflow.python.layers.core) is deprecated and will be removed in a future version.\n",
            "Instructions for updating:\n",
            "Use keras.layers.dropout instead.\n",
            "WARNING:tensorflow:\n",
            "The TensorFlow contrib module will not be included in TensorFlow 2.0.\n",
            "For more information, please see:\n",
            "  * https://github.com/tensorflow/community/blob/master/rfcs/20180907-contrib-sunset.md\n",
            "  * https://github.com/tensorflow/addons\n",
            "  * https://github.com/tensorflow/io (for I/O related ops)\n",
            "If you depend on functionality not listed there, please file an issue.\n",
            "\n",
            "WARNING:tensorflow:From /usr/local/lib/python3.6/dist-packages/tensorflow_core/contrib/layers/python/layers/layers.py:1634: flatten (from tensorflow.python.layers.core) is deprecated and will be removed in a future version.\n",
            "Instructions for updating:\n",
            "Use keras.layers.flatten instead.\n",
            "WARNING:tensorflow:From <ipython-input-4-1739b1f52133>:10: dense (from tensorflow.python.layers.core) is deprecated and will be removed in a future version.\n",
            "Instructions for updating:\n",
            "Use keras.layers.Dense instead.\n"
          ],
          "name": "stdout"
        }
      ]
    },
    {
      "cell_type": "markdown",
      "metadata": {
        "id": "WxIWN0UazHWQ",
        "colab_type": "text"
      },
      "source": [
        "### 비용과 최적화"
      ]
    },
    {
      "cell_type": "code",
      "metadata": {
        "id": "BG0HfW92zJAh",
        "colab_type": "code",
        "colab": {}
      },
      "source": [
        "cost = tf.reduce_mean(tf.nn.softmax_cross_entropy_with_logits_v2(logits=model, labels=Y))\n",
        "optimizer = tf.train.AdamOptimizer(0.001).minimize(cost)"
      ],
      "execution_count": null,
      "outputs": []
    },
    {
      "cell_type": "markdown",
      "metadata": {
        "id": "dSIF6rzSzPRo",
        "colab_type": "text"
      },
      "source": [
        "### 모델 학습"
      ]
    },
    {
      "cell_type": "code",
      "metadata": {
        "id": "aqKraqhazToq",
        "colab_type": "code",
        "colab": {
          "base_uri": "https://localhost:8080/",
          "height": 278
        },
        "outputId": "a5f66777-b7ed-484f-8abd-1d8cf8437210"
      },
      "source": [
        "init = tf.global_variables_initializer()\n",
        "sess = tf.Session()\n",
        "sess.run(init)\n",
        "\n",
        "batch_size = 100\n",
        "total_batch = int(mnist.train.num_examples/batch_size)\n",
        "\n",
        "for epoch in range(15):\n",
        "    total_cost = 0\n",
        "\n",
        "    for i in range(total_batch):\n",
        "        batch_xs, batch_ys = mnist.train.next_batch(batch_size)\n",
        "        batch_xs = batch_xs.reshape(-1, 28, 28, 1)\n",
        "        _, cost_val = sess.run([optimizer, cost],\n",
        "                               feed_dict={X: batch_xs,\n",
        "                                          Y: batch_ys,\n",
        "                                          is_training: True})\n",
        "        total_cost += cost_val\n",
        "\n",
        "    print('Epoch:', '%04d' % (epoch + 1),\n",
        "          'Avg. cost =', '{:.4f}'.format(total_cost / total_batch))"
      ],
      "execution_count": null,
      "outputs": [
        {
          "output_type": "stream",
          "text": [
            "Epoch: 0001 Avg. cost = 0.1754\n",
            "Epoch: 0002 Avg. cost = 0.0487\n",
            "Epoch: 0003 Avg. cost = 0.0338\n",
            "Epoch: 0004 Avg. cost = 0.0249\n",
            "Epoch: 0005 Avg. cost = 0.0179\n",
            "Epoch: 0006 Avg. cost = 0.0139\n",
            "Epoch: 0007 Avg. cost = 0.0111\n",
            "Epoch: 0008 Avg. cost = 0.0097\n",
            "Epoch: 0009 Avg. cost = 0.0078\n",
            "Epoch: 0010 Avg. cost = 0.0068\n",
            "Epoch: 0011 Avg. cost = 0.0056\n",
            "Epoch: 0012 Avg. cost = 0.0064\n",
            "Epoch: 0013 Avg. cost = 0.0047\n",
            "Epoch: 0014 Avg. cost = 0.0041\n",
            "Epoch: 0015 Avg. cost = 0.0051\n"
          ],
          "name": "stdout"
        }
      ]
    },
    {
      "cell_type": "markdown",
      "metadata": {
        "id": "ZKsLc3QazVbo",
        "colab_type": "text"
      },
      "source": [
        "### 모델 테스트"
      ]
    },
    {
      "cell_type": "code",
      "metadata": {
        "id": "4FS3JT9XzW97",
        "colab_type": "code",
        "colab": {
          "base_uri": "https://localhost:8080/",
          "height": 34
        },
        "outputId": "b3a2eb1a-298c-4f14-f8f3-d2e7643312af"
      },
      "source": [
        "is_correct = tf.equal(tf.argmax(model, 1), tf.argmax(Y, 1))\n",
        "accuracy = tf.reduce_mean(tf.cast(is_correct, tf.float32))\n",
        "print('정확도:', sess.run(accuracy,\n",
        "                        feed_dict={X: mnist.test.images.reshape(-1, 28, 28, 1),\n",
        "                                   Y: mnist.test.labels,\n",
        "                                   is_training: False}))"
      ],
      "execution_count": null,
      "outputs": [
        {
          "output_type": "stream",
          "text": [
            "정확도: 0.9897\n"
          ],
          "name": "stdout"
        }
      ]
    },
    {
      "cell_type": "markdown",
      "metadata": {
        "id": "Aodj7EQLvfDi",
        "colab_type": "text"
      },
      "source": [
        "## 전체 코드"
      ]
    },
    {
      "cell_type": "code",
      "metadata": {
        "id": "4xOObtADvdno",
        "colab_type": "code",
        "colab": {}
      },
      "source": [
        "%tensorflow_version 1.x\n",
        "import tensorflow as tf\n",
        "\n",
        "from tensorflow.examples.tutorials.mnist import input_data\n",
        "mnist = input_data.read_data_sets(\"./mnist/data/\", one_hot=True)\n",
        "\n",
        "#########\n",
        "# 신경망 모델 구성\n",
        "######\n",
        "\n",
        "X = tf.placeholder(tf.float32, [None, 28, 28, 1])\n",
        "Y = tf.placeholder(tf.float32, [None, 10])\n",
        "is_training = tf.placeholder(tf.bool)\n",
        "\n",
        "L1 = tf.layers.conv2d(X, 32, [3, 3], activation=tf.nn.relu)\n",
        "L1 = tf.layers.max_pooling2d(L1, [2, 2], [2, 2])\n",
        "L1 = tf.layers.dropout(L1, 0.7, is_training)\n",
        "\n",
        "L2 = tf.layers.conv2d(L1, 64, [3, 3], activation=tf.nn.relu)\n",
        "L2 = tf.layers.max_pooling2d(L2, [2, 2], [2, 2])\n",
        "L2 = tf.layers.dropout(L2, 0.7, is_training)\n",
        "\n",
        "L3 = tf.contrib.layers.flatten(L2)\n",
        "L3 = tf.layers.dense(L3, 256, activation=tf.nn.relu)\n",
        "L3 = tf.layers.dropout(L3, 0.5, is_training)\n",
        "\n",
        "model = tf.layers.dense(L3, 10, activation=None)\n",
        "\n",
        "cost = tf.reduce_mean(tf.nn.softmax_cross_entropy_with_logits_v2(logits=model, labels=Y))\n",
        "optimizer = tf.train.AdamOptimizer(0.001).minimize(cost)\n",
        "\n",
        "#########\n",
        "# 신경망 모델 학습\n",
        "######\n",
        "\n",
        "init = tf.global_variables_initializer()\n",
        "sess = tf.Session()\n",
        "sess.run(init)\n",
        "\n",
        "batch_size = 100\n",
        "total_batch = int(mnist.train.num_examples/batch_size)\n",
        "\n",
        "for epoch in range(15):\n",
        "    total_cost = 0\n",
        "\n",
        "    for i in range(total_batch):\n",
        "        batch_xs, batch_ys = mnist.train.next_batch(batch_size)\n",
        "        batch_xs = batch_xs.reshape(-1, 28, 28, 1)\n",
        "        _, cost_val = sess.run([optimizer, cost],\n",
        "                               feed_dict={X: batch_xs,\n",
        "                                          Y: batch_ys,\n",
        "                                          is_training: True})\n",
        "        total_cost += cost_val\n",
        "\n",
        "    print('Epoch:', '%04d' % (epoch + 1),\n",
        "          'Avg. cost =', '{:.4f}'.format(total_cost / total_batch))\n",
        "\n",
        "print('최적화 완료!')\n",
        "\n",
        "#########\n",
        "# 결과 확인\n",
        "######\n",
        "\n",
        "is_correct = tf.equal(tf.argmax(model, 1), tf.argmax(Y, 1))\n",
        "accuracy = tf.reduce_mean(tf.cast(is_correct, tf.float32))\n",
        "print('정확도:', sess.run(accuracy,\n",
        "                        feed_dict={X: mnist.test.images.reshape(-1, 28, 28, 1),\n",
        "                                   Y: mnist.test.labels,\n",
        "                                   is_training: False}))"
      ],
      "execution_count": null,
      "outputs": []
    }
  ]
}