{
  "nbformat": 4,
  "nbformat_minor": 0,
  "metadata": {
    "colab": {
      "name": "01.CNN(2.1ver).ipynb",
      "provenance": [],
      "collapsed_sections": [],
      "authorship_tag": "ABX9TyPlWql9Hfbi5RMrOYsNU/ct",
      "include_colab_link": true
    },
    "kernelspec": {
      "name": "python3",
      "display_name": "Python 3"
    },
    "accelerator": "GPU"
  },
  "cells": [
    {
      "cell_type": "markdown",
      "metadata": {
        "id": "view-in-github",
        "colab_type": "text"
      },
      "source": [
        "<a href=\"https://colab.research.google.com/github/ii200400/Tensorflow_Tutorial/blob/master/07%20-%20CNN/01_CNN(2_1ver).ipynb\" target=\"_parent\"><img src=\"https://colab.research.google.com/assets/colab-badge.svg\" alt=\"Open In Colab\"/></a>"
      ]
    },
    {
      "cell_type": "markdown",
      "metadata": {
        "id": "ziuH2O4cu-ns",
        "colab_type": "text"
      },
      "source": [
        "# 개요\n",
        "\n",
        "이미지 처리 분야에서 가장 유명한 신경망 모델인 CNN 만들어보기"
      ]
    },
    {
      "cell_type": "code",
      "metadata": {
        "id": "FMdgzxOAvEUf",
        "colab_type": "code",
        "colab": {}
      },
      "source": [
        "%tensorflow_version 2.x\n",
        "import tensorflow as tf"
      ],
      "execution_count": null,
      "outputs": []
    },
    {
      "cell_type": "markdown",
      "metadata": {
        "id": "rYuVaDKlvG2G",
        "colab_type": "text"
      },
      "source": [
        "## 데이터 정의"
      ]
    },
    {
      "cell_type": "code",
      "metadata": {
        "id": "NXIaHOKpvI0i",
        "colab_type": "code",
        "colab": {}
      },
      "source": [
        "mnist = tf.keras.datasets.mnist\n",
        "\n",
        "(x_train, y_train), (x_test, y_test) = mnist.load_data()\n",
        "\n",
        "x_train = x_train.reshape(-1, 28, 28, 1).astype('float32') / 255\n",
        "x_test = x_test.reshape(-1, 28, 28, 1).astype('float32') / 255\n",
        "\n",
        "y_train, y_test = tf.one_hot(y_train, depth=10).numpy(), tf.one_hot(y_test, depth=10).numpy()"
      ],
      "execution_count": null,
      "outputs": []
    },
    {
      "cell_type": "markdown",
      "metadata": {
        "id": "K0TiEwbhvTCG",
        "colab_type": "text"
      },
      "source": [
        "## 모델 구성"
      ]
    },
    {
      "cell_type": "markdown",
      "metadata": {
        "id": "3bPobqr-vUr2",
        "colab_type": "text"
      },
      "source": [
        "### 신경망 구성"
      ]
    },
    {
      "cell_type": "code",
      "metadata": {
        "id": "blksqI8VvWJR",
        "colab_type": "code",
        "colab": {
          "base_uri": "https://localhost:8080/",
          "height": 436
        },
        "outputId": "68ccf98f-c05b-469c-b1ed-7353aa8152a6"
      },
      "source": [
        "def make_model():\n",
        "  model = tf.keras.models.Sequential([\n",
        "    tf.keras.layers.Conv2D(32, 3, padding='same', activation=tf.nn.relu,\n",
        "                           use_bias=False, input_shape=(28,28,1)),\n",
        "    tf.keras.layers.MaxPooling2D(2, 2, padding='same'),\n",
        "    # tf.keras.layers.Dropout(0.3),\n",
        "\n",
        "    tf.keras.layers.Conv2D(64, 3, padding='same', activation=tf.nn.relu, use_bias=False),\n",
        "    tf.keras.layers.MaxPooling2D(2, 2, padding='same'),\n",
        "    # tf.keras.layers.Dropout(0.3),\n",
        "\n",
        "    tf.keras.layers.Flatten(),\n",
        "    tf.keras.layers.Dense(256, activation=tf.nn.relu, use_bias=False),\n",
        "    tf.keras.layers.Dropout(0.3),\n",
        "\n",
        "    tf.keras.layers.Dense(10, activation=tf.nn.softmax, use_bias=False)\n",
        "  ])\n",
        "\n",
        "  return model\n",
        "\n",
        "model = make_model()\n",
        "\n",
        "# 모델에 대한 레이어들의 요약된 정보를 볼 수 있다.\n",
        "model.summary()"
      ],
      "execution_count": null,
      "outputs": [
        {
          "output_type": "stream",
          "text": [
            "Model: \"sequential_5\"\n",
            "_________________________________________________________________\n",
            "Layer (type)                 Output Shape              Param #   \n",
            "=================================================================\n",
            "conv2d_10 (Conv2D)           (None, 28, 28, 32)        288       \n",
            "_________________________________________________________________\n",
            "max_pooling2d_10 (MaxPooling (None, 14, 14, 32)        0         \n",
            "_________________________________________________________________\n",
            "conv2d_11 (Conv2D)           (None, 14, 14, 64)        18432     \n",
            "_________________________________________________________________\n",
            "max_pooling2d_11 (MaxPooling (None, 7, 7, 64)          0         \n",
            "_________________________________________________________________\n",
            "flatten (Flatten)            (None, 3136)              0         \n",
            "_________________________________________________________________\n",
            "dense_10 (Dense)             (None, 256)               802816    \n",
            "_________________________________________________________________\n",
            "dropout_5 (Dropout)          (None, 256)               0         \n",
            "_________________________________________________________________\n",
            "dense_11 (Dense)             (None, 10)                2560      \n",
            "=================================================================\n",
            "Total params: 824,096\n",
            "Trainable params: 824,096\n",
            "Non-trainable params: 0\n",
            "_________________________________________________________________\n"
          ],
          "name": "stdout"
        }
      ]
    },
    {
      "cell_type": "markdown",
      "metadata": {
        "id": "_q6Bb6P7ExrK",
        "colab_type": "text"
      },
      "source": [
        "### 최적화 함수 및 비용 함수 설정"
      ]
    },
    {
      "cell_type": "code",
      "metadata": {
        "id": "Ehyv2WCdE1x8",
        "colab_type": "code",
        "colab": {}
      },
      "source": [
        "model.compile(optimizer=tf.keras.optimizers.Adam(0.001),\n",
        "              # optimizer=tf.keras.optimizers.RMSprop(0.001),\n",
        "              loss=tf.keras.losses.categorical_crossentropy,\n",
        "              metrics=['accuracy'])"
      ],
      "execution_count": null,
      "outputs": []
    },
    {
      "cell_type": "markdown",
      "metadata": {
        "id": "MWIfmAF5M0qX",
        "colab_type": "text"
      },
      "source": [
        "### 모델 학습"
      ]
    },
    {
      "cell_type": "code",
      "metadata": {
        "id": "HvKwucBmM3Ox",
        "colab_type": "code",
        "colab": {
          "base_uri": "https://localhost:8080/",
          "height": 575
        },
        "outputId": "7d91fc45-62dc-4bea-839b-f398a6c923dc"
      },
      "source": [
        "batch_size = 100\n",
        "epoch = 15\n",
        "\n",
        "model.fit(x=x_train, \n",
        "          y=y_train,\n",
        "          batch_size = batch_size,\n",
        "          epochs=epoch)"
      ],
      "execution_count": null,
      "outputs": [
        {
          "output_type": "stream",
          "text": [
            "Train on 60000 samples\n",
            "Epoch 1/15\n",
            "60000/60000 [==============================] - 66s 1ms/sample - loss: 0.1733 - accuracy: 0.9460\n",
            "Epoch 2/15\n",
            "60000/60000 [==============================] - 66s 1ms/sample - loss: 0.0528 - accuracy: 0.9839\n",
            "Epoch 3/15\n",
            "60000/60000 [==============================] - 65s 1ms/sample - loss: 0.0367 - accuracy: 0.9883\n",
            "Epoch 4/15\n",
            "60000/60000 [==============================] - 66s 1ms/sample - loss: 0.0288 - accuracy: 0.9909\n",
            "Epoch 5/15\n",
            "60000/60000 [==============================] - 66s 1ms/sample - loss: 0.0230 - accuracy: 0.9926\n",
            "Epoch 6/15\n",
            "60000/60000 [==============================] - 66s 1ms/sample - loss: 0.0188 - accuracy: 0.9939\n",
            "Epoch 7/15\n",
            "60000/60000 [==============================] - 66s 1ms/sample - loss: 0.0147 - accuracy: 0.9951\n",
            "Epoch 8/15\n",
            "60000/60000 [==============================] - 65s 1ms/sample - loss: 0.0145 - accuracy: 0.9952\n",
            "Epoch 9/15\n",
            "60000/60000 [==============================] - 65s 1ms/sample - loss: 0.0110 - accuracy: 0.9965\n",
            "Epoch 10/15\n",
            "60000/60000 [==============================] - 65s 1ms/sample - loss: 0.0122 - accuracy: 0.9959\n",
            "Epoch 11/15\n",
            "60000/60000 [==============================] - 65s 1ms/sample - loss: 0.0104 - accuracy: 0.9965\n",
            "Epoch 12/15\n",
            "60000/60000 [==============================] - 67s 1ms/sample - loss: 0.0076 - accuracy: 0.9973\n",
            "Epoch 13/15\n",
            "60000/60000 [==============================] - 67s 1ms/sample - loss: 0.0074 - accuracy: 0.9974\n",
            "Epoch 14/15\n",
            "60000/60000 [==============================] - 67s 1ms/sample - loss: 0.0063 - accuracy: 0.9980\n",
            "Epoch 15/15\n",
            "60000/60000 [==============================] - 66s 1ms/sample - loss: 0.0080 - accuracy: 0.9974\n"
          ],
          "name": "stdout"
        },
        {
          "output_type": "execute_result",
          "data": {
            "text/plain": [
              "<tensorflow.python.keras.callbacks.History at 0x7fe3cd3e01d0>"
            ]
          },
          "metadata": {
            "tags": []
          },
          "execution_count": 34
        }
      ]
    },
    {
      "cell_type": "markdown",
      "metadata": {
        "id": "2_psGFAkpOma",
        "colab_type": "text"
      },
      "source": [
        "### 모델 테스트"
      ]
    },
    {
      "cell_type": "code",
      "metadata": {
        "id": "aK0VbYehpUmn",
        "colab_type": "code",
        "colab": {
          "base_uri": "https://localhost:8080/",
          "height": 52
        },
        "outputId": "9b583b42-a89d-4426-d457-d3ea71f5d878"
      },
      "source": [
        "model.evaluate(x=x_test,\n",
        "               y=y_test,\n",
        "               batch_size=batch_size)"
      ],
      "execution_count": null,
      "outputs": [
        {
          "output_type": "stream",
          "text": [
            "10000/10000 [==============================] - 3s 345us/sample - loss: 0.0241 - accuracy: 0.9925\n"
          ],
          "name": "stdout"
        },
        {
          "output_type": "execute_result",
          "data": {
            "text/plain": [
              "[0.02407127858847577, 0.9925]"
            ]
          },
          "metadata": {
            "tags": []
          },
          "execution_count": 36
        }
      ]
    },
    {
      "cell_type": "markdown",
      "metadata": {
        "id": "ARf3Vt3gvKeW",
        "colab_type": "text"
      },
      "source": [
        "## 전체 코드"
      ]
    },
    {
      "cell_type": "code",
      "metadata": {
        "id": "9ubl-WzXvZ7N",
        "colab_type": "code",
        "colab": {
          "base_uri": "https://localhost:8080/",
          "height": 1000
        },
        "outputId": "8d7ec927-297d-48f3-e431-557aaa2edfb9"
      },
      "source": [
        "%tensorflow_version 2.x\n",
        "import tensorflow as tf\n",
        "\n",
        "mnist = tf.keras.datasets.mnist\n",
        "\n",
        "(x_train, y_train), (x_test, y_test) = mnist.load_data()\n",
        "\n",
        "x_train = x_train.reshape(-1, 28, 28, 1).astype('float32') / 255\n",
        "x_test = x_test.reshape(-1, 28, 28, 1).astype('float32') / 255\n",
        "\n",
        "y_train, y_test = tf.one_hot(y_train, depth=10).numpy(), tf.one_hot(y_test, depth=10).numpy()\n",
        "\n",
        "#########\n",
        "# 신경망 모델 구성\n",
        "######\n",
        "\n",
        "def make_model():\n",
        "  model = tf.keras.models.Sequential([\n",
        "    tf.keras.layers.Conv2D(32, 3, padding='same', activation=tf.nn.relu,\n",
        "                           use_bias=False, input_shape=(28,28,1)),\n",
        "    tf.keras.layers.MaxPooling2D(2, 2, padding='same'),\n",
        "    tf.keras.layers.Dropout(0.3),\n",
        "\n",
        "    tf.keras.layers.Conv2D(64, 3, padding='same', activation=tf.nn.relu, use_bias=False),\n",
        "    tf.keras.layers.MaxPooling2D(2, 2, padding='same'),\n",
        "    tf.keras.layers.Dropout(0.3),\n",
        "\n",
        "    tf.keras.layers.Flatten(),\n",
        "    tf.keras.layers.Dense(256, activation=tf.nn.relu, use_bias=False),\n",
        "    tf.keras.layers.Dropout(0.3),\n",
        "\n",
        "    tf.keras.layers.Dense(10, activation=tf.nn.softmax, use_bias=False)\n",
        "  ])\n",
        "\n",
        "  return model\n",
        "\n",
        "model = make_model()\n",
        "\n",
        "model.summary()\n",
        "\n",
        "model.compile(optimizer=tf.keras.optimizers.Adam(0.001),\n",
        "              # optimizer=tf.keras.optimizers.RMSprop(0.001),\n",
        "              loss=tf.keras.losses.categorical_crossentropy,\n",
        "              metrics=['accuracy'])\n",
        "\n",
        "#########\n",
        "# 신경망 모델 학습\n",
        "######\n",
        "\n",
        "batch_size = 100\n",
        "epoch = 15\n",
        "\n",
        "model.fit(x=x_train, \n",
        "          y=y_train,\n",
        "          batch_size = batch_size,\n",
        "          epochs=epoch)\n",
        "\n",
        "#########\n",
        "# 결과 확인\n",
        "######\n",
        "\n",
        "model.evaluate(x=x_test,\n",
        "               y=y_test,\n",
        "               batch_size=batch_size)\n"
      ],
      "execution_count": null,
      "outputs": [
        {
          "output_type": "stream",
          "text": [
            "Model: \"sequential_1\"\n",
            "_________________________________________________________________\n",
            "Layer (type)                 Output Shape              Param #   \n",
            "=================================================================\n",
            "conv2d_2 (Conv2D)            (None, 28, 28, 32)        288       \n",
            "_________________________________________________________________\n",
            "max_pooling2d_2 (MaxPooling2 (None, 14, 14, 32)        0         \n",
            "_________________________________________________________________\n",
            "dropout_1 (Dropout)          (None, 14, 14, 32)        0         \n",
            "_________________________________________________________________\n",
            "conv2d_3 (Conv2D)            (None, 14, 14, 64)        18432     \n",
            "_________________________________________________________________\n",
            "max_pooling2d_3 (MaxPooling2 (None, 7, 7, 64)          0         \n",
            "_________________________________________________________________\n",
            "dropout_2 (Dropout)          (None, 7, 7, 64)          0         \n",
            "_________________________________________________________________\n",
            "flatten_1 (Flatten)          (None, 3136)              0         \n",
            "_________________________________________________________________\n",
            "dense_2 (Dense)              (None, 256)               802816    \n",
            "_________________________________________________________________\n",
            "dropout_3 (Dropout)          (None, 256)               0         \n",
            "_________________________________________________________________\n",
            "dense_3 (Dense)              (None, 10)                2560      \n",
            "=================================================================\n",
            "Total params: 824,096\n",
            "Trainable params: 824,096\n",
            "Non-trainable params: 0\n",
            "_________________________________________________________________\n",
            "Train on 60000 samples\n",
            "Epoch 1/15\n",
            "60000/60000 [==============================] - 4s 66us/sample - loss: 0.2286 - accuracy: 0.9279\n",
            "Epoch 2/15\n",
            "60000/60000 [==============================] - 3s 57us/sample - loss: 0.0763 - accuracy: 0.9765\n",
            "Epoch 3/15\n",
            "60000/60000 [==============================] - 3s 58us/sample - loss: 0.0552 - accuracy: 0.9826\n",
            "Epoch 4/15\n",
            "60000/60000 [==============================] - 3s 58us/sample - loss: 0.0468 - accuracy: 0.9853\n",
            "Epoch 5/15\n",
            "60000/60000 [==============================] - 3s 58us/sample - loss: 0.0402 - accuracy: 0.9874\n",
            "Epoch 6/15\n",
            "60000/60000 [==============================] - 4s 60us/sample - loss: 0.0350 - accuracy: 0.9883\n",
            "Epoch 7/15\n",
            "60000/60000 [==============================] - 4s 59us/sample - loss: 0.0319 - accuracy: 0.9901\n",
            "Epoch 8/15\n",
            "60000/60000 [==============================] - 3s 58us/sample - loss: 0.0286 - accuracy: 0.9905\n",
            "Epoch 9/15\n",
            "60000/60000 [==============================] - 3s 57us/sample - loss: 0.0256 - accuracy: 0.9912\n",
            "Epoch 10/15\n",
            "60000/60000 [==============================] - 3s 57us/sample - loss: 0.0238 - accuracy: 0.9920\n",
            "Epoch 11/15\n",
            "60000/60000 [==============================] - 3s 58us/sample - loss: 0.0235 - accuracy: 0.9919\n",
            "Epoch 12/15\n",
            "60000/60000 [==============================] - 3s 56us/sample - loss: 0.0213 - accuracy: 0.9931\n",
            "Epoch 13/15\n",
            "60000/60000 [==============================] - 3s 57us/sample - loss: 0.0203 - accuracy: 0.9936\n",
            "Epoch 14/15\n",
            "60000/60000 [==============================] - 3s 57us/sample - loss: 0.0168 - accuracy: 0.9942\n",
            "Epoch 15/15\n",
            "60000/60000 [==============================] - 3s 58us/sample - loss: 0.0177 - accuracy: 0.9937\n",
            "10000/10000 [==============================] - 0s 35us/sample - loss: 0.0218 - accuracy: 0.9927\n"
          ],
          "name": "stdout"
        },
        {
          "output_type": "execute_result",
          "data": {
            "text/plain": [
              "[0.02180494247772458, 0.9927]"
            ]
          },
          "metadata": {
            "tags": []
          },
          "execution_count": 2
        }
      ]
    }
  ]
}