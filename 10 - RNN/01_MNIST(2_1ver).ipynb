{
  "nbformat": 4,
  "nbformat_minor": 0,
  "metadata": {
    "colab": {
      "name": "01.MNIST(2.1ver).ipynb",
      "provenance": [],
      "collapsed_sections": [],
      "authorship_tag": "ABX9TyP39O5PVy9nI9SGhTS8Bcyd",
      "include_colab_link": true
    },
    "kernelspec": {
      "name": "python3",
      "display_name": "Python 3"
    },
    "accelerator": "GPU"
  },
  "cells": [
    {
      "cell_type": "markdown",
      "metadata": {
        "id": "view-in-github",
        "colab_type": "text"
      },
      "source": [
        "<a href=\"https://colab.research.google.com/github/ii200400/Tensorflow_Tutorial/blob/master/10%20-%20RNN/01_MNIST(2_1ver).ipynb\" target=\"_parent\"><img src=\"https://colab.research.google.com/assets/colab-badge.svg\" alt=\"Open In Colab\"/></a>"
      ]
    },
    {
      "cell_type": "markdown",
      "metadata": {
        "id": "qYgtj7z1EpVH",
        "colab_type": "text"
      },
      "source": [
        "# 개요\n",
        "\n",
        "MNIST(손글씨 숫자 인식) 문제를 RNN 신경망으로 풀어보기\n",
        "\n",
        "[텐서플로우 rnn 튜토리얼 참고](https://www.tensorflow.org/guide/keras/rnn)"
      ]
    },
    {
      "cell_type": "code",
      "metadata": {
        "id": "jVzFZikIF75b",
        "colab_type": "code",
        "colab": {
          "base_uri": "https://localhost:8080/",
          "height": 34
        },
        "outputId": "0901c1eb-bbb5-4d22-d28a-afedd4c58f53"
      },
      "source": [
        "%tensorflow_version 2.x\n",
        "\n",
        "import tensorflow as tf\n",
        "import matplotlib.pyplot as plt"
      ],
      "execution_count": null,
      "outputs": [
        {
          "output_type": "stream",
          "text": [
            "TensorFlow 2.x selected.\n"
          ],
          "name": "stdout"
        }
      ]
    },
    {
      "cell_type": "markdown",
      "metadata": {
        "id": "FM64tyMnwcYn",
        "colab_type": "text"
      },
      "source": [
        "## 데이터 정의\n",
        "\n",
        "RNN은 순서가 있는 데이터를 넣어주어야 하므로 MNIST의 이미지들을 가로 한 줄씩(28픽셀) 28번 넣어줄 것이다."
      ]
    },
    {
      "cell_type": "code",
      "metadata": {
        "id": "FsiC_YXcwfdp",
        "colab_type": "code",
        "colab": {}
      },
      "source": [
        "mnist = tf.keras.datasets.mnist\n",
        "\n",
        "(x_train, y_train), (x_test, y_test) = mnist.load_data()\n",
        "x_train, x_test = x_train.astype('float32') / 255, x_test.astype('float32') / 255\n",
        "y_train, y_test = tf.one_hot(y_train, 10), tf.one_hot(y_test, 10)"
      ],
      "execution_count": null,
      "outputs": []
    },
    {
      "cell_type": "markdown",
      "metadata": {
        "id": "vRZrdZd_wiLQ",
        "colab_type": "text"
      },
      "source": [
        "## 모델 구성"
      ]
    },
    {
      "cell_type": "markdown",
      "metadata": {
        "id": "i1_C5av4wkvA",
        "colab_type": "text"
      },
      "source": [
        "### 옵션 설정"
      ]
    },
    {
      "cell_type": "code",
      "metadata": {
        "id": "xQ29moduwmIb",
        "colab_type": "code",
        "colab": {}
      },
      "source": [
        "# 위에서 말한 대로 순서가 있는 데이터로 만들어서 \n",
        "# 한 번에 28개의 픽셀과 28번의 입력(step)이 있도록 설정한다.\n",
        "n_input = 28\n",
        "n_step = 28\n",
        "n_hidden = 128\n",
        "n_class = 10\n",
        "\n",
        "learning_rate = 0.001\n",
        "epochs = 10\n",
        "batch_size = 128"
      ],
      "execution_count": null,
      "outputs": []
    },
    {
      "cell_type": "markdown",
      "metadata": {
        "id": "TaglAxGOZsSB",
        "colab_type": "text"
      },
      "source": [
        "### 신경망 구성"
      ]
    },
    {
      "cell_type": "code",
      "metadata": {
        "id": "x2LnKl5WlKJN",
        "colab_type": "code",
        "colab": {
          "base_uri": "https://localhost:8080/",
          "height": 228
        },
        "outputId": "25e9fb48-4098-4860-e161-86803af15611"
      },
      "source": [
        "def make_rnn():\n",
        "  cell = tf.keras.layers.SimpleRNNCell(n_hidden)\n",
        "\n",
        "  model = tf.keras.Sequential([\n",
        "    tf.keras.layers.RNN(cell, dtype=tf.float32, input_shape=(n_step, n_input)),\n",
        "    tf.keras.layers.Dense(n_class, activation='softmax')\n",
        "  ])\n",
        "\n",
        "  return model\n",
        "\n",
        "rnn = make_rnn()\n",
        "rnn.summary()"
      ],
      "execution_count": null,
      "outputs": [
        {
          "output_type": "stream",
          "text": [
            "Model: \"sequential\"\n",
            "_________________________________________________________________\n",
            "Layer (type)                 Output Shape              Param #   \n",
            "=================================================================\n",
            "rnn (RNN)                    (None, 128)               20096     \n",
            "_________________________________________________________________\n",
            "dense (Dense)                (None, 10)                1290      \n",
            "=================================================================\n",
            "Total params: 21,386\n",
            "Trainable params: 21,386\n",
            "Non-trainable params: 0\n",
            "_________________________________________________________________\n"
          ],
          "name": "stdout"
        }
      ]
    },
    {
      "cell_type": "markdown",
      "metadata": {
        "id": "wmXtaHvX7x1P",
        "colab_type": "text"
      },
      "source": [
        "### 비용 및 최적화 설정"
      ]
    },
    {
      "cell_type": "code",
      "metadata": {
        "id": "TRaLPt8a72jN",
        "colab_type": "code",
        "colab": {}
      },
      "source": [
        "rnn.compile(optimizer=tf.optimizers.Adam(learning_rate=learning_rate),\n",
        "            loss=tf.keras.losses.binary_crossentropy,\n",
        "            metrics = ['accuracy'])"
      ],
      "execution_count": null,
      "outputs": []
    },
    {
      "cell_type": "markdown",
      "metadata": {
        "id": "2RsgBkUn3ShQ",
        "colab_type": "text"
      },
      "source": [
        "### 모델 학습"
      ]
    },
    {
      "cell_type": "code",
      "metadata": {
        "id": "fKOCzbhN3RY5",
        "colab_type": "code",
        "colab": {
          "base_uri": "https://localhost:8080/",
          "height": 404
        },
        "outputId": "b260d345-51bd-47d0-dd69-5d456a806f6b"
      },
      "source": [
        "rnn.fit(x=x_train,\n",
        "        y=y_train,\n",
        "        batch_size=batch_size,\n",
        "        epochs=epochs)"
      ],
      "execution_count": null,
      "outputs": [
        {
          "output_type": "stream",
          "text": [
            "Train on 60000 samples\n",
            "Epoch 1/10\n",
            "60000/60000 [==============================] - 13s 210us/sample - loss: 0.1476 - accuracy: 0.9464\n",
            "Epoch 2/10\n",
            "60000/60000 [==============================] - 12s 198us/sample - loss: 0.0512 - accuracy: 0.9842\n",
            "Epoch 3/10\n",
            "60000/60000 [==============================] - 12s 194us/sample - loss: 0.0364 - accuracy: 0.9889\n",
            "Epoch 4/10\n",
            "60000/60000 [==============================] - 12s 192us/sample - loss: 0.0303 - accuracy: 0.9908\n",
            "Epoch 5/10\n",
            "60000/60000 [==============================] - 12s 193us/sample - loss: 0.0264 - accuracy: 0.9921\n",
            "Epoch 6/10\n",
            "60000/60000 [==============================] - 12s 194us/sample - loss: 0.0242 - accuracy: 0.9927\n",
            "Epoch 7/10\n",
            "60000/60000 [==============================] - 11s 190us/sample - loss: 0.0215 - accuracy: 0.9934\n",
            "Epoch 8/10\n",
            "60000/60000 [==============================] - 12s 193us/sample - loss: 0.0203 - accuracy: 0.9939\n",
            "Epoch 9/10\n",
            "60000/60000 [==============================] - 12s 192us/sample - loss: 0.0190 - accuracy: 0.9944\n",
            "Epoch 10/10\n",
            "60000/60000 [==============================] - 12s 192us/sample - loss: 0.0180 - accuracy: 0.9945\n"
          ],
          "name": "stdout"
        },
        {
          "output_type": "execute_result",
          "data": {
            "text/plain": [
              "<tensorflow.python.keras.callbacks.History at 0x7ff630860198>"
            ]
          },
          "metadata": {
            "tags": []
          },
          "execution_count": 6
        }
      ]
    },
    {
      "cell_type": "markdown",
      "metadata": {
        "id": "0Qm8UkCoPfm1",
        "colab_type": "text"
      },
      "source": [
        "### 모델 테스트"
      ]
    },
    {
      "cell_type": "code",
      "metadata": {
        "id": "DSJR19csPj4F",
        "colab_type": "code",
        "colab": {
          "base_uri": "https://localhost:8080/",
          "height": 114
        },
        "outputId": "b374c36a-7038-4084-9523-3943f8b3a4e5"
      },
      "source": [
        "sample_size = 10\n",
        "test_image = x_test[:sample_size]\n",
        "test_label = y_test[:sample_size]\n",
        "\n",
        "samples = rnn(x_test)\n",
        "\n",
        "fig, ax = plt.subplots(1, sample_size, figsize=(sample_size, 1))\n",
        "\n",
        "for i in range(sample_size):\n",
        "  ax[i].set_axis_off()\n",
        "  ax[i].imshow(test_image[i])\n",
        "  ax[i].set_title(tf.argmax(samples[i]).numpy())\n",
        "\n",
        "plt.show()"
      ],
      "execution_count": null,
      "outputs": [
        {
          "output_type": "display_data",
          "data": {
            "image/png": "[encoded data removed]",
            "text/plain": [
              "<Figure size 2160x72 with 30 Axes>"
            ]
          },
          "metadata": {
            "tags": []
          }
        }
      ]
    },
    {
      "cell_type": "markdown",
      "metadata": {
        "id": "ly9xDPJ0PkbF",
        "colab_type": "text"
      },
      "source": [
        "## 전체 코드"
      ]
    },
    {
      "cell_type": "code",
      "metadata": {
        "id": "oV5fgTdcPmqx",
        "colab_type": "code",
        "colab": {}
      },
      "source": [
        "%tensorflow_version 2.x\n",
        "\n",
        "import tensorflow as tf\n",
        "import matplotlib.pyplot as plt\n",
        "\n",
        "mnist = tf.keras.datasets.mnist\n",
        "\n",
        "(x_train, y_train), (x_test, y_test) = mnist.load_data()\n",
        "x_train, x_test = x_train.astype('float32') / 255, x_test.astype('float32') / 255\n",
        "y_train, y_test = tf.one_hot(y_train, 10), tf.one_hot(y_test, 10)\n",
        "\n",
        "#########\n",
        "# 옵션 설정\n",
        "######\n",
        "\n",
        "n_input = 28\n",
        "n_step = 28\n",
        "n_hidden = 128\n",
        "n_class = 10\n",
        "\n",
        "learning_rate = 0.001\n",
        "epochs = 10\n",
        "batch_size = 128\n",
        "\n",
        "#########\n",
        "# 신경망 모델 구성\n",
        "######\n",
        "\n",
        "def make_rnn():\n",
        "  cell = tf.keras.layers.SimpleRNNCell(n_hidden)\n",
        "\n",
        "  model = tf.keras.Sequential([\n",
        "    tf.keras.layers.RNN(cell, dtype=tf.float32, input_shape=(n_step, n_input)),\n",
        "    tf.keras.layers.Dense(n_class, activation='sigmoid')\n",
        "  ])\n",
        "\n",
        "  return model\n",
        "\n",
        "rnn = make_rnn()\n",
        "# rnn.summary()\n",
        "\n",
        "rnn.compile(optimizer=tf.optimizers.Adam(learning_rate=learning_rate),\n",
        "            loss=tf.keras.losses.binary_crossentropy,\n",
        "            metrics = ['accuracy'])\n",
        "\n",
        "\n",
        "#########\n",
        "# 신경망 모델 학습\n",
        "######\n",
        "\n",
        "rnn.fit(x=x_train,\n",
        "        y=y_train,\n",
        "        batch_size=batch_size,\n",
        "        epochs=epochs)\n",
        "\n",
        "#########\n",
        "# 결과 확인\n",
        "######\n",
        "\n",
        "sample_size = 30\n",
        "test_image = x_test[:sample_size]\n",
        "test_label = y_test[:sample_size]\n",
        "\n",
        "samples = rnn(x_test)\n",
        "\n",
        "fig, ax = plt.subplots(1, sample_size, figsize=(sample_size, 1))\n",
        "\n",
        "for i in range(sample_size):\n",
        "  ax[i].set_axis_off()\n",
        "  ax[i].imshow(test_image[i])\n",
        "  ax[i].set_title(tf.argmax(samples[i]).numpy())\n",
        "\n",
        "plt.show()"
      ],
      "execution_count": null,
      "outputs": []
    }
  ]
}